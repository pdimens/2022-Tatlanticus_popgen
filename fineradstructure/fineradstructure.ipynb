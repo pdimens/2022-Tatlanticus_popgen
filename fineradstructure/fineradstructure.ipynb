{
 "cells": [
  {
   "cell_type": "markdown",
   "metadata": {},
   "source": [
    "# fineRADstructure Analysis"
   ]
  },
  {
   "cell_type": "markdown",
   "metadata": {},
   "source": [
    "## File conversion\n",
    "The fineRADstructure input file has to be created using `populations` from the STACKS software\n",
    "```bash\n",
    "populations -V bft.kinrm.vcf.gz --popmap bft.popmap --radpainter --out-path .\n",
    "```\n",
    "The converstion process removed some loci. There are 1187 loci remaining in `bft.kinrm.radpainter`"
   ]
  },
  {
   "cell_type": "markdown",
   "metadata": {},
   "source": [
    "## Run RADpainter\n",
    "RADpainter was run with standard parameters\n",
    "```bash\n",
    "RADpainter paint bft.kinrm.radpainter\n",
    "```"
   ]
  },
  {
   "cell_type": "markdown",
   "metadata": {},
   "source": [
    "## Run finestructure\n",
    "```bash\n",
    "finestructure -x 100000 -y 100000 -z 1000 bft.kinrm_chunks.out bft.kinrm_chunks.mcmc.xml\n",
    "```"
   ]
  },
  {
   "cell_type": "markdown",
   "metadata": {},
   "source": [
    "## Tree building\n",
    "```bash\n",
    "finestructure -m T -x 10000 bft.kinrm_chunks.out bft.kinrm_chunks.mcmc.xml bft.kinrm_chunks.mcmcTree.xml\n",
    "```"
   ]
  },
  {
   "cell_type": "markdown",
   "metadata": {},
   "source": [
    "## Plot results\n",
    "The remainder of the code below is adapted from the [fineRADstructure repository](https://raw.githubusercontent.com/millanek/fineRADstructure/master/fineRADstructurePlot.R)"
   ]
  },
  {
   "cell_type": "code",
   "execution_count": 21,
   "metadata": {
    "vscode": {
     "languageId": "r"
    }
   },
   "outputs": [],
   "source": [
    "source(\"FinestructureLibrary.R\", chdir = TRUE)"
   ]
  },
  {
   "cell_type": "code",
   "execution_count": 22,
   "metadata": {
    "vscode": {
     "languageId": "r"
    }
   },
   "outputs": [],
   "source": [
    "## A simple R example for plotting fineRADstructure output\n",
    "## Author: Milan Malinsky (millanek@gmail.com), adapted from a Finestructure R Example by Daniel Lawson (dan.lawson@bristol.ac.uk) and using his library of R functions\n",
    "## Date: 04/04/2016\n",
    "chunkfile<-\"bft.cleannames.fs.out\" ## RADpainter output file\n",
    "mcmcfile<-\"bft.cleannames.fs.mcmc.xml\" ## finestructure mcmc file\n",
    "treefile<-\"bft.cleannames.mcmcTree.xml\" ## finestructure tree file\n",
    "maxIndv <- 10000\n",
    "maxPop<-10000"
   ]
  },
  {
   "cell_type": "markdown",
   "metadata": {},
   "source": [
    "Setup colours\n"
   ]
  },
  {
   "cell_type": "code",
   "execution_count": 75,
   "metadata": {
    "vscode": {
     "languageId": "r"
    }
   },
   "outputs": [],
   "source": [
    "some.colors<-MakeColorYRP()\n",
    "# as above, but with a dark grey final for capped values\n",
    "some.colorsEnd<-MakeColorYRP(final=c(0.2,0.2,0.2)) \n",
    "some.colorsEnd <- rev(heat.colors(30))"
   ]
  },
  {
   "cell_type": "markdown",
   "metadata": {},
   "source": [
    "Read in the files"
   ]
  },
  {
   "cell_type": "code",
   "execution_count": 24,
   "metadata": {
    "vscode": {
     "languageId": "r"
    }
   },
   "outputs": [],
   "source": [
    "# read in the pairwise coincidence \n",
    "dataraw<-as.matrix(read.table(chunkfile,row.names=1,header=T,skip=1))\n",
    "# read into xml format\n",
    "mcmcxml<-xmlTreeParse(mcmcfile)\n",
    "# convert this into a data frame\n",
    "mcmcdata<-as.data.frame.myres(mcmcxml)\n",
    "# read the tree as xml format\n",
    "treexml<-xmlTreeParse(treefile)\n",
    "# extract the tree into ape's phylo format\n",
    "ttree<-extractTree(treexml)"
   ]
  },
  {
   "cell_type": "code",
   "execution_count": 25,
   "metadata": {
    "vscode": {
     "languageId": "r"
    }
   },
   "outputs": [],
   "source": [
    "# Reduce the amount of significant digits printed in the posteror assignment probabilities (numbers shown in the tree):\n",
    "ttree$node.label[ttree$node.label!=\"\"] <-format(as.numeric(ttree$node.label[ttree$node.label!=\"\"]),digits=2)\n",
    "# convert to dendrogram format\n",
    "tdend<-myapetodend(ttree,factor=1)"
   ]
  },
  {
   "cell_type": "markdown",
   "metadata": {},
   "source": [
    "#### Modifying MAP state"
   ]
  },
  {
   "cell_type": "code",
   "execution_count": 26,
   "metadata": {
    "vscode": {
     "languageId": "r"
    }
   },
   "outputs": [],
   "source": [
    "# map state as a finestructure clustering\n",
    "mapstate<-extractValue(treexml,\"Pop\")\n",
    "\n",
    "# map state as a list of individuals in populations\n",
    "mapstatelist<-popAsList(mapstate)\n",
    "\n",
    "# population names in a reversible/lossless format\n",
    "popnames<-lapply(mapstatelist,NameSummary)\n",
    "## NOTE: if your population labels don't correspond to the format we used (NAME<number>) YOU MAY HAVE TROUBLE HERE. YOU MAY NEED TO RENAME THEM INTO THIS FORM AND DEFINE YOUR POPULATION NAMES IN popnamesplot BELOW\n",
    "# a nicer summary of the populations\n",
    "popnamesplot<-lapply(mapstatelist,NameMoreSummary)\n",
    "popnamesplot <- lapply(popnamesplot, function(x){gsub(\"[0-9]+\", \"\", x)})\n",
    "names(popnames)<-popnamesplot\n",
    "names(popnamesplot)<-popnamesplot\n",
    "# use NameSummary to make popdend\n",
    "popdend<-makemydend(tdend,mapstatelist)\n",
    "# needed for obscure dendrogram reasons\n",
    "popdend<-fixMidpointMembers(popdend)\n",
    "# use NameMoreSummary to make popdend\n",
    "popdendclear<-makemydend(tdend,mapstatelist,\"NameMoreSummary\")\n",
    "# needed for obscure dendrogram reasons\n",
    "popdendclear<-fixMidpointMembers(popdendclear)"
   ]
  },
  {
   "cell_type": "markdown",
   "metadata": {},
   "source": [
    "### Dendrogram"
   ]
  },
  {
   "cell_type": "code",
   "execution_count": 43,
   "metadata": {
    "vscode": {
     "languageId": "r"
    }
   },
   "outputs": [
    {
     "data": {
      "text/html": [
       "<strong>png:</strong> 2"
      ],
      "text/latex": [
       "\\textbf{png:} 2"
      ],
      "text/markdown": [
       "**png:** 2"
      ],
      "text/plain": [
       "png \n",
       "  2 "
      ]
     },
     "metadata": {},
     "output_type": "display_data"
    },
    {
     "data": {
      "image/png": "[encoded data removed]",
      "text/plain": [
       "plot without title"
      ]
     },
     "metadata": {
      "image/png": {
       "height": 420,
       "width": 420
      }
     },
     "output_type": "display_data"
    }
   ],
   "source": [
    "plot(tdend, axes = F)\n",
    "pdf(file=\"SimpleFullDendrogram.pdf\",height=6,width=35)\n",
    "par(mar = c(4, 0, 0.5, 0))\n",
    "plot(tdend, cex = 0.05, axes = F)\n",
    "dev.off()"
   ]
  },
  {
   "cell_type": "markdown",
   "metadata": {},
   "source": [
    "### Population Tree"
   ]
  },
  {
   "cell_type": "code",
   "execution_count": 52,
   "metadata": {
    "vscode": {
     "languageId": "r"
    }
   },
   "outputs": [
    {
     "data": {
      "text/html": [
       "<strong>png:</strong> 2"
      ],
      "text/latex": [
       "\\textbf{png:} 2"
      ],
      "text/markdown": [
       "**png:** 2"
      ],
      "text/plain": [
       "png \n",
       "  2 "
      ]
     },
     "metadata": {},
     "output_type": "display_data"
    },
    {
     "data": {
      "image/png": "[encoded data removed]",
      "text/plain": [
       "plot without title"
      ]
     },
     "metadata": {
      "image/png": {
       "height": 420,
       "width": 420
      }
     },
     "output_type": "display_data"
    }
   ],
   "source": [
    "plot(popdendclear, axes = F, cex = 0.4, horiz = T)\n",
    "pdf(file=\"PopulationDendrogram.pdf\",height=6,width=20)\n",
    "par(mar = c(0, 0, 0, 20))\n",
    "plot(popdendclear, axes = F, cex = 0.4, horiz = T)\n",
    "dev.off()"
   ]
  },
  {
   "cell_type": "markdown",
   "metadata": {},
   "source": [
    "### Coancestry Matrix"
   ]
  },
  {
   "cell_type": "code",
   "execution_count": 81,
   "metadata": {
    "vscode": {
     "languageId": "r"
    }
   },
   "outputs": [],
   "source": [
    "# the order according to the tree\n",
    "fullorder<-labels(tdend)\n",
    "# reorder the data matrix\n",
    "datamatrix<-dataraw[fullorder,fullorder]\n",
    "tmpmat<-datamatrix \n",
    "# cap the heatmap\n",
    "tmpmat[tmpmat>maxIndv]<-maxIndv"
   ]
  },
  {
   "cell_type": "markdown",
   "metadata": {},
   "source": [
    "The plot"
   ]
  },
  {
   "cell_type": "code",
   "execution_count": 82,
   "metadata": {
    "vscode": {
     "languageId": "r"
    }
   },
   "outputs": [
    {
     "data": {
      "text/html": [
       "<strong>png:</strong> 2"
      ],
      "text/latex": [
       "\\textbf{png:} 2"
      ],
      "text/markdown": [
       "**png:** 2"
      ],
      "text/plain": [
       "png \n",
       "  2 "
      ]
     },
     "metadata": {},
     "output_type": "display_data"
    }
   ],
   "source": [
    "pdf(file=\"SimpleCoancestry.pdf\",height=25,width=25)\n",
    "plotFinestructure(tmpmat,dimnames(tmpmat)[[1]],dend=tdend,cols=some.colorsEnd,cex.axis=1.1,edgePar=list(p.lwd=0,t.srt=90,t.off=-0.1,t.cex=1.2))\n",
    "dev.off()"
   ]
  },
  {
   "cell_type": "markdown",
   "metadata": {},
   "source": [
    "### Populations and Coancestry Averages\n"
   ]
  },
  {
   "cell_type": "code",
   "execution_count": 83,
   "metadata": {
    "vscode": {
     "languageId": "r"
    }
   },
   "outputs": [],
   "source": [
    "popmeanmatrix<-getPopMeanMatrix(datamatrix,mapstatelist)\n",
    "tmpmat<-popmeanmatrix\n",
    "# cap the heatmap\n",
    "tmpmat[tmpmat>maxPop]<-maxPop"
   ]
  },
  {
   "cell_type": "markdown",
   "metadata": {},
   "source": [
    "The plot"
   ]
  },
  {
   "cell_type": "code",
   "execution_count": 84,
   "metadata": {
    "vscode": {
     "languageId": "r"
    }
   },
   "outputs": [
    {
     "data": {
      "text/html": [
       "<strong>png:</strong> 2"
      ],
      "text/latex": [
       "\\textbf{png:} 2"
      ],
      "text/markdown": [
       "**png:** 2"
      ],
      "text/plain": [
       "png \n",
       "  2 "
      ]
     },
     "metadata": {},
     "output_type": "display_data"
    }
   ],
   "source": [
    "pdf(file=\"PopAveragedCoancestry.pdf\",height=20,width=20)\n",
    "plotFinestructure(tmpmat,dimnames(tmpmat)[[1]],dend=tdend,cols=some.colorsEnd,cex.axis=1.1,edgePar=list(p.lwd=0,t.srt=90,t.off=-0.1,t.cex=1.2))\n",
    "dev.off()"
   ]
  }
 ],
 "metadata": {
  "kernelspec": {
   "display_name": "R",
   "language": "R",
   "name": "ir"
  },
  "language_info": {
   "codemirror_mode": "r",
   "file_extension": ".r",
   "mimetype": "text/x-r-source",
   "name": "R",
   "pygments_lexer": "r",
   "version": "4.1.2"
  },
  "orig_nbformat": 4
 },
 "nbformat": 4,
 "nbformat_minor": 2
}

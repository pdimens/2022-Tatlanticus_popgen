{
 "cells": [
  {
   "cell_type": "markdown",
   "metadata": {},
   "source": [
    "# Process BayeScan outlier test\n",
    "Outlier analysis performed on 10kb thinned kin-removed data\n",
    "```bash\n",
    "BayeScan2.1 $1 \\\n",
    "\t-o bft_bscan \\\n",
    "\t-n 15000 \\\n",
    "\t-pilot 15000 \\\n",
    "\t-burn 100000 \\\n",
    "\t-pr_odds 100 \\\n",
    "\t-threads $2 \\\n",
    "```"
   ]
  },
  {
   "cell_type": "markdown",
   "metadata": {},
   "source": [
    "#### Plot function provided by Bayescan"
   ]
  },
  {
   "cell_type": "code",
   "execution_count": 1,
   "metadata": {
    "vscode": {
     "languageId": "r"
    }
   },
   "outputs": [],
   "source": [
    "plot_bayescan<-function(res,FDR=0.05,size=1,pos=0.35,highlight=NULL,name_highlighted=F,add_text=T){\n",
    "    if (is.character(res))\n",
    "    res=read.table(res)\n",
    "\n",
    "    colfstat=5\n",
    "    colq=colfstat-2\n",
    "\n",
    "    highlight_rows=which(is.element(as.numeric(row.names(res)),highlight))\n",
    "    non_highlight_rows=setdiff(1:nrow(res),highlight_rows)\n",
    "\n",
    "    outliers=as.integer(row.names(res[res[,colq]<=FDR,]))\n",
    "\n",
    "    ok_outliers=TRUE\n",
    "    if (sum(res[,colq]<=FDR)==0)\n",
    "        ok_outliers=FALSE;\n",
    "\n",
    "    res[res[,colq]<=0.0001,colq]=0.0001\n",
    "\n",
    "    # plot\n",
    "    plot(log10(res[,colq]),res[,colfstat],xlim=rev(range(log10(res[,colq]))),xlab=\"log10(q value)\",ylab=names(res[colfstat]),type=\"n\")\n",
    "    points(log10(res[non_highlight_rows,colq]),res[non_highlight_rows,colfstat],pch=19,cex=size)\n",
    "\n",
    "    if (name_highlighted) {\n",
    "        if (length(highlight_rows)>0) {\n",
    "            text(log10(res[highlight_rows,colq]),res[highlight_rows,colfstat],row.names(res[highlight_rows,]),col=\"red\",cex=size*1.2,font=2)\n",
    "        }\n",
    "    }\n",
    "    else {\n",
    "        points(log10(res[highlight_rows,colq]),res[highlight_rows,colfstat],col=\"red\",pch=19,cex=size)\n",
    "        # add names of loci over p and vertical line\n",
    "        if (ok_outliers & add_text) {\n",
    "            text(log10(res[res[,colq]<=FDR,][,colq])+pos*(round(runif(nrow(res[res[,colq]<=FDR,]),1,2))*2-3),res[res[,colq]<=FDR,][,colfstat],row.names(res[res[,colq]<=FDR,]),cex=size)\n",
    "        }\n",
    "    }\n",
    "    lines(c(log10(FDR),log10(FDR)),c(-1,1),lwd=2)\n",
    "\n",
    "    return(list(\"outliers\"=outliers,\"nb_outliers\"=length(outliers)))\n",
    "}"
   ]
  },
  {
   "cell_type": "markdown",
   "metadata": {},
   "source": [
    "## Setup environment"
   ]
  },
  {
   "cell_type": "code",
   "execution_count": 4,
   "metadata": {
    "vscode": {
     "languageId": "r"
    }
   },
   "outputs": [],
   "source": [
    "library(coda)\n",
    "setwd(\"C:/Users/pdime/Omega/USM PhD/Projects/Active/Blackfin Tuna/Analyses/thinned/outlier_analysis/bayescan\")"
   ]
  },
  {
   "cell_type": "code",
   "execution_count": 20,
   "metadata": {
    "vscode": {
     "languageId": "r"
    }
   },
   "outputs": [],
   "source": [
    "bft_bscan_fst <- read.csv(\"bft_bscan_fst.txt\", sep=\"\")\n",
    "locinames <- readLines(\"../../data/snp.names\")"
   ]
  },
  {
   "cell_type": "markdown",
   "metadata": {},
   "source": [
    "## Check Convergence"
   ]
  },
  {
   "cell_type": "code",
   "execution_count": 10,
   "metadata": {
    "vscode": {
     "languageId": "r"
    }
   },
   "outputs": [
    {
     "data": {
      "image/png": "[encoded data removed]",
      "text/plain": [
       "Plot with title \"Density of Fst1\""
      ]
     },
     "metadata": {
      "image/png": {
       "height": 420,
       "width": 420
      }
     },
     "output_type": "display_data"
    }
   ],
   "source": [
    "chain <- read.table(\"bft_bscan.sel\", header = TRUE)\n",
    "chain <- chain[-c(1)]\n",
    "mc_chain <- mcmc(chain, thin = 10)\n",
    "plot(mc_chain)"
   ]
  },
  {
   "cell_type": "code",
   "execution_count": 11,
   "metadata": {
    "vscode": {
     "languageId": "r"
    }
   },
   "outputs": [
    {
     "data": {
      "text/plain": [
       "\n",
       "Iterations = 1:149981\n",
       "Thinning interval = 10 \n",
       "Number of chains = 1 \n",
       "Sample size per chain = 14999 \n",
       "\n",
       "1. Empirical mean and standard deviation for each variable,\n",
       "   plus standard error of the mean:\n",
       "\n",
       "          Mean             SD       Naive SE Time-series SE \n",
       "     4.610e-01      1.095e-02      8.942e-05      1.316e-04 \n",
       "\n",
       "2. Quantiles for each variable:\n",
       "\n",
       "  2.5%    25%    50%    75%  97.5% \n",
       "0.4395 0.4536 0.4610 0.4685 0.4827 \n"
      ]
     },
     "metadata": {},
     "output_type": "display_data"
    }
   ],
   "source": [
    "summary(mc_chain)"
   ]
  },
  {
   "cell_type": "code",
   "execution_count": 12,
   "metadata": {
    "vscode": {
     "languageId": "r"
    }
   },
   "outputs": [
    {
     "data": {
      "text/html": [
       "<table class=\"dataframe\">\n",
       "<caption>A matrix: 5 × 1 of type dbl</caption>\n",
       "<thead>\n",
       "\t<tr><th></th><th scope=col>Fst1</th></tr>\n",
       "</thead>\n",
       "<tbody>\n",
       "\t<tr><th scope=row>Lag 0</th><td> 1.000000000</td></tr>\n",
       "\t<tr><th scope=row>Lag 10</th><td> 0.353905384</td></tr>\n",
       "\t<tr><th scope=row>Lag 50</th><td> 0.007585884</td></tr>\n",
       "\t<tr><th scope=row>Lag 100</th><td>-0.004635329</td></tr>\n",
       "\t<tr><th scope=row>Lag 500</th><td>-0.004301893</td></tr>\n",
       "</tbody>\n",
       "</table>\n"
      ],
      "text/latex": [
       "A matrix: 5 × 1 of type dbl\n",
       "\\begin{tabular}{r|l}\n",
       "  & Fst1\\\\\n",
       "\\hline\n",
       "\tLag 0 &  1.000000000\\\\\n",
       "\tLag 10 &  0.353905384\\\\\n",
       "\tLag 50 &  0.007585884\\\\\n",
       "\tLag 100 & -0.004635329\\\\\n",
       "\tLag 500 & -0.004301893\\\\\n",
       "\\end{tabular}\n"
      ],
      "text/markdown": [
       "\n",
       "A matrix: 5 × 1 of type dbl\n",
       "\n",
       "| <!--/--> | Fst1 |\n",
       "|---|---|\n",
       "| Lag 0 |  1.000000000 |\n",
       "| Lag 10 |  0.353905384 |\n",
       "| Lag 50 |  0.007585884 |\n",
       "| Lag 100 | -0.004635329 |\n",
       "| Lag 500 | -0.004301893 |\n",
       "\n"
      ],
      "text/plain": [
       "        Fst1        \n",
       "Lag 0    1.000000000\n",
       "Lag 10   0.353905384\n",
       "Lag 50   0.007585884\n",
       "Lag 100 -0.004635329\n",
       "Lag 500 -0.004301893"
      ]
     },
     "metadata": {},
     "output_type": "display_data"
    }
   ],
   "source": [
    "autocorr.diag(mc_chain)\n"
   ]
  },
  {
   "cell_type": "code",
   "execution_count": 13,
   "metadata": {
    "vscode": {
     "languageId": "r"
    }
   },
   "outputs": [
    {
     "data": {
      "text/html": [
       "<strong>Fst1:</strong> 6928.35836197961"
      ],
      "text/latex": [
       "\\textbf{Fst1:} 6928.35836197961"
      ],
      "text/markdown": [
       "**Fst1:** 6928.35836197961"
      ],
      "text/plain": [
       "    Fst1 \n",
       "6928.358 "
      ]
     },
     "metadata": {},
     "output_type": "display_data"
    }
   ],
   "source": [
    "effectiveSize(mc_chain)"
   ]
  },
  {
   "cell_type": "code",
   "execution_count": 14,
   "metadata": {
    "vscode": {
     "languageId": "r"
    }
   },
   "outputs": [
    {
     "data": {
      "text/plain": [
       "\n",
       "Fraction in 1st window = 0.1\n",
       "Fraction in 2nd window = 0.5 \n",
       "\n",
       "  Fst1 \n",
       "0.1523 \n"
      ]
     },
     "metadata": {},
     "output_type": "display_data"
    }
   ],
   "source": [
    "geweke.diag(mc_chain, frac1 = 0.1, frac2 = 0.5)"
   ]
  },
  {
   "cell_type": "code",
   "execution_count": 15,
   "metadata": {
    "vscode": {
     "languageId": "r"
    }
   },
   "outputs": [
    {
     "data": {
      "text/plain": [
       "                                   \n",
       "     Stationarity start     p-value\n",
       "     test         iteration        \n",
       "Fst1 passed       1         0.798  \n",
       "                              \n",
       "     Halfwidth Mean  Halfwidth\n",
       "     test                     \n",
       "Fst1 passed    0.461 0.000258 "
      ]
     },
     "metadata": {},
     "output_type": "display_data"
    }
   ],
   "source": [
    "heidel.diag(mc_chain, eps=0.1, pvalue = 0.05)"
   ]
  },
  {
   "cell_type": "code",
   "execution_count": 25,
   "metadata": {
    "vscode": {
     "languageId": "r"
    }
   },
   "outputs": [
    {
     "data": {
      "image/png": "[encoded data removed]",
      "text/plain": [
       "plot without title"
      ]
     },
     "metadata": {
      "image/png": {
       "height": 420,
       "width": 420
      }
     },
     "output_type": "display_data"
    }
   ],
   "source": [
    "plt <- plot_bayescan(\"bft_bscan_fst.txt\",0,FDR=0.05)"
   ]
  },
  {
   "cell_type": "code",
   "execution_count": 26,
   "metadata": {
    "vscode": {
     "languageId": "r"
    }
   },
   "outputs": [
    {
     "data": {
      "text/html": [
       "<table class=\"dataframe\">\n",
       "<caption>A data.frame: 0 × 5</caption>\n",
       "<thead>\n",
       "\t<tr><th scope=col>prob</th><th scope=col>log10.PO.</th><th scope=col>qval</th><th scope=col>alpha</th><th scope=col>fst</th></tr>\n",
       "\t<tr><th scope=col>&lt;dbl&gt;</th><th scope=col>&lt;dbl&gt;</th><th scope=col>&lt;dbl&gt;</th><th scope=col>&lt;dbl&gt;</th><th scope=col>&lt;dbl&gt;</th></tr>\n",
       "</thead>\n",
       "<tbody>\n",
       "</tbody>\n",
       "</table>\n"
      ],
      "text/latex": [
       "A data.frame: 0 × 5\n",
       "\\begin{tabular}{lllll}\n",
       " prob & log10.PO. & qval & alpha & fst\\\\\n",
       " <dbl> & <dbl> & <dbl> & <dbl> & <dbl>\\\\\n",
       "\\hline\n",
       "\\end{tabular}\n"
      ],
      "text/markdown": [
       "\n",
       "A data.frame: 0 × 5\n",
       "\n",
       "| prob &lt;dbl&gt; | log10.PO. &lt;dbl&gt; | qval &lt;dbl&gt; | alpha &lt;dbl&gt; | fst &lt;dbl&gt; |\n",
       "|---|---|---|---|---|\n",
       "\n"
      ],
      "text/plain": [
       "     prob log10.PO. qval alpha fst"
      ]
     },
     "metadata": {},
     "output_type": "display_data"
    }
   ],
   "source": [
    "outliers <- bft_bscan_fst[bft_bscan_fst$qval<=0.05,]\n",
    "outliers"
   ]
  },
  {
   "cell_type": "markdown",
   "metadata": {},
   "source": [
    "Bayescan did not detect any outliers"
   ]
  }
 ],
 "metadata": {
  "kernelspec": {
   "display_name": "R",
   "language": "R",
   "name": "ir"
  },
  "language_info": {
   "codemirror_mode": "r",
   "file_extension": ".r",
   "mimetype": "text/x-r-source",
   "name": "R",
   "pygments_lexer": "r",
   "version": "4.1.2"
  },
  "orig_nbformat": 4
 },
 "nbformat": 4,
 "nbformat_minor": 2
}

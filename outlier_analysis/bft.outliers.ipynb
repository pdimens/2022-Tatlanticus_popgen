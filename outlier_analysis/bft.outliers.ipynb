{
 "cells": [
  {
   "cell_type": "code",
   "execution_count": 53,
   "id": "d6bb566b-b4e3-4769-8b71-6d2544d0cb12",
   "metadata": {
    "vscode": {
     "languageId": "r"
    }
   },
   "outputs": [
    {
     "data": {
      "text/html": [
       "<table class=\"dataframe\">\n",
       "<caption>A data.frame: 6 × 4</caption>\n",
       "<thead>\n",
       "\t<tr><th></th><th scope=col>LocusName</th><th scope=col>He</th><th scope=col>FST</th><th scope=col>OutlierFlag</th></tr>\n",
       "\t<tr><th></th><th scope=col>&lt;chr&gt;</th><th scope=col>&lt;dbl&gt;</th><th scope=col>&lt;dbl&gt;</th><th scope=col>&lt;lgl&gt;</th></tr>\n",
       "</thead>\n",
       "<tbody>\n",
       "\t<tr><th scope=row>1</th><td>232_pilon_2036 </td><td>0.01916753</td><td>-0.004781964</td><td>FALSE</td></tr>\n",
       "\t<tr><th scope=row>2</th><td>335_pilon_972  </td><td>0.02402047</td><td>-0.003604222</td><td>FALSE</td></tr>\n",
       "\t<tr><th scope=row>3</th><td>341_pilon_1400 </td><td>0.14499328</td><td>-0.000383334</td><td>FALSE</td></tr>\n",
       "\t<tr><th scope=row>4</th><td>536_pilon_3491 </td><td>0.03420425</td><td> 0.009488074</td><td>FALSE</td></tr>\n",
       "\t<tr><th scope=row>5</th><td>794_pilon_11572</td><td>0.03748631</td><td>-0.002508902</td><td>FALSE</td></tr>\n",
       "\t<tr><th scope=row>6</th><td>1009_pilon_1199</td><td>0.02394858</td><td> 0.003266072</td><td>FALSE</td></tr>\n",
       "</tbody>\n",
       "</table>\n"
      ],
      "text/latex": [
       "A data.frame: 6 × 4\n",
       "\\begin{tabular}{r|llll}\n",
       "  & LocusName & He & FST & OutlierFlag\\\\\n",
       "  & <chr> & <dbl> & <dbl> & <lgl>\\\\\n",
       "\\hline\n",
       "\t1 & 232\\_pilon\\_2036  & 0.01916753 & -0.004781964 & FALSE\\\\\n",
       "\t2 & 335\\_pilon\\_972   & 0.02402047 & -0.003604222 & FALSE\\\\\n",
       "\t3 & 341\\_pilon\\_1400  & 0.14499328 & -0.000383334 & FALSE\\\\\n",
       "\t4 & 536\\_pilon\\_3491  & 0.03420425 &  0.009488074 & FALSE\\\\\n",
       "\t5 & 794\\_pilon\\_11572 & 0.03748631 & -0.002508902 & FALSE\\\\\n",
       "\t6 & 1009\\_pilon\\_1199 & 0.02394858 &  0.003266072 & FALSE\\\\\n",
       "\\end{tabular}\n"
      ],
      "text/markdown": [
       "\n",
       "A data.frame: 6 × 4\n",
       "\n",
       "| <!--/--> | LocusName &lt;chr&gt; | He &lt;dbl&gt; | FST &lt;dbl&gt; | OutlierFlag &lt;lgl&gt; |\n",
       "|---|---|---|---|---|\n",
       "| 1 | 232_pilon_2036  | 0.01916753 | -0.004781964 | FALSE |\n",
       "| 2 | 335_pilon_972   | 0.02402047 | -0.003604222 | FALSE |\n",
       "| 3 | 341_pilon_1400  | 0.14499328 | -0.000383334 | FALSE |\n",
       "| 4 | 536_pilon_3491  | 0.03420425 |  0.009488074 | FALSE |\n",
       "| 5 | 794_pilon_11572 | 0.03748631 | -0.002508902 | FALSE |\n",
       "| 6 | 1009_pilon_1199 | 0.02394858 |  0.003266072 | FALSE |\n",
       "\n"
      ],
      "text/plain": [
       "  LocusName       He         FST          OutlierFlag\n",
       "1 232_pilon_2036  0.01916753 -0.004781964 FALSE      \n",
       "2 335_pilon_972   0.02402047 -0.003604222 FALSE      \n",
       "3 341_pilon_1400  0.14499328 -0.000383334 FALSE      \n",
       "4 536_pilon_3491  0.03420425  0.009488074 FALSE      \n",
       "5 794_pilon_11572 0.03748631 -0.002508902 FALSE      \n",
       "6 1009_pilon_1199 0.02394858  0.003266072 FALSE      "
      ]
     },
     "metadata": {},
     "output_type": "display_data"
    }
   ],
   "source": [
    "## Load packages\n",
    "library(ggplot2)\n",
    "library(magrittr)\n",
    "library(dplyr)\n",
    "options(repr.plot.width=20, repr.plot.height=10)\n",
    "#setwd(\"/mnt/Win11/Users/pdime/Documents/Omega/USM PhD/Projects/Active/Blackfin Tuna/Analyses/extramiss/outlier_analyses/\")\n",
    "setwd(\"C:/Users/pdime/Omega/USM PhD/Projects/Active/Blackfin Tuna/Analyses/thinned/outlier_analysis/\")\n",
    "snp.names <- readLines(\"../data/snp.names\")\n",
    "all.fst <- read.csv(\"outflank/outflank.thinned.csv\")[,c(1,2,3,15)]\n",
    "all.fst$LocusName <- gsub(\"\\\\.[0-9]+\", \"\", all.fst$LocusName)\n",
    "head(all.fst)"
   ]
  },
  {
   "cell_type": "markdown",
   "id": "227dadff-8316-46d2-b1bf-0b3bf6f0a2cd",
   "metadata": {},
   "source": [
    "## Bayescan results\n",
    "- Bayescan detected no outlier loci"
   ]
  },
  {
   "cell_type": "markdown",
   "id": "5577c4ad-9858-490d-a4b9-98ae0c28ddff",
   "metadata": {},
   "source": [
    "## outFlank results"
   ]
  },
  {
   "cell_type": "code",
   "execution_count": 5,
   "id": "30297e16-6f49-43f9-9ba2-7199e0e36340",
   "metadata": {
    "vscode": {
     "languageId": "r"
    }
   },
   "outputs": [],
   "source": [
    "outflank <- readLines(\"outflank/outflank.outliers.loci\")"
   ]
  },
  {
   "cell_type": "markdown",
   "id": "7fa26d98",
   "metadata": {},
   "source": [
    "### Baypass results"
   ]
  },
  {
   "cell_type": "code",
   "execution_count": 6,
   "id": "4d61997f-cfb4-4529-9138-2fb04292c046",
   "metadata": {
    "vscode": {
     "languageId": "r"
    }
   },
   "outputs": [],
   "source": [
    "baypass <- readLines(\"baypass/baypass.outliers.loci\")"
   ]
  },
  {
   "cell_type": "markdown",
   "id": "77788eb5",
   "metadata": {},
   "source": [
    "#### Are there any common loci?"
   ]
  },
  {
   "cell_type": "code",
   "execution_count": 10,
   "id": "85b20734",
   "metadata": {
    "vscode": {
     "languageId": "r"
    }
   },
   "outputs": [
    {
     "data": {
      "text/html": [
       "<style>\n",
       ".list-inline {list-style: none; margin:0; padding: 0}\n",
       ".list-inline>li {display: inline-block}\n",
       ".list-inline>li:not(:last-child)::after {content: \"\\00b7\"; padding: 0 .5ex}\n",
       "</style>\n",
       "<ol class=list-inline><li>'102827_pilon_7466'</li><li>'153512_pilon_132'</li></ol>\n"
      ],
      "text/latex": [
       "\\begin{enumerate*}\n",
       "\\item '102827\\_pilon\\_7466'\n",
       "\\item '153512\\_pilon\\_132'\n",
       "\\end{enumerate*}\n"
      ],
      "text/markdown": [
       "1. '102827_pilon_7466'\n",
       "2. '153512_pilon_132'\n",
       "\n",
       "\n"
      ],
      "text/plain": [
       "[1] \"102827_pilon_7466\" \"153512_pilon_132\" "
      ]
     },
     "metadata": {},
     "output_type": "display_data"
    }
   ],
   "source": [
    "both <- intersect(outflank, baypass)\n",
    "both"
   ]
  },
  {
   "cell_type": "code",
   "execution_count": 54,
   "id": "86bf6580-6451-4654-a829-b9518781227e",
   "metadata": {
    "vscode": {
     "languageId": "r"
    }
   },
   "outputs": [
    {
     "data": {
      "text/html": [
       "<table class=\"dataframe\">\n",
       "<caption>A data.frame: 6 × 8</caption>\n",
       "<thead>\n",
       "\t<tr><th></th><th scope=col>LocusName</th><th scope=col>He</th><th scope=col>FST</th><th scope=col>OutlierFlag</th><th scope=col>outlier</th><th scope=col>outflank</th><th scope=col>baypass</th><th scope=col>order</th></tr>\n",
       "\t<tr><th></th><th scope=col>&lt;chr&gt;</th><th scope=col>&lt;dbl&gt;</th><th scope=col>&lt;dbl&gt;</th><th scope=col>&lt;lgl&gt;</th><th scope=col>&lt;ord&gt;</th><th scope=col>&lt;lgl&gt;</th><th scope=col>&lt;lgl&gt;</th><th scope=col>&lt;dbl&gt;</th></tr>\n",
       "</thead>\n",
       "<tbody>\n",
       "\t<tr><th scope=row>1</th><td>232_pilon_2036 </td><td>0.01916753</td><td>-0.004781964</td><td>FALSE</td><td>neutral</td><td>FALSE</td><td>FALSE</td><td>1</td></tr>\n",
       "\t<tr><th scope=row>2</th><td>335_pilon_972  </td><td>0.02402047</td><td>-0.003604222</td><td>FALSE</td><td>neutral</td><td>FALSE</td><td>FALSE</td><td>1</td></tr>\n",
       "\t<tr><th scope=row>3</th><td>341_pilon_1400 </td><td>0.14499328</td><td>-0.000383334</td><td>FALSE</td><td>neutral</td><td>FALSE</td><td>FALSE</td><td>1</td></tr>\n",
       "\t<tr><th scope=row>4</th><td>536_pilon_3491 </td><td>0.03420425</td><td> 0.009488074</td><td>FALSE</td><td>neutral</td><td>FALSE</td><td>FALSE</td><td>1</td></tr>\n",
       "\t<tr><th scope=row>5</th><td>794_pilon_11572</td><td>0.03748631</td><td>-0.002508902</td><td>FALSE</td><td>neutral</td><td>FALSE</td><td>FALSE</td><td>1</td></tr>\n",
       "\t<tr><th scope=row>6</th><td>1009_pilon_1199</td><td>0.02394858</td><td> 0.003266072</td><td>FALSE</td><td>neutral</td><td>FALSE</td><td>FALSE</td><td>1</td></tr>\n",
       "</tbody>\n",
       "</table>\n"
      ],
      "text/latex": [
       "A data.frame: 6 × 8\n",
       "\\begin{tabular}{r|llllllll}\n",
       "  & LocusName & He & FST & OutlierFlag & outlier & outflank & baypass & order\\\\\n",
       "  & <chr> & <dbl> & <dbl> & <lgl> & <ord> & <lgl> & <lgl> & <dbl>\\\\\n",
       "\\hline\n",
       "\t1 & 232\\_pilon\\_2036  & 0.01916753 & -0.004781964 & FALSE & neutral & FALSE & FALSE & 1\\\\\n",
       "\t2 & 335\\_pilon\\_972   & 0.02402047 & -0.003604222 & FALSE & neutral & FALSE & FALSE & 1\\\\\n",
       "\t3 & 341\\_pilon\\_1400  & 0.14499328 & -0.000383334 & FALSE & neutral & FALSE & FALSE & 1\\\\\n",
       "\t4 & 536\\_pilon\\_3491  & 0.03420425 &  0.009488074 & FALSE & neutral & FALSE & FALSE & 1\\\\\n",
       "\t5 & 794\\_pilon\\_11572 & 0.03748631 & -0.002508902 & FALSE & neutral & FALSE & FALSE & 1\\\\\n",
       "\t6 & 1009\\_pilon\\_1199 & 0.02394858 &  0.003266072 & FALSE & neutral & FALSE & FALSE & 1\\\\\n",
       "\\end{tabular}\n"
      ],
      "text/markdown": [
       "\n",
       "A data.frame: 6 × 8\n",
       "\n",
       "| <!--/--> | LocusName &lt;chr&gt; | He &lt;dbl&gt; | FST &lt;dbl&gt; | OutlierFlag &lt;lgl&gt; | outlier &lt;ord&gt; | outflank &lt;lgl&gt; | baypass &lt;lgl&gt; | order &lt;dbl&gt; |\n",
       "|---|---|---|---|---|---|---|---|---|\n",
       "| 1 | 232_pilon_2036  | 0.01916753 | -0.004781964 | FALSE | neutral | FALSE | FALSE | 1 |\n",
       "| 2 | 335_pilon_972   | 0.02402047 | -0.003604222 | FALSE | neutral | FALSE | FALSE | 1 |\n",
       "| 3 | 341_pilon_1400  | 0.14499328 | -0.000383334 | FALSE | neutral | FALSE | FALSE | 1 |\n",
       "| 4 | 536_pilon_3491  | 0.03420425 |  0.009488074 | FALSE | neutral | FALSE | FALSE | 1 |\n",
       "| 5 | 794_pilon_11572 | 0.03748631 | -0.002508902 | FALSE | neutral | FALSE | FALSE | 1 |\n",
       "| 6 | 1009_pilon_1199 | 0.02394858 |  0.003266072 | FALSE | neutral | FALSE | FALSE | 1 |\n",
       "\n"
      ],
      "text/plain": [
       "  LocusName       He         FST          OutlierFlag outlier outflank baypass\n",
       "1 232_pilon_2036  0.01916753 -0.004781964 FALSE       neutral FALSE    FALSE  \n",
       "2 335_pilon_972   0.02402047 -0.003604222 FALSE       neutral FALSE    FALSE  \n",
       "3 341_pilon_1400  0.14499328 -0.000383334 FALSE       neutral FALSE    FALSE  \n",
       "4 536_pilon_3491  0.03420425  0.009488074 FALSE       neutral FALSE    FALSE  \n",
       "5 794_pilon_11572 0.03748631 -0.002508902 FALSE       neutral FALSE    FALSE  \n",
       "6 1009_pilon_1199 0.02394858  0.003266072 FALSE       neutral FALSE    FALSE  \n",
       "  order\n",
       "1 1    \n",
       "2 1    \n",
       "3 1    \n",
       "4 1    \n",
       "5 1    \n",
       "6 1    "
      ]
     },
     "metadata": {},
     "output_type": "display_data"
    }
   ],
   "source": [
    "all.fst$outlier <- \"neutral\"\n",
    "all.fst$outlier[all.fst$LocusName %in% baypass] <- \"baypass\"\n",
    "all.fst$outlier[all.fst$LocusName %in% outflank] <- \"outflank\"\n",
    "all.fst$outflank <- all.fst$outlier == \"outflank\"\n",
    "all.fst$baypass <- all.fst$outlier == \"baypass\"\n",
    "all.fst$outlier[all.fst$LocusName %in% both] <- \"both\"\n",
    "all.fst$outlier <- ordered(all.fst$outlier, levels = c(\"neutral\", \"baypass\", \"outflank\", \"both\"))\n",
    "\n",
    "all.fst %<>%\n",
    "  mutate(order = \n",
    "    case_when(\n",
    "      (outlier == \"neutral\") ~ 1,\n",
    "      (outlier == \"baypass\") ~ 2,\n",
    "      (outlier == \"outflank\") ~ 3,\n",
    "      (outlier == \"both\") ~ 4,\n",
    "    )\n",
    "  ) %>%\n",
    "  arrange(order)\n",
    "head(all.fst)"
   ]
  },
  {
   "cell_type": "code",
   "execution_count": 97,
   "id": "69b50a2b-6702-44a5-915f-2f06b3b5947a",
   "metadata": {
    "vscode": {
     "languageId": "r"
    }
   },
   "outputs": [
    {
     "data": {
      "text/html": [
       "22"
      ],
      "text/latex": [
       "22"
      ],
      "text/markdown": [
       "22"
      ],
      "text/plain": [
       "[1] 22"
      ]
     },
     "metadata": {},
     "output_type": "display_data"
    },
    {
     "data": {
      "text/html": [
       "<style>\n",
       ".list-inline {list-style: none; margin:0; padding: 0}\n",
       ".list-inline>li {display: inline-block}\n",
       ".list-inline>li:not(:last-child)::after {content: \"\\00b7\"; padding: 0 .5ex}\n",
       "</style>\n",
       "<ol class=list-inline><li>'6480_pilon_17463'</li><li>'11179_pilon_1930'</li><li>'11596_pilon_17128'</li><li>'20575_pilon_706'</li><li>'20780_pilon_8971'</li><li>'32478_pilon_15937'</li><li>'32560_pilon_1_8123'</li><li>'35685_pilon_13819'</li><li>'87933_pilon_1351'</li><li>'91228_pilon_1890'</li><li>'97863_pilon_15983'</li><li>'138456_pilon_2465'</li><li>'161105_pilon_7928'</li><li>'191769_pilon_2576'</li><li>'225438_pilon_12554'</li><li>'239201_pilon_920'</li><li>'289075_pilon_3166'</li><li>'221381_pilon_14681'</li><li>'234778_pilon_5121'</li><li>'276240_pilon_2247'</li><li>'295366_pilon_7628'</li><li>'487936_pilon_47'</li></ol>\n"
      ],
      "text/latex": [
       "\\begin{enumerate*}\n",
       "\\item '6480\\_pilon\\_17463'\n",
       "\\item '11179\\_pilon\\_1930'\n",
       "\\item '11596\\_pilon\\_17128'\n",
       "\\item '20575\\_pilon\\_706'\n",
       "\\item '20780\\_pilon\\_8971'\n",
       "\\item '32478\\_pilon\\_15937'\n",
       "\\item '32560\\_pilon\\_1\\_8123'\n",
       "\\item '35685\\_pilon\\_13819'\n",
       "\\item '87933\\_pilon\\_1351'\n",
       "\\item '91228\\_pilon\\_1890'\n",
       "\\item '97863\\_pilon\\_15983'\n",
       "\\item '138456\\_pilon\\_2465'\n",
       "\\item '161105\\_pilon\\_7928'\n",
       "\\item '191769\\_pilon\\_2576'\n",
       "\\item '225438\\_pilon\\_12554'\n",
       "\\item '239201\\_pilon\\_920'\n",
       "\\item '289075\\_pilon\\_3166'\n",
       "\\item '221381\\_pilon\\_14681'\n",
       "\\item '234778\\_pilon\\_5121'\n",
       "\\item '276240\\_pilon\\_2247'\n",
       "\\item '295366\\_pilon\\_7628'\n",
       "\\item '487936\\_pilon\\_47'\n",
       "\\end{enumerate*}\n"
      ],
      "text/markdown": [
       "1. '6480_pilon_17463'\n",
       "2. '11179_pilon_1930'\n",
       "3. '11596_pilon_17128'\n",
       "4. '20575_pilon_706'\n",
       "5. '20780_pilon_8971'\n",
       "6. '32478_pilon_15937'\n",
       "7. '32560_pilon_1_8123'\n",
       "8. '35685_pilon_13819'\n",
       "9. '87933_pilon_1351'\n",
       "10. '91228_pilon_1890'\n",
       "11. '97863_pilon_15983'\n",
       "12. '138456_pilon_2465'\n",
       "13. '161105_pilon_7928'\n",
       "14. '191769_pilon_2576'\n",
       "15. '225438_pilon_12554'\n",
       "16. '239201_pilon_920'\n",
       "17. '289075_pilon_3166'\n",
       "18. '221381_pilon_14681'\n",
       "19. '234778_pilon_5121'\n",
       "20. '276240_pilon_2247'\n",
       "21. '295366_pilon_7628'\n",
       "22. '487936_pilon_47'\n",
       "\n",
       "\n"
      ],
      "text/plain": [
       " [1] \"6480_pilon_17463\"   \"11179_pilon_1930\"   \"11596_pilon_17128\" \n",
       " [4] \"20575_pilon_706\"    \"20780_pilon_8971\"   \"32478_pilon_15937\" \n",
       " [7] \"32560_pilon_1_8123\" \"35685_pilon_13819\"  \"87933_pilon_1351\"  \n",
       "[10] \"91228_pilon_1890\"   \"97863_pilon_15983\"  \"138456_pilon_2465\" \n",
       "[13] \"161105_pilon_7928\"  \"191769_pilon_2576\"  \"225438_pilon_12554\"\n",
       "[16] \"239201_pilon_920\"   \"289075_pilon_3166\"  \"221381_pilon_14681\"\n",
       "[19] \"234778_pilon_5121\"  \"276240_pilon_2247\"  \"295366_pilon_7628\" \n",
       "[22] \"487936_pilon_47\"   "
      ]
     },
     "metadata": {},
     "output_type": "display_data"
    }
   ],
   "source": [
    "putatives <- all.fst %>% filter(He >= 0.1 & (outflank | baypass))\n",
    "length(putatives$LocusName)\n",
    "putatives$LocusName"
   ]
  },
  {
   "cell_type": "code",
   "execution_count": 94,
   "id": "c58f54f4",
   "metadata": {
    "vscode": {
     "languageId": "r"
    }
   },
   "outputs": [],
   "source": [
    "corrected.names <- strsplit(putatives$LocusName, \"_\")\n",
    "corr.names <- FALSE"
   ]
  },
  {
   "cell_type": "markdown",
   "id": "057dc557",
   "metadata": {},
   "source": [
    "Replacing the final underscore with a whitespace will make the locus and positions names suitable for isolation using `vcftools --exclude-positions` and `--positions`."
   ]
  },
  {
   "cell_type": "code",
   "execution_count": 95,
   "id": "da4bf71b",
   "metadata": {
    "vscode": {
     "languageId": "r"
    }
   },
   "outputs": [
    {
     "data": {
      "text/html": [
       "<style>\n",
       ".list-inline {list-style: none; margin:0; padding: 0}\n",
       ".list-inline>li {display: inline-block}\n",
       ".list-inline>li:not(:last-child)::after {content: \"\\00b7\"; padding: 0 .5ex}\n",
       "</style>\n",
       "<ol class=list-inline><li>'6480_pilon 17463'</li><li>'11179_pilon 1930'</li><li>'11596_pilon 17128'</li><li>'20575_pilon 706'</li><li>'20780_pilon 8971'</li><li>'32478_pilon 15937'</li><li>'32560_pilon_1 8123'</li><li>'35685_pilon 13819'</li><li>'87933_pilon 1351'</li><li>'91228_pilon 1890'</li><li>'97863_pilon 15983'</li><li>'138456_pilon 2465'</li><li>'161105_pilon 7928'</li><li>'191769_pilon 2576'</li><li>'225438_pilon 12554'</li><li>'239201_pilon 920'</li><li>'289075_pilon 3166'</li><li>'221381_pilon 14681'</li><li>'234778_pilon 5121'</li><li>'276240_pilon 2247'</li><li>'295366_pilon 7628'</li><li>'487936_pilon 47'</li></ol>\n"
      ],
      "text/latex": [
       "\\begin{enumerate*}\n",
       "\\item '6480\\_pilon 17463'\n",
       "\\item '11179\\_pilon 1930'\n",
       "\\item '11596\\_pilon 17128'\n",
       "\\item '20575\\_pilon 706'\n",
       "\\item '20780\\_pilon 8971'\n",
       "\\item '32478\\_pilon 15937'\n",
       "\\item '32560\\_pilon\\_1 8123'\n",
       "\\item '35685\\_pilon 13819'\n",
       "\\item '87933\\_pilon 1351'\n",
       "\\item '91228\\_pilon 1890'\n",
       "\\item '97863\\_pilon 15983'\n",
       "\\item '138456\\_pilon 2465'\n",
       "\\item '161105\\_pilon 7928'\n",
       "\\item '191769\\_pilon 2576'\n",
       "\\item '225438\\_pilon 12554'\n",
       "\\item '239201\\_pilon 920'\n",
       "\\item '289075\\_pilon 3166'\n",
       "\\item '221381\\_pilon 14681'\n",
       "\\item '234778\\_pilon 5121'\n",
       "\\item '276240\\_pilon 2247'\n",
       "\\item '295366\\_pilon 7628'\n",
       "\\item '487936\\_pilon 47'\n",
       "\\end{enumerate*}\n"
      ],
      "text/markdown": [
       "1. '6480_pilon 17463'\n",
       "2. '11179_pilon 1930'\n",
       "3. '11596_pilon 17128'\n",
       "4. '20575_pilon 706'\n",
       "5. '20780_pilon 8971'\n",
       "6. '32478_pilon 15937'\n",
       "7. '32560_pilon_1 8123'\n",
       "8. '35685_pilon 13819'\n",
       "9. '87933_pilon 1351'\n",
       "10. '91228_pilon 1890'\n",
       "11. '97863_pilon 15983'\n",
       "12. '138456_pilon 2465'\n",
       "13. '161105_pilon 7928'\n",
       "14. '191769_pilon 2576'\n",
       "15. '225438_pilon 12554'\n",
       "16. '239201_pilon 920'\n",
       "17. '289075_pilon 3166'\n",
       "18. '221381_pilon 14681'\n",
       "19. '234778_pilon 5121'\n",
       "20. '276240_pilon 2247'\n",
       "21. '295366_pilon 7628'\n",
       "22. '487936_pilon 47'\n",
       "\n",
       "\n"
      ],
      "text/plain": [
       " [1] \"6480_pilon 17463\"   \"11179_pilon 1930\"   \"11596_pilon 17128\" \n",
       " [4] \"20575_pilon 706\"    \"20780_pilon 8971\"   \"32478_pilon 15937\" \n",
       " [7] \"32560_pilon_1 8123\" \"35685_pilon 13819\"  \"87933_pilon 1351\"  \n",
       "[10] \"91228_pilon 1890\"   \"97863_pilon 15983\"  \"138456_pilon 2465\" \n",
       "[13] \"161105_pilon 7928\"  \"191769_pilon 2576\"  \"225438_pilon 12554\"\n",
       "[16] \"239201_pilon 920\"   \"289075_pilon 3166\"  \"221381_pilon 14681\"\n",
       "[19] \"234778_pilon 5121\"  \"276240_pilon 2247\"  \"295366_pilon 7628\" \n",
       "[22] \"487936_pilon 47\"   "
      ]
     },
     "metadata": {},
     "output_type": "display_data"
    }
   ],
   "source": [
    "for(i in 1:length(corrected.names)){\n",
    "    .string <- corrected.names[[i]]\n",
    "    strlen <- length(.string)\n",
    "    chr <- paste(.string[1:(strlen-1)], collapse = \"_\")\n",
    "    corr.names[i] <- paste(chr, .string[strlen], sep = \" \")\n",
    "}\n",
    "corr.names"
   ]
  },
  {
   "cell_type": "code",
   "execution_count": 96,
   "id": "716ac098",
   "metadata": {
    "vscode": {
     "languageId": "r"
    }
   },
   "outputs": [],
   "source": [
    "write.table(corr.names, file = \"bft.putative.outliers\", row.names = F, col.names = F, quote = F)"
   ]
  },
  {
   "cell_type": "markdown",
   "id": "d448b11e-a8c9-4414-a7d2-7084305dfa95",
   "metadata": {},
   "source": [
    "## The plot"
   ]
  },
  {
   "cell_type": "code",
   "execution_count": 51,
   "id": "4787c5a3-84e2-4921-9603-c9fd81cd30ef",
   "metadata": {
    "vscode": {
     "languageId": "r"
    }
   },
   "outputs": [],
   "source": [
    "mycolors <- c(\"#bbbbbb\",\"#ea3c00\", \"dodgerblue\", \"black\")"
   ]
  },
  {
   "cell_type": "code",
   "execution_count": 60,
   "id": "3fae63cf-52ca-4fde-b248-0eb79e7d0962",
   "metadata": {
    "vscode": {
     "languageId": "r"
    }
   },
   "outputs": [
    {
     "data": {
      "image/png": "[encoded data removed]",
      "text/plain": [
       "plot without title"
      ]
     },
     "metadata": {
      "image/png": {
       "height": 600,
       "width": 1200
      }
     },
     "output_type": "display_data"
    }
   ],
   "source": [
    "all.fst %>%\n",
    "  ggplot(x = He, y = FST) +\n",
    "  geom_point(aes(x = He, y = FST, col = outlier), alpha = 0.7,  size = 4) +\n",
    "  geom_vline(xintercept = 0.1, alpha = 0.65, linetype = \"dashed\", size = 1) +\n",
    "  labs(title = \"Putative Outlier Loci\", x = \"Heterozygosity\", y = \"FST\", color = \"Outlier Detection\", shape = \"Bayescan Detection\") +\n",
    "  scale_color_manual(values = mycolors) +\n",
    "  theme_classic()"
   ]
  },
  {
   "cell_type": "code",
   "execution_count": 61,
   "id": "caeacdaf-a856-4111-9ab3-a9849ebee89d",
   "metadata": {
    "vscode": {
     "languageId": "r"
    }
   },
   "outputs": [],
   "source": [
    "ggsave(\"outliers.png\", height = 6, width = 12, units = \"in\")"
   ]
  }
 ],
 "metadata": {
  "kernelspec": {
   "display_name": "R",
   "language": "R",
   "name": "ir"
  },
  "language_info": {
   "codemirror_mode": "r",
   "file_extension": ".r",
   "mimetype": "text/x-r-source",
   "name": "R",
   "pygments_lexer": "r",
   "version": "4.1.2"
  }
 },
 "nbformat": 4,
 "nbformat_minor": 5
}

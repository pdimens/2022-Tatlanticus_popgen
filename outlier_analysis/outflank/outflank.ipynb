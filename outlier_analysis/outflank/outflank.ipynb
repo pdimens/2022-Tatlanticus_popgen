{
 "cells": [
  {
   "cell_type": "markdown",
   "metadata": {},
   "source": [
    "# outFLANK on Thinned data\n",
    "Perform outFLANK via `R::dartR` on the 10kb thinned kin-removed BFT data."
   ]
  },
  {
   "cell_type": "code",
   "execution_count": 4,
   "metadata": {
    "vscode": {
     "languageId": "r"
    }
   },
   "outputs": [],
   "source": [
    "library(\"dartR\")\n",
    "library(\"ggplot2\")\n",
    "library(\"dplyr\")\n",
    "#setwd(\"~/Omega/USM PhD/Projects/Active/Blackfin Tuna/Analyses/outlier_analyses/outFLANK\")\n",
    "setwd(\"C:/Users/pdime/Omega/USM PhD/Projects/Active/Blackfin Tuna/Analyses/thinned/outlier_analysis/outflank\")"
   ]
  },
  {
   "cell_type": "code",
   "execution_count": 6,
   "metadata": {
    "vscode": {
     "languageId": "r"
    }
   },
   "outputs": [
    {
     "data": {
      "text/plain": [
       "/// GENIND OBJECT /////////\n",
       "\n",
       " // 334 individuals; 1,470 loci; 2,940 alleles; size: 4.7 Mb\n",
       "\n",
       " // Basic content\n",
       "   @tab:  334 x 2940 matrix of allele counts\n",
       "   @loc.n.all: number of alleles per locus (range: 2-2)\n",
       "   @loc.fac: locus factor for the 2940 columns of @tab\n",
       "   @all.names: list of allele names for each locus\n",
       "   @ploidy: ploidy of each individual  (range: 2-2)\n",
       "   @type:  codom\n",
       "   @call: read.genepop(file = file, ncode = 3L, quiet = quiet)\n",
       "\n",
       " // Optional content\n",
       "   @pop: population of each individual (group size range: 14-57)"
      ]
     },
     "metadata": {},
     "output_type": "display_data"
    }
   ],
   "source": [
    "infile <- \"../../data/bft.thinned.gen\"\n",
    "pop_names <- c(\"BRZ\",\"BRZSP\",\"KEY\", \"MRT\", \"PNS\", \"PR\", \"SCA\", \"TX\", \"VZ\")\n",
    "full_dataset <- import2genind(infile, ncode = 3L, quiet = T)\n",
    "popNames(full_dataset) <- pop_names\n",
    "full_dataset"
   ]
  },
  {
   "cell_type": "markdown",
   "metadata": {},
   "source": [
    "## Run outFLANK"
   ]
  },
  {
   "cell_type": "code",
   "execution_count": 7,
   "metadata": {
    "vscode": {
     "languageId": "r"
    }
   },
   "outputs": [
    {
     "name": "stdout",
     "output_type": "stream",
     "text": [
      "\u001b[32mCalculating FSTs, may take a few minutes...\u001b[39m\n"
     ]
    },
    {
     "data": {
      "image/png": "[encoded data removed]",
      "text/plain": [
       "Plot with title \"Fst without sample size correction\""
      ]
     },
     "metadata": {
      "image/png": {
       "height": 420,
       "width": 900
      }
     },
     "output_type": "display_data"
    }
   ],
   "source": [
    "options(repr.plot.width=15, repr.plot.height=7)\n",
    "full_outflnk <- gl.outflank(\n",
    "    full_dataset, \n",
    "    Hmin= 0.01, \n",
    "    qthreshold = 0.05, \n",
    "    LeftTrimFraction = 0.05,\n",
    "    RightTrimFraction = 0.05\n",
    ")"
   ]
  },
  {
   "cell_type": "markdown",
   "metadata": {},
   "source": [
    "## Post processing"
   ]
  },
  {
   "cell_type": "code",
   "execution_count": 8,
   "metadata": {
    "vscode": {
     "languageId": "r"
    }
   },
   "outputs": [
    {
     "data": {
      "text/html": [
       "<table class=\"dataframe\">\n",
       "<caption>A data.frame: 6 × 15</caption>\n",
       "<thead>\n",
       "\t<tr><th></th><th scope=col>LocusName</th><th scope=col>He</th><th scope=col>FST</th><th scope=col>T1</th><th scope=col>T2</th><th scope=col>FSTNoCorr</th><th scope=col>T1NoCorr</th><th scope=col>T2NoCorr</th><th scope=col>meanAlleleFreq</th><th scope=col>indexOrder</th><th scope=col>GoodH</th><th scope=col>qvalues</th><th scope=col>pvalues</th><th scope=col>pvaluesRightTail</th><th scope=col>OutlierFlag</th></tr>\n",
       "\t<tr><th></th><th scope=col>&lt;chr&gt;</th><th scope=col>&lt;dbl&gt;</th><th scope=col>&lt;dbl&gt;</th><th scope=col>&lt;dbl&gt;</th><th scope=col>&lt;dbl&gt;</th><th scope=col>&lt;dbl&gt;</th><th scope=col>&lt;dbl&gt;</th><th scope=col>&lt;dbl&gt;</th><th scope=col>&lt;dbl&gt;</th><th scope=col>&lt;int&gt;</th><th scope=col>&lt;chr&gt;</th><th scope=col>&lt;dbl&gt;</th><th scope=col>&lt;dbl&gt;</th><th scope=col>&lt;dbl&gt;</th><th scope=col>&lt;lgl&gt;</th></tr>\n",
       "</thead>\n",
       "<tbody>\n",
       "\t<tr><th scope=row>2</th><td>232_pilon_2036.001 </td><td>0.01916753</td><td>-0.004781964</td><td>-4.590071e-05</td><td>0.009598715</td><td>0.01494551</td><td>0.0001435033</td><td>0.009601767</td><td>0.9903226</td><td> 2</td><td>goodH</td><td>0.9564066</td><td>0.9704704</td><td>0.4852352</td><td>FALSE</td></tr>\n",
       "\t<tr><th scope=row>4</th><td>335_pilon_972.001  </td><td>0.02402047</td><td>-0.003604222</td><td>-4.333364e-05</td><td>0.012023023</td><td>0.01023098</td><td>0.0001230337</td><td>0.012025603</td><td>0.9878419</td><td> 4</td><td>goodH</td><td>0.9570394</td><td>0.4986088</td><td>0.7506956</td><td>FALSE</td></tr>\n",
       "\t<tr><th scope=row>6</th><td>341_pilon_1400.002 </td><td>0.14499328</td><td>-0.000383334</td><td>-2.783507e-05</td><td>0.072613103</td><td>0.01469874</td><td>0.0010675583</td><td>0.072629223</td><td>0.9213115</td><td> 6</td><td>goodH</td><td>0.9564066</td><td>0.9969645</td><td>0.4984823</td><td>FALSE</td></tr>\n",
       "\t<tr><th scope=row>8</th><td>536_pilon_3491.001 </td><td>0.03420425</td><td> 0.009488074</td><td> 1.627528e-04</td><td>0.017153407</td><td>0.02609587</td><td>0.0004477339</td><td>0.017157269</td><td>0.9825949</td><td> 8</td><td>goodH</td><td>0.7691229</td><td>0.2059966</td><td>0.1029983</td><td>FALSE</td></tr>\n",
       "\t<tr><th scope=row>10</th><td>794_pilon_11572.002</td><td>0.03748631</td><td>-0.002508902</td><td>-4.708385e-05</td><td>0.018766714</td><td>0.01187027</td><td>0.0002228194</td><td>0.018771213</td><td>0.9808917</td><td>10</td><td>goodH</td><td>0.9564066</td><td>0.6840036</td><td>0.6579982</td><td>FALSE</td></tr>\n",
       "\t<tr><th scope=row>12</th><td>1009_pilon_1199.002</td><td>0.02394858</td><td> 0.003266072</td><td> 3.919828e-05</td><td>0.012001659</td><td>0.02038010</td><td>0.0002446598</td><td>0.012004838</td><td>0.9878788</td><td>12</td><td>goodH</td><td>0.9359435</td><td>0.4896557</td><td>0.2448278</td><td>FALSE</td></tr>\n",
       "</tbody>\n",
       "</table>\n"
      ],
      "text/latex": [
       "A data.frame: 6 × 15\n",
       "\\begin{tabular}{r|lllllllllllllll}\n",
       "  & LocusName & He & FST & T1 & T2 & FSTNoCorr & T1NoCorr & T2NoCorr & meanAlleleFreq & indexOrder & GoodH & qvalues & pvalues & pvaluesRightTail & OutlierFlag\\\\\n",
       "  & <chr> & <dbl> & <dbl> & <dbl> & <dbl> & <dbl> & <dbl> & <dbl> & <dbl> & <int> & <chr> & <dbl> & <dbl> & <dbl> & <lgl>\\\\\n",
       "\\hline\n",
       "\t2 & 232\\_pilon\\_2036.001  & 0.01916753 & -0.004781964 & -4.590071e-05 & 0.009598715 & 0.01494551 & 0.0001435033 & 0.009601767 & 0.9903226 &  2 & goodH & 0.9564066 & 0.9704704 & 0.4852352 & FALSE\\\\\n",
       "\t4 & 335\\_pilon\\_972.001   & 0.02402047 & -0.003604222 & -4.333364e-05 & 0.012023023 & 0.01023098 & 0.0001230337 & 0.012025603 & 0.9878419 &  4 & goodH & 0.9570394 & 0.4986088 & 0.7506956 & FALSE\\\\\n",
       "\t6 & 341\\_pilon\\_1400.002  & 0.14499328 & -0.000383334 & -2.783507e-05 & 0.072613103 & 0.01469874 & 0.0010675583 & 0.072629223 & 0.9213115 &  6 & goodH & 0.9564066 & 0.9969645 & 0.4984823 & FALSE\\\\\n",
       "\t8 & 536\\_pilon\\_3491.001  & 0.03420425 &  0.009488074 &  1.627528e-04 & 0.017153407 & 0.02609587 & 0.0004477339 & 0.017157269 & 0.9825949 &  8 & goodH & 0.7691229 & 0.2059966 & 0.1029983 & FALSE\\\\\n",
       "\t10 & 794\\_pilon\\_11572.002 & 0.03748631 & -0.002508902 & -4.708385e-05 & 0.018766714 & 0.01187027 & 0.0002228194 & 0.018771213 & 0.9808917 & 10 & goodH & 0.9564066 & 0.6840036 & 0.6579982 & FALSE\\\\\n",
       "\t12 & 1009\\_pilon\\_1199.002 & 0.02394858 &  0.003266072 &  3.919828e-05 & 0.012001659 & 0.02038010 & 0.0002446598 & 0.012004838 & 0.9878788 & 12 & goodH & 0.9359435 & 0.4896557 & 0.2448278 & FALSE\\\\\n",
       "\\end{tabular}\n"
      ],
      "text/markdown": [
       "\n",
       "A data.frame: 6 × 15\n",
       "\n",
       "| <!--/--> | LocusName &lt;chr&gt; | He &lt;dbl&gt; | FST &lt;dbl&gt; | T1 &lt;dbl&gt; | T2 &lt;dbl&gt; | FSTNoCorr &lt;dbl&gt; | T1NoCorr &lt;dbl&gt; | T2NoCorr &lt;dbl&gt; | meanAlleleFreq &lt;dbl&gt; | indexOrder &lt;int&gt; | GoodH &lt;chr&gt; | qvalues &lt;dbl&gt; | pvalues &lt;dbl&gt; | pvaluesRightTail &lt;dbl&gt; | OutlierFlag &lt;lgl&gt; |\n",
       "|---|---|---|---|---|---|---|---|---|---|---|---|---|---|---|---|\n",
       "| 2 | 232_pilon_2036.001  | 0.01916753 | -0.004781964 | -4.590071e-05 | 0.009598715 | 0.01494551 | 0.0001435033 | 0.009601767 | 0.9903226 |  2 | goodH | 0.9564066 | 0.9704704 | 0.4852352 | FALSE |\n",
       "| 4 | 335_pilon_972.001   | 0.02402047 | -0.003604222 | -4.333364e-05 | 0.012023023 | 0.01023098 | 0.0001230337 | 0.012025603 | 0.9878419 |  4 | goodH | 0.9570394 | 0.4986088 | 0.7506956 | FALSE |\n",
       "| 6 | 341_pilon_1400.002  | 0.14499328 | -0.000383334 | -2.783507e-05 | 0.072613103 | 0.01469874 | 0.0010675583 | 0.072629223 | 0.9213115 |  6 | goodH | 0.9564066 | 0.9969645 | 0.4984823 | FALSE |\n",
       "| 8 | 536_pilon_3491.001  | 0.03420425 |  0.009488074 |  1.627528e-04 | 0.017153407 | 0.02609587 | 0.0004477339 | 0.017157269 | 0.9825949 |  8 | goodH | 0.7691229 | 0.2059966 | 0.1029983 | FALSE |\n",
       "| 10 | 794_pilon_11572.002 | 0.03748631 | -0.002508902 | -4.708385e-05 | 0.018766714 | 0.01187027 | 0.0002228194 | 0.018771213 | 0.9808917 | 10 | goodH | 0.9564066 | 0.6840036 | 0.6579982 | FALSE |\n",
       "| 12 | 1009_pilon_1199.002 | 0.02394858 |  0.003266072 |  3.919828e-05 | 0.012001659 | 0.02038010 | 0.0002446598 | 0.012004838 | 0.9878788 | 12 | goodH | 0.9359435 | 0.4896557 | 0.2448278 | FALSE |\n",
       "\n"
      ],
      "text/plain": [
       "   LocusName           He         FST          T1            T2         \n",
       "2  232_pilon_2036.001  0.01916753 -0.004781964 -4.590071e-05 0.009598715\n",
       "4  335_pilon_972.001   0.02402047 -0.003604222 -4.333364e-05 0.012023023\n",
       "6  341_pilon_1400.002  0.14499328 -0.000383334 -2.783507e-05 0.072613103\n",
       "8  536_pilon_3491.001  0.03420425  0.009488074  1.627528e-04 0.017153407\n",
       "10 794_pilon_11572.002 0.03748631 -0.002508902 -4.708385e-05 0.018766714\n",
       "12 1009_pilon_1199.002 0.02394858  0.003266072  3.919828e-05 0.012001659\n",
       "   FSTNoCorr  T1NoCorr     T2NoCorr    meanAlleleFreq indexOrder GoodH\n",
       "2  0.01494551 0.0001435033 0.009601767 0.9903226       2         goodH\n",
       "4  0.01023098 0.0001230337 0.012025603 0.9878419       4         goodH\n",
       "6  0.01469874 0.0010675583 0.072629223 0.9213115       6         goodH\n",
       "8  0.02609587 0.0004477339 0.017157269 0.9825949       8         goodH\n",
       "10 0.01187027 0.0002228194 0.018771213 0.9808917      10         goodH\n",
       "12 0.02038010 0.0002446598 0.012004838 0.9878788      12         goodH\n",
       "   qvalues   pvalues   pvaluesRightTail OutlierFlag\n",
       "2  0.9564066 0.9704704 0.4852352        FALSE      \n",
       "4  0.9570394 0.4986088 0.7506956        FALSE      \n",
       "6  0.9564066 0.9969645 0.4984823        FALSE      \n",
       "8  0.7691229 0.2059966 0.1029983        FALSE      \n",
       "10 0.9564066 0.6840036 0.6579982        FALSE      \n",
       "12 0.9359435 0.4896557 0.2448278        FALSE      "
      ]
     },
     "metadata": {},
     "output_type": "display_data"
    }
   ],
   "source": [
    "full_outflnk <- full_outflnk$outflank$results\n",
    "\n",
    "## Remove duplicated rows for each SNP\n",
    "toRemove <- seq(1, nrow(full_outflnk), by=2)\n",
    "full_outflnk <- full_outflnk[-toRemove, ]\n",
    "head(full_outflnk)"
   ]
  },
  {
   "cell_type": "markdown",
   "metadata": {},
   "source": [
    "Find which markers are putative outliers"
   ]
  },
  {
   "cell_type": "code",
   "execution_count": 9,
   "metadata": {
    "vscode": {
     "languageId": "r"
    }
   },
   "outputs": [
    {
     "data": {
      "text/html": [
       "36"
      ],
      "text/latex": [
       "36"
      ],
      "text/markdown": [
       "36"
      ],
      "text/plain": [
       "[1] 36"
      ]
     },
     "metadata": {},
     "output_type": "display_data"
    },
    {
     "data": {
      "text/html": [
       "<style>\n",
       ".list-inline {list-style: none; margin:0; padding: 0}\n",
       ".list-inline>li {display: inline-block}\n",
       ".list-inline>li:not(:last-child)::after {content: \"\\00b7\"; padding: 0 .5ex}\n",
       "</style>\n",
       "<ol class=list-inline><li>'5074_pilon_114485'</li><li>'12568_pilon_338'</li><li>'24029_pilon_1017'</li><li>'35537_pilon_10279'</li><li>'37649_pilon_9024'</li><li>'38501_pilon_4358'</li></ol>\n"
      ],
      "text/latex": [
       "\\begin{enumerate*}\n",
       "\\item '5074\\_pilon\\_114485'\n",
       "\\item '12568\\_pilon\\_338'\n",
       "\\item '24029\\_pilon\\_1017'\n",
       "\\item '35537\\_pilon\\_10279'\n",
       "\\item '37649\\_pilon\\_9024'\n",
       "\\item '38501\\_pilon\\_4358'\n",
       "\\end{enumerate*}\n"
      ],
      "text/markdown": [
       "1. '5074_pilon_114485'\n",
       "2. '12568_pilon_338'\n",
       "3. '24029_pilon_1017'\n",
       "4. '35537_pilon_10279'\n",
       "5. '37649_pilon_9024'\n",
       "6. '38501_pilon_4358'\n",
       "\n",
       "\n"
      ],
      "text/plain": [
       "[1] \"5074_pilon_114485\" \"12568_pilon_338\"   \"24029_pilon_1017\" \n",
       "[4] \"35537_pilon_10279\" \"37649_pilon_9024\"  \"38501_pilon_4358\" "
      ]
     },
     "metadata": {},
     "output_type": "display_data"
    }
   ],
   "source": [
    "out_index <- which(full_outflnk$OutlierFlag==TRUE)\n",
    "outflank_names <- locNames(full_dataset)[out_index]\n",
    "length(outflank_names)\n",
    "head(outflank_names)"
   ]
  },
  {
   "cell_type": "code",
   "execution_count": 14,
   "metadata": {
    "vscode": {
     "languageId": "r"
    }
   },
   "outputs": [],
   "source": [
    "write.csv(full_outflnk, file = \"outflank.thinned.csv\", row.names = FALSE)\n",
    "write.table(outflank_names, file = \"outflank.outliers.loci\", row.names = F, col.names = F, quote = F)"
   ]
  },
  {
   "cell_type": "markdown",
   "metadata": {},
   "source": [
    "## Plots"
   ]
  },
  {
   "cell_type": "code",
   "execution_count": 11,
   "metadata": {
    "vscode": {
     "languageId": "r"
    }
   },
   "outputs": [],
   "source": [
    "mycolors <- c(\"#bbbbbb\", \"#4095b5\", \"#8a556e\", \"#f4cf30\")"
   ]
  },
  {
   "cell_type": "code",
   "execution_count": 12,
   "metadata": {
    "vscode": {
     "languageId": "r"
    }
   },
   "outputs": [
    {
     "data": {
      "image/png": "[encoded data removed]",
      "text/plain": [
       "plot without title"
      ]
     },
     "metadata": {
      "image/png": {
       "height": 420,
       "width": 900
      }
     },
     "output_type": "display_data"
    }
   ],
   "source": [
    "options(repr.plot.width=15, repr.plot.height=7)\n",
    "ggplot(data = full_outflnk, x = He, y = FST) + \n",
    "  theme_classic() +\n",
    "  geom_point(aes(x = He, y = FST, col = OutlierFlag), alpha = 0.8,  size = 2.1) + \n",
    "  geom_vline(xintercept = 0.1, alpha = 0.8, linetype = \"dashed\", size = 1) +\n",
    "  labs(x = \"Heterozygosity\", y = \"FST\", color = \"Detection\") +\n",
    "  scale_color_manual(values = mycolors[1:2]) +\n",
    "  ggtitle(\"Outlier Loci\") +\n",
    "  theme(plot.title = element_text(hjust = 0.5))"
   ]
  }
 ],
 "metadata": {
  "kernelspec": {
   "display_name": "R",
   "language": "R",
   "name": "ir"
  },
  "language_info": {
   "codemirror_mode": "r",
   "file_extension": ".r",
   "mimetype": "text/x-r-source",
   "name": "R",
   "pygments_lexer": "r",
   "version": "4.1.2"
  },
  "orig_nbformat": 4,
  "vscode": {
   "interpreter": {
    "hash": "a83189ba295afdf6b5050c258701b13b47e61f07ebf9b9a57dbb20bbb86f26e0"
   }
  }
 },
 "nbformat": 4,
 "nbformat_minor": 2
}

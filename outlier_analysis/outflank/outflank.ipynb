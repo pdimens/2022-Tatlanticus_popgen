{
 "cells": [
  {
   "cell_type": "markdown",
   "metadata": {},
   "source": [
    "# outFLANK on Thinned data\n",
    "Perform outFLANK via `R::dartR` on the 10kb thinned kin-removed BFT data."
   ]
  },
  {
   "cell_type": "code",
   "execution_count": 2,
   "metadata": {
    "vscode": {
     "languageId": "r"
    }
   },
   "outputs": [],
   "source": [
    "library(\"dartR\")\n",
    "library(\"ggplot2\")\n",
    "library(\"dplyr\")"
   ]
  },
  {
   "cell_type": "code",
   "execution_count": 3,
   "metadata": {
    "vscode": {
     "languageId": "r"
    }
   },
   "outputs": [
    {
     "data": {
      "text/plain": [
       "/// GENIND OBJECT /////////\n",
       "\n",
       " // 326 individuals; 1,448 loci; 2,896 alleles; size: 4.5 Mb\n",
       "\n",
       " // Basic content\n",
       "   @tab:  326 x 2896 matrix of allele counts\n",
       "   @loc.n.all: number of alleles per locus (range: 2-2)\n",
       "   @loc.fac: locus factor for the 2896 columns of @tab\n",
       "   @all.names: list of allele names for each locus\n",
       "   @ploidy: ploidy of each individual  (range: 2-2)\n",
       "   @type:  codom\n",
       "   @call: read.genepop(file = file, ncode = 3L, quiet = quiet)\n",
       "\n",
       " // Optional content\n",
       "   @pop: population of each individual (group size range: 14-55)"
      ]
     },
     "metadata": {},
     "output_type": "display_data"
    }
   ],
   "source": [
    "infile <- \"../../data/bft.kinrm.gen\"\n",
    "pop_names <- c(\"BRZ\",\"BRZSP\",\"KEY\", \"MRT\", \"PNS\", \"PR\", \"SCA\", \"TX\", \"VZ\")\n",
    "full_dataset <- import2genind(infile, ncode = 3L, quiet = T)\n",
    "popNames(full_dataset) <- pop_names\n",
    "full_dataset"
   ]
  },
  {
   "cell_type": "markdown",
   "metadata": {},
   "source": [
    "## Run outFLANK"
   ]
  },
  {
   "cell_type": "code",
   "execution_count": 4,
   "metadata": {
    "vscode": {
     "languageId": "r"
    }
   },
   "outputs": [
    {
     "name": "stdout",
     "output_type": "stream",
     "text": [
      "\u001b[32mCalculating FSTs, may take a few minutes...\u001b[39m\n"
     ]
    },
    {
     "data": {
      "image/png": "[encoded data removed]",
      "text/plain": [
       "Plot with title \"Fst without sample size correction\""
      ]
     },
     "metadata": {
      "image/png": {
       "height": 420,
       "width": 900
      }
     },
     "output_type": "display_data"
    }
   ],
   "source": [
    "options(repr.plot.width=15, repr.plot.height=7)\n",
    "full_outflnk <- gl.outflank(\n",
    "    full_dataset, \n",
    "    Hmin= 0.01, \n",
    "    qthreshold = 0.05, \n",
    "    LeftTrimFraction = 0.05,\n",
    "    RightTrimFraction = 0.05\n",
    ")"
   ]
  },
  {
   "cell_type": "markdown",
   "metadata": {},
   "source": [
    "## Post processing"
   ]
  },
  {
   "cell_type": "code",
   "execution_count": 6,
   "metadata": {
    "vscode": {
     "languageId": "r"
    }
   },
   "outputs": [
    {
     "data": {
      "text/html": [
       "<table class=\"dataframe\">\n",
       "<caption>A data.frame: 6 × 15</caption>\n",
       "<thead>\n",
       "\t<tr><th></th><th scope=col>LocusName</th><th scope=col>He</th><th scope=col>FST</th><th scope=col>T1</th><th scope=col>T2</th><th scope=col>FSTNoCorr</th><th scope=col>T1NoCorr</th><th scope=col>T2NoCorr</th><th scope=col>meanAlleleFreq</th><th scope=col>indexOrder</th><th scope=col>GoodH</th><th scope=col>qvalues</th><th scope=col>pvalues</th><th scope=col>pvaluesRightTail</th><th scope=col>OutlierFlag</th></tr>\n",
       "\t<tr><th></th><th scope=col>&lt;chr&gt;</th><th scope=col>&lt;dbl&gt;</th><th scope=col>&lt;dbl&gt;</th><th scope=col>&lt;dbl&gt;</th><th scope=col>&lt;dbl&gt;</th><th scope=col>&lt;dbl&gt;</th><th scope=col>&lt;dbl&gt;</th><th scope=col>&lt;dbl&gt;</th><th scope=col>&lt;dbl&gt;</th><th scope=col>&lt;int&gt;</th><th scope=col>&lt;chr&gt;</th><th scope=col>&lt;dbl&gt;</th><th scope=col>&lt;dbl&gt;</th><th scope=col>&lt;dbl&gt;</th><th scope=col>&lt;lgl&gt;</th></tr>\n",
       "</thead>\n",
       "<tbody>\n",
       "\t<tr><th scope=row>2</th><td>232_pilon_2036.002 </td><td>0.04054424</td><td> 0.003180230</td><td> 6.459596e-05</td><td>0.02031173</td><td>0.01736719</td><td>0.0003528371</td><td>0.02031630</td><td>0.9792994</td><td> 2</td><td>goodH</td><td>0.9586838</td><td>0.73900787</td><td>0.36950393</td><td>FALSE</td></tr>\n",
       "\t<tr><th scope=row>4</th><td>335_pilon_972.003  </td><td>0.03310320</td><td> 0.015963394</td><td> 2.652729e-04</td><td>0.01661757</td><td>0.03380378</td><td>0.0005619118</td><td>0.01662275</td><td>0.9831650</td><td> 4</td><td>goodH</td><td>0.4532977</td><td>0.05496064</td><td>0.02748032</td><td>FALSE</td></tr>\n",
       "\t<tr><th scope=row>6</th><td>341_pilon_1400.004 </td><td>0.07372778</td><td> 0.012276337</td><td> 4.540888e-04</td><td>0.03698895</td><td>0.02929569</td><td>0.0010838729</td><td>0.03699769</td><td>0.9616667</td><td> 6</td><td>goodH</td><td>0.6527612</td><td>0.12220885</td><td>0.06110443</td><td>FALSE</td></tr>\n",
       "\t<tr><th scope=row>8</th><td>536_pilon_3491.002 </td><td>0.02571911</td><td> 0.002899539</td><td> 3.736002e-05</td><td>0.01288482</td><td>0.01751713</td><td>0.0002257530</td><td>0.01288756</td><td>0.9869707</td><td> 8</td><td>goodH</td><td>0.9586838</td><td>0.72530940</td><td>0.36265470</td><td>FALSE</td></tr>\n",
       "\t<tr><th scope=row>10</th><td>794_pilon_11572.001</td><td>0.03736961</td><td>-0.001459879</td><td>-2.731522e-05</td><td>0.01871061</td><td>0.01285216</td><td>0.0002405307</td><td>0.01871519</td><td>0.9809524</td><td>10</td><td>goodH</td><td>0.9586838</td><td>0.78509413</td><td>0.60745294</td><td>FALSE</td></tr>\n",
       "\t<tr><th scope=row>12</th><td>1009_pilon_1199.004</td><td>0.02476391</td><td>-0.001584578</td><td>-1.965463e-05</td><td>0.01240370</td><td>0.01625181</td><td>0.0002016387</td><td>0.01240716</td><td>0.9874608</td><td>12</td><td>goodH</td><td>0.9586838</td><td>0.84589219</td><td>0.42294609</td><td>FALSE</td></tr>\n",
       "</tbody>\n",
       "</table>\n"
      ],
      "text/latex": [
       "A data.frame: 6 × 15\n",
       "\\begin{tabular}{r|lllllllllllllll}\n",
       "  & LocusName & He & FST & T1 & T2 & FSTNoCorr & T1NoCorr & T2NoCorr & meanAlleleFreq & indexOrder & GoodH & qvalues & pvalues & pvaluesRightTail & OutlierFlag\\\\\n",
       "  & <chr> & <dbl> & <dbl> & <dbl> & <dbl> & <dbl> & <dbl> & <dbl> & <dbl> & <int> & <chr> & <dbl> & <dbl> & <dbl> & <lgl>\\\\\n",
       "\\hline\n",
       "\t2 & 232\\_pilon\\_2036.002  & 0.04054424 &  0.003180230 &  6.459596e-05 & 0.02031173 & 0.01736719 & 0.0003528371 & 0.02031630 & 0.9792994 &  2 & goodH & 0.9586838 & 0.73900787 & 0.36950393 & FALSE\\\\\n",
       "\t4 & 335\\_pilon\\_972.003   & 0.03310320 &  0.015963394 &  2.652729e-04 & 0.01661757 & 0.03380378 & 0.0005619118 & 0.01662275 & 0.9831650 &  4 & goodH & 0.4532977 & 0.05496064 & 0.02748032 & FALSE\\\\\n",
       "\t6 & 341\\_pilon\\_1400.004  & 0.07372778 &  0.012276337 &  4.540888e-04 & 0.03698895 & 0.02929569 & 0.0010838729 & 0.03699769 & 0.9616667 &  6 & goodH & 0.6527612 & 0.12220885 & 0.06110443 & FALSE\\\\\n",
       "\t8 & 536\\_pilon\\_3491.002  & 0.02571911 &  0.002899539 &  3.736002e-05 & 0.01288482 & 0.01751713 & 0.0002257530 & 0.01288756 & 0.9869707 &  8 & goodH & 0.9586838 & 0.72530940 & 0.36265470 & FALSE\\\\\n",
       "\t10 & 794\\_pilon\\_11572.001 & 0.03736961 & -0.001459879 & -2.731522e-05 & 0.01871061 & 0.01285216 & 0.0002405307 & 0.01871519 & 0.9809524 & 10 & goodH & 0.9586838 & 0.78509413 & 0.60745294 & FALSE\\\\\n",
       "\t12 & 1009\\_pilon\\_1199.004 & 0.02476391 & -0.001584578 & -1.965463e-05 & 0.01240370 & 0.01625181 & 0.0002016387 & 0.01240716 & 0.9874608 & 12 & goodH & 0.9586838 & 0.84589219 & 0.42294609 & FALSE\\\\\n",
       "\\end{tabular}\n"
      ],
      "text/markdown": [
       "\n",
       "A data.frame: 6 × 15\n",
       "\n",
       "| <!--/--> | LocusName &lt;chr&gt; | He &lt;dbl&gt; | FST &lt;dbl&gt; | T1 &lt;dbl&gt; | T2 &lt;dbl&gt; | FSTNoCorr &lt;dbl&gt; | T1NoCorr &lt;dbl&gt; | T2NoCorr &lt;dbl&gt; | meanAlleleFreq &lt;dbl&gt; | indexOrder &lt;int&gt; | GoodH &lt;chr&gt; | qvalues &lt;dbl&gt; | pvalues &lt;dbl&gt; | pvaluesRightTail &lt;dbl&gt; | OutlierFlag &lt;lgl&gt; |\n",
       "|---|---|---|---|---|---|---|---|---|---|---|---|---|---|---|---|\n",
       "| 2 | 232_pilon_2036.002  | 0.04054424 |  0.003180230 |  6.459596e-05 | 0.02031173 | 0.01736719 | 0.0003528371 | 0.02031630 | 0.9792994 |  2 | goodH | 0.9586838 | 0.73900787 | 0.36950393 | FALSE |\n",
       "| 4 | 335_pilon_972.003   | 0.03310320 |  0.015963394 |  2.652729e-04 | 0.01661757 | 0.03380378 | 0.0005619118 | 0.01662275 | 0.9831650 |  4 | goodH | 0.4532977 | 0.05496064 | 0.02748032 | FALSE |\n",
       "| 6 | 341_pilon_1400.004  | 0.07372778 |  0.012276337 |  4.540888e-04 | 0.03698895 | 0.02929569 | 0.0010838729 | 0.03699769 | 0.9616667 |  6 | goodH | 0.6527612 | 0.12220885 | 0.06110443 | FALSE |\n",
       "| 8 | 536_pilon_3491.002  | 0.02571911 |  0.002899539 |  3.736002e-05 | 0.01288482 | 0.01751713 | 0.0002257530 | 0.01288756 | 0.9869707 |  8 | goodH | 0.9586838 | 0.72530940 | 0.36265470 | FALSE |\n",
       "| 10 | 794_pilon_11572.001 | 0.03736961 | -0.001459879 | -2.731522e-05 | 0.01871061 | 0.01285216 | 0.0002405307 | 0.01871519 | 0.9809524 | 10 | goodH | 0.9586838 | 0.78509413 | 0.60745294 | FALSE |\n",
       "| 12 | 1009_pilon_1199.004 | 0.02476391 | -0.001584578 | -1.965463e-05 | 0.01240370 | 0.01625181 | 0.0002016387 | 0.01240716 | 0.9874608 | 12 | goodH | 0.9586838 | 0.84589219 | 0.42294609 | FALSE |\n",
       "\n"
      ],
      "text/plain": [
       "   LocusName           He         FST          T1            T2        \n",
       "2  232_pilon_2036.002  0.04054424  0.003180230  6.459596e-05 0.02031173\n",
       "4  335_pilon_972.003   0.03310320  0.015963394  2.652729e-04 0.01661757\n",
       "6  341_pilon_1400.004  0.07372778  0.012276337  4.540888e-04 0.03698895\n",
       "8  536_pilon_3491.002  0.02571911  0.002899539  3.736002e-05 0.01288482\n",
       "10 794_pilon_11572.001 0.03736961 -0.001459879 -2.731522e-05 0.01871061\n",
       "12 1009_pilon_1199.004 0.02476391 -0.001584578 -1.965463e-05 0.01240370\n",
       "   FSTNoCorr  T1NoCorr     T2NoCorr   meanAlleleFreq indexOrder GoodH qvalues  \n",
       "2  0.01736719 0.0003528371 0.02031630 0.9792994       2         goodH 0.9586838\n",
       "4  0.03380378 0.0005619118 0.01662275 0.9831650       4         goodH 0.4532977\n",
       "6  0.02929569 0.0010838729 0.03699769 0.9616667       6         goodH 0.6527612\n",
       "8  0.01751713 0.0002257530 0.01288756 0.9869707       8         goodH 0.9586838\n",
       "10 0.01285216 0.0002405307 0.01871519 0.9809524      10         goodH 0.9586838\n",
       "12 0.01625181 0.0002016387 0.01240716 0.9874608      12         goodH 0.9586838\n",
       "   pvalues    pvaluesRightTail OutlierFlag\n",
       "2  0.73900787 0.36950393       FALSE      \n",
       "4  0.05496064 0.02748032       FALSE      \n",
       "6  0.12220885 0.06110443       FALSE      \n",
       "8  0.72530940 0.36265470       FALSE      \n",
       "10 0.78509413 0.60745294       FALSE      \n",
       "12 0.84589219 0.42294609       FALSE      "
      ]
     },
     "metadata": {},
     "output_type": "display_data"
    }
   ],
   "source": [
    "full_outflnk <- full_outflnk$outflank$results\n",
    "\n",
    "## Remove duplicated rows for each SNP\n",
    "toRemove <- seq(1, nrow(full_outflnk), by=2)\n",
    "full_outflnk <- full_outflnk[-toRemove, ]\n",
    "head(full_outflnk)"
   ]
  },
  {
   "cell_type": "markdown",
   "metadata": {},
   "source": [
    "Find which markers are putative outliers"
   ]
  },
  {
   "cell_type": "code",
   "execution_count": 7,
   "metadata": {
    "vscode": {
     "languageId": "r"
    }
   },
   "outputs": [
    {
     "data": {
      "text/html": [
       "39"
      ],
      "text/latex": [
       "39"
      ],
      "text/markdown": [
       "39"
      ],
      "text/plain": [
       "[1] 39"
      ]
     },
     "metadata": {},
     "output_type": "display_data"
    },
    {
     "data": {
      "text/html": [
       "<style>\n",
       ".list-inline {list-style: none; margin:0; padding: 0}\n",
       ".list-inline>li {display: inline-block}\n",
       ".list-inline>li:not(:last-child)::after {content: \"\\00b7\"; padding: 0 .5ex}\n",
       "</style>\n",
       "<ol class=list-inline><li>'22845_pilon_21316'</li><li>'38948_pilon_27399'</li><li>'41950_pilon_50866'</li><li>'43953_pilon_6455'</li><li>'49150_pilon_108095'</li><li>'55180_pilon_1698'</li></ol>\n"
      ],
      "text/latex": [
       "\\begin{enumerate*}\n",
       "\\item '22845\\_pilon\\_21316'\n",
       "\\item '38948\\_pilon\\_27399'\n",
       "\\item '41950\\_pilon\\_50866'\n",
       "\\item '43953\\_pilon\\_6455'\n",
       "\\item '49150\\_pilon\\_108095'\n",
       "\\item '55180\\_pilon\\_1698'\n",
       "\\end{enumerate*}\n"
      ],
      "text/markdown": [
       "1. '22845_pilon_21316'\n",
       "2. '38948_pilon_27399'\n",
       "3. '41950_pilon_50866'\n",
       "4. '43953_pilon_6455'\n",
       "5. '49150_pilon_108095'\n",
       "6. '55180_pilon_1698'\n",
       "\n",
       "\n"
      ],
      "text/plain": [
       "[1] \"22845_pilon_21316\"  \"38948_pilon_27399\"  \"41950_pilon_50866\" \n",
       "[4] \"43953_pilon_6455\"   \"49150_pilon_108095\" \"55180_pilon_1698\"  "
      ]
     },
     "metadata": {},
     "output_type": "display_data"
    }
   ],
   "source": [
    "out_index <- which(full_outflnk$OutlierFlag==TRUE)\n",
    "outflank_names <- locNames(full_dataset)[out_index]\n",
    "length(outflank_names)\n",
    "head(outflank_names)"
   ]
  },
  {
   "cell_type": "code",
   "execution_count": 8,
   "metadata": {
    "vscode": {
     "languageId": "r"
    }
   },
   "outputs": [],
   "source": [
    "write.csv(full_outflnk, file = \"outflank.thinned.csv\", row.names = FALSE)\n",
    "write.table(outflank_names, file = \"outflank.outliers.loci\", row.names = F, col.names = F, quote = F)"
   ]
  },
  {
   "cell_type": "markdown",
   "metadata": {},
   "source": [
    "## Plots"
   ]
  },
  {
   "cell_type": "code",
   "execution_count": 7,
   "metadata": {
    "vscode": {
     "languageId": "r"
    }
   },
   "outputs": [],
   "source": [
    "mycolors <- c(\"#bbbbbb\", \"#4095b5\", \"#8a556e\", \"#f4cf30\")"
   ]
  },
  {
   "cell_type": "code",
   "execution_count": 8,
   "metadata": {
    "vscode": {
     "languageId": "r"
    }
   },
   "outputs": [
    {
     "data": {
      "image/png": "[encoded data removed]",
      "text/plain": [
       "plot without title"
      ]
     },
     "metadata": {
      "image/png": {
       "height": 420,
       "width": 900
      }
     },
     "output_type": "display_data"
    }
   ],
   "source": [
    "options(repr.plot.width=15, repr.plot.height=7)\n",
    "ggplot(data = full_outflnk, x = He, y = FST) + \n",
    "  theme_classic() +\n",
    "  geom_point(aes(x = He, y = FST, col = OutlierFlag), alpha = 0.8,  size = 2.1) + \n",
    "  geom_vline(xintercept = 0.1, alpha = 0.8, linetype = \"dashed\", size = 1) +\n",
    "  labs(x = \"Heterozygosity\", y = \"FST\", color = \"Detection\") +\n",
    "  scale_color_manual(values = mycolors[1:2]) +\n",
    "  ggtitle(\"Outlier Loci\") +\n",
    "  theme(plot.title = element_text(hjust = 0.5))"
   ]
  }
 ],
 "metadata": {
  "kernelspec": {
   "display_name": "R",
   "language": "R",
   "name": "ir"
  },
  "language_info": {
   "codemirror_mode": "r",
   "file_extension": ".r",
   "mimetype": "text/x-r-source",
   "name": "R",
   "pygments_lexer": "r",
   "version": "4.1.2"
  },
  "orig_nbformat": 4,
  "vscode": {
   "interpreter": {
    "hash": "a83189ba295afdf6b5050c258701b13b47e61f07ebf9b9a57dbb20bbb86f26e0"
   }
  }
 },
 "nbformat": 4,
 "nbformat_minor": 2
}

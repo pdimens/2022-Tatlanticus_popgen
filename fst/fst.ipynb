{
 "cells": [
  {
   "cell_type": "markdown",
   "metadata": {},
   "source": [
    "# Pairwise FST"
   ]
  },
  {
   "cell_type": "code",
   "execution_count": null,
   "metadata": {},
   "outputs": [],
   "source": [
    "using Pkg ; Pkg.activate(\".\")\n",
    "Pkg.instantiate()\n",
    "using PopGen\n",
    "using DataFrames\n",
    "using CSV\n",
    "using MultipleTesting\n",
    "ENV[\"COLUMNS\"] = 200"
   ]
  },
  {
   "cell_type": "markdown",
   "metadata": {},
   "source": [
    "## Load the data"
   ]
  },
  {
   "cell_type": "code",
   "execution_count": 3,
   "metadata": {},
   "outputs": [
    {
     "data": {
      "text/plain": [
       "PopData{Diploid, 2139 SNP loci}\n",
       "  Samples: 324\n",
       "  Populations: 9"
      ]
     },
     "execution_count": 3,
     "metadata": {},
     "output_type": "execute_result"
    }
   ],
   "source": [
    "bft = PopGen.read(\"../inputfiles/bft.kinless.gen\", silent = true)"
   ]
  },
  {
   "cell_type": "markdown",
   "metadata": {},
   "source": [
    "Rename populations, since genepop files don't preserve population name"
   ]
  },
  {
   "cell_type": "code",
   "execution_count": 4,
   "metadata": {},
   "outputs": [
    {
     "name": "stdout",
     "output_type": "stream",
     "text": [
      "\n"
     ]
    },
    {
     "data": {
      "text/html": [
       "<div class=\"data-frame\"><p>9 rows × 2 columns</p><table class=\"data-frame\"><thead><tr><th></th><th>population</th><th>count</th></tr><tr><th></th><th title=\"String\">String</th><th title=\"Int64\">Int64</th></tr></thead><tbody><tr><th>1</th><td>BRZ</td><td>23</td></tr><tr><th>2</th><td>BRZSP</td><td>14</td></tr><tr><th>3</th><td>KEY</td><td>55</td></tr><tr><th>4</th><td>MRT</td><td>40</td></tr><tr><th>5</th><td>PNS</td><td>30</td></tr><tr><th>6</th><td>PR</td><td>38</td></tr><tr><th>7</th><td>SCA</td><td>51</td></tr><tr><th>8</th><td>TX</td><td>28</td></tr><tr><th>9</th><td>VZ</td><td>45</td></tr></tbody></table></div>"
      ],
      "text/latex": [
       "\\begin{tabular}{r|cc}\n",
       "\t& population & count\\\\\n",
       "\t\\hline\n",
       "\t& String & Int64\\\\\n",
       "\t\\hline\n",
       "\t1 & BRZ & 23 \\\\\n",
       "\t2 & BRZSP & 14 \\\\\n",
       "\t3 & KEY & 55 \\\\\n",
       "\t4 & MRT & 40 \\\\\n",
       "\t5 & PNS & 30 \\\\\n",
       "\t6 & PR & 38 \\\\\n",
       "\t7 & SCA & 51 \\\\\n",
       "\t8 & TX & 28 \\\\\n",
       "\t9 & VZ & 45 \\\\\n",
       "\\end{tabular}\n"
      ],
      "text/plain": [
       "\u001b[1m9×2 DataFrame\u001b[0m\n",
       "\u001b[1m Row \u001b[0m│\u001b[1m population \u001b[0m\u001b[1m count \u001b[0m\n",
       "\u001b[1m     \u001b[0m│\u001b[90m String     \u001b[0m\u001b[90m Int64 \u001b[0m\n",
       "─────┼───────────────────\n",
       "   1 │ BRZ            23\n",
       "   2 │ BRZSP          14\n",
       "   3 │ KEY            55\n",
       "   4 │ MRT            40\n",
       "   5 │ PNS            30\n",
       "   6 │ PR             38\n",
       "   7 │ SCA            51\n",
       "   8 │ TX             28\n",
       "   9 │ VZ             45"
      ]
     },
     "execution_count": 4,
     "metadata": {},
     "output_type": "execute_result"
    }
   ],
   "source": [
    "popdict = Dict(\n",
    "    \"1\" => \"BRZ\",\n",
    "    \"2\" => \"BRZSP\",\n",
    "    \"3\" => \"KEY\",\n",
    "    \"4\" => \"MRT\",\n",
    "    \"5\" => \"PNS\",\n",
    "    \"6\" => \"PR\",\n",
    "    \"7\" => \"SCA\",\n",
    "    \"8\" => \"TX\",\n",
    "    \"9\" => \"VZ\",\n",
    ")\n",
    "populations!(bft, popdict)\n",
    "populations(bft, counts = true)"
   ]
  },
  {
   "cell_type": "markdown",
   "metadata": {},
   "source": [
    "## Summary Information"
   ]
  },
  {
   "cell_type": "code",
   "execution_count": 5,
   "metadata": {},
   "outputs": [
    {
     "data": {
      "text/html": [
       "<div class=\"data-frame\"><p>1 rows × 10 columns</p><table class=\"data-frame\"><thead><tr><th></th><th>Het_obs</th><th>HS</th><th>HT</th><th>DST</th><th>HT′</th><th>DST′</th><th>FST</th><th>FST′</th><th>FIS</th><th>DEST</th></tr><tr><th></th><th title=\"Float64\">Float64</th><th title=\"Float64\">Float64</th><th title=\"Float64\">Float64</th><th title=\"Float64\">Float64</th><th title=\"Float64\">Float64</th><th title=\"Float64\">Float64</th><th title=\"Float64\">Float64</th><th title=\"Float64\">Float64</th><th title=\"Float64\">Float64</th><th title=\"Float64\">Float64</th></tr></thead><tbody><tr><th>1</th><td>0.0787</td><td>0.083</td><td>0.0833</td><td>0.0002</td><td>0.0833</td><td>0.0002</td><td>0.0025</td><td>0.0028</td><td>0.0523</td><td>0.0003</td></tr></tbody></table></div>"
      ],
      "text/latex": [
       "\\begin{tabular}{r|cccccccccc}\n",
       "\t& Het\\_obs & HS & HT & DST & HT′ & DST′ & FST & FST′ & FIS & DEST\\\\\n",
       "\t\\hline\n",
       "\t& Float64 & Float64 & Float64 & Float64 & Float64 & Float64 & Float64 & Float64 & Float64 & Float64\\\\\n",
       "\t\\hline\n",
       "\t1 & 0.0787 & 0.083 & 0.0833 & 0.0002 & 0.0833 & 0.0002 & 0.0025 & 0.0028 & 0.0523 & 0.0003 \\\\\n",
       "\\end{tabular}\n"
      ],
      "text/plain": [
       "\u001b[1m1×10 DataFrame\u001b[0m\n",
       "\u001b[1m Row \u001b[0m│\u001b[1m Het_obs \u001b[0m\u001b[1m HS      \u001b[0m\u001b[1m HT      \u001b[0m\u001b[1m DST     \u001b[0m\u001b[1m HT′     \u001b[0m\u001b[1m DST′    \u001b[0m\u001b[1m FST     \u001b[0m\u001b[1m FST′    \u001b[0m\u001b[1m FIS     \u001b[0m\u001b[1m DEST    \u001b[0m\n",
       "\u001b[1m     \u001b[0m│\u001b[90m Float64 \u001b[0m\u001b[90m Float64 \u001b[0m\u001b[90m Float64 \u001b[0m\u001b[90m Float64 \u001b[0m\u001b[90m Float64 \u001b[0m\u001b[90m Float64 \u001b[0m\u001b[90m Float64 \u001b[0m\u001b[90m Float64 \u001b[0m\u001b[90m Float64 \u001b[0m\u001b[90m Float64 \u001b[0m\n",
       "─────┼──────────────────────────────────────────────────────────────────────────────────────────\n",
       "   1 │  0.0787    0.083   0.0833   0.0002   0.0833   0.0002   0.0025   0.0028   0.0523   0.0003"
      ]
     },
     "execution_count": 5,
     "metadata": {},
     "output_type": "execute_result"
    }
   ],
   "source": [
    "summarystats(bft)"
   ]
  },
  {
   "cell_type": "markdown",
   "metadata": {},
   "source": [
    "## Hudson pairwise FST"
   ]
  },
  {
   "cell_type": "markdown",
   "metadata": {},
   "source": [
    "Calculate pairwise FST without significance testing"
   ]
  },
  {
   "cell_type": "code",
   "execution_count": 6,
   "metadata": {},
   "outputs": [
    {
     "data": {
      "text/html": [
       "<div class=\"data-frame\"><p>9 rows × 9 columns</p><table class=\"data-frame\"><thead><tr><th></th><th>BRZ</th><th>BRZSP</th><th>KEY</th><th>MRT</th><th>PNS</th><th>PR</th><th>SCA</th><th>TX</th><th>VZ</th></tr><tr><th></th><th title=\"Float64\">Float64</th><th title=\"Float64\">Float64</th><th title=\"Float64\">Float64</th><th title=\"Float64\">Float64</th><th title=\"Float64\">Float64</th><th title=\"Float64\">Float64</th><th title=\"Float64\">Float64</th><th title=\"Float64\">Float64</th><th title=\"Float64\">Float64</th></tr></thead><tbody><tr><th>1</th><td>0.0</td><td>0.0</td><td>0.0</td><td>0.0</td><td>0.0</td><td>0.0</td><td>0.0</td><td>0.0</td><td>0.0</td></tr><tr><th>2</th><td>0.00322162</td><td>0.0</td><td>0.0</td><td>0.0</td><td>0.0</td><td>0.0</td><td>0.0</td><td>0.0</td><td>0.0</td></tr><tr><th>3</th><td>0.00275731</td><td>0.00491408</td><td>0.0</td><td>0.0</td><td>0.0</td><td>0.0</td><td>0.0</td><td>0.0</td><td>0.0</td></tr><tr><th>4</th><td>0.0033492</td><td>0.00421018</td><td>0.00142712</td><td>0.0</td><td>0.0</td><td>0.0</td><td>0.0</td><td>0.0</td><td>0.0</td></tr><tr><th>5</th><td>0.00208144</td><td>0.00171124</td><td>0.0016122</td><td>0.00110864</td><td>0.0</td><td>0.0</td><td>0.0</td><td>0.0</td><td>0.0</td></tr><tr><th>6</th><td>0.00164961</td><td>0.00380532</td><td>0.00174722</td><td>0.00236584</td><td>0.00158027</td><td>0.0</td><td>0.0</td><td>0.0</td><td>0.0</td></tr><tr><th>7</th><td>0.00183854</td><td>0.00400323</td><td>0.00131807</td><td>0.00179355</td><td>0.00109236</td><td>0.00172863</td><td>0.0</td><td>0.0</td><td>0.0</td></tr><tr><th>8</th><td>0.00512836</td><td>0.00616829</td><td>0.00452151</td><td>0.00222685</td><td>0.00419737</td><td>0.00500045</td><td>0.00367676</td><td>0.0</td><td>0.0</td></tr><tr><th>9</th><td>0.00194382</td><td>0.003087</td><td>0.00125401</td><td>0.0013698</td><td>0.000711107</td><td>0.00109614</td><td>0.00080597</td><td>0.00391112</td><td>0.0</td></tr></tbody></table></div>"
      ],
      "text/latex": [
       "\\begin{tabular}{r|ccccccccc}\n",
       "\t& BRZ & BRZSP & KEY & MRT & PNS & PR & SCA & TX & VZ\\\\\n",
       "\t\\hline\n",
       "\t& Float64 & Float64 & Float64 & Float64 & Float64 & Float64 & Float64 & Float64 & Float64\\\\\n",
       "\t\\hline\n",
       "\t1 & 0.0 & 0.0 & 0.0 & 0.0 & 0.0 & 0.0 & 0.0 & 0.0 & 0.0 \\\\\n",
       "\t2 & 0.00322162 & 0.0 & 0.0 & 0.0 & 0.0 & 0.0 & 0.0 & 0.0 & 0.0 \\\\\n",
       "\t3 & 0.00275731 & 0.00491408 & 0.0 & 0.0 & 0.0 & 0.0 & 0.0 & 0.0 & 0.0 \\\\\n",
       "\t4 & 0.0033492 & 0.00421018 & 0.00142712 & 0.0 & 0.0 & 0.0 & 0.0 & 0.0 & 0.0 \\\\\n",
       "\t5 & 0.00208144 & 0.00171124 & 0.0016122 & 0.00110864 & 0.0 & 0.0 & 0.0 & 0.0 & 0.0 \\\\\n",
       "\t6 & 0.00164961 & 0.00380532 & 0.00174722 & 0.00236584 & 0.00158027 & 0.0 & 0.0 & 0.0 & 0.0 \\\\\n",
       "\t7 & 0.00183854 & 0.00400323 & 0.00131807 & 0.00179355 & 0.00109236 & 0.00172863 & 0.0 & 0.0 & 0.0 \\\\\n",
       "\t8 & 0.00512836 & 0.00616829 & 0.00452151 & 0.00222685 & 0.00419737 & 0.00500045 & 0.00367676 & 0.0 & 0.0 \\\\\n",
       "\t9 & 0.00194382 & 0.003087 & 0.00125401 & 0.0013698 & 0.000711107 & 0.00109614 & 0.00080597 & 0.00391112 & 0.0 \\\\\n",
       "\\end{tabular}\n"
      ],
      "text/plain": [
       "\u001b[1m9×9 DataFrame\u001b[0m\n",
       "\u001b[1m Row \u001b[0m│\u001b[1m BRZ        \u001b[0m\u001b[1m BRZSP      \u001b[0m\u001b[1m KEY        \u001b[0m\u001b[1m MRT        \u001b[0m\u001b[1m PNS         \u001b[0m\u001b[1m PR         \u001b[0m\u001b[1m SCA        \u001b[0m\u001b[1m TX         \u001b[0m\u001b[1m VZ      \u001b[0m\n",
       "\u001b[1m     \u001b[0m│\u001b[90m Float64    \u001b[0m\u001b[90m Float64    \u001b[0m\u001b[90m Float64    \u001b[0m\u001b[90m Float64    \u001b[0m\u001b[90m Float64     \u001b[0m\u001b[90m Float64    \u001b[0m\u001b[90m Float64    \u001b[0m\u001b[90m Float64    \u001b[0m\u001b[90m Float64 \u001b[0m\n",
       "─────┼──────────────────────────────────────────────────────────────────────────────────────────────────────────\n",
       "   1 │ 0.0         0.0         0.0         0.0         0.0          0.0         0.0         0.0             0.0\n",
       "   2 │ 0.00322162  0.0         0.0         0.0         0.0          0.0         0.0         0.0             0.0\n",
       "   3 │ 0.00275731  0.00491408  0.0         0.0         0.0          0.0         0.0         0.0             0.0\n",
       "   4 │ 0.0033492   0.00421018  0.00142712  0.0         0.0          0.0         0.0         0.0             0.0\n",
       "   5 │ 0.00208144  0.00171124  0.0016122   0.00110864  0.0          0.0         0.0         0.0             0.0\n",
       "   6 │ 0.00164961  0.00380532  0.00174722  0.00236584  0.00158027   0.0         0.0         0.0             0.0\n",
       "   7 │ 0.00183854  0.00400323  0.00131807  0.00179355  0.00109236   0.00172863  0.0         0.0             0.0\n",
       "   8 │ 0.00512836  0.00616829  0.00452151  0.00222685  0.00419737   0.00500045  0.00367676  0.0             0.0\n",
       "   9 │ 0.00194382  0.003087    0.00125401  0.0013698   0.000711107  0.00109614  0.00080597  0.00391112      0.0"
      ]
     },
     "execution_count": 6,
     "metadata": {},
     "output_type": "execute_result"
    }
   ],
   "source": [
    "pairwisefst(bft, method = \"Hudson\").results"
   ]
  },
  {
   "cell_type": "markdown",
   "metadata": {},
   "source": [
    "Calculate pairwise FST with significance testing"
   ]
  },
  {
   "cell_type": "code",
   "execution_count": null,
   "metadata": {},
   "outputs": [],
   "source": [
    "pfst = pairwisefst(bft, method = \"Hudson\", iterations = 999)"
   ]
  },
  {
   "cell_type": "code",
   "execution_count": 8,
   "metadata": {},
   "outputs": [
    {
     "data": {
      "text/html": [
       "<div class=\"data-frame\"><p>9 rows × 9 columns</p><table class=\"data-frame\"><thead><tr><th></th><th>BRZ</th><th>BRZSP</th><th>KEY</th><th>MRT</th><th>PNS</th><th>PR</th><th>SCA</th><th>TX</th><th>VZ</th></tr><tr><th></th><th title=\"Float64\">Float64</th><th title=\"Float64\">Float64</th><th title=\"Float64\">Float64</th><th title=\"Float64\">Float64</th><th title=\"Float64\">Float64</th><th title=\"Float64\">Float64</th><th title=\"Float64\">Float64</th><th title=\"Float64\">Float64</th><th title=\"Float64\">Float64</th></tr></thead><tbody><tr><th>1</th><td>0.0</td><td>0.021021</td><td>0.002002</td><td>0.001001</td><td>0.018018</td><td>0.254254</td><td>0.147147</td><td>0.001001</td><td>0.0790791</td></tr><tr><th>2</th><td>0.00322162</td><td>0.0</td><td>0.002002</td><td>0.013013</td><td>0.465465</td><td>0.033033</td><td>0.035035</td><td>0.002002</td><td>0.146146</td></tr><tr><th>3</th><td>0.00275731</td><td>0.00491408</td><td>0.0</td><td>0.014014</td><td>0.024024</td><td>0.00600601</td><td>0.00800801</td><td>0.001001</td><td>0.013013</td></tr><tr><th>4</th><td>0.0033492</td><td>0.00421018</td><td>0.00142712</td><td>0.0</td><td>0.179179</td><td>0.001001</td><td>0.003003</td><td>0.013013</td><td>0.025025</td></tr><tr><th>5</th><td>0.00208144</td><td>0.00171124</td><td>0.0016122</td><td>0.00110864</td><td>0.0</td><td>0.038038</td><td>0.288288</td><td>0.001001</td><td>0.544545</td></tr><tr><th>6</th><td>0.00164961</td><td>0.00380532</td><td>0.00174722</td><td>0.00236584</td><td>0.00158027</td><td>0.0</td><td>0.00700701</td><td>0.001001</td><td>0.148148</td></tr><tr><th>7</th><td>0.00183854</td><td>0.00400323</td><td>0.00131807</td><td>0.00179355</td><td>0.00109236</td><td>0.00172863</td><td>0.0</td><td>0.001001</td><td>0.201201</td></tr><tr><th>8</th><td>0.00512836</td><td>0.00616829</td><td>0.00452151</td><td>0.00222685</td><td>0.00419737</td><td>0.00500045</td><td>0.00367676</td><td>0.0</td><td>0.001001</td></tr><tr><th>9</th><td>0.00194382</td><td>0.003087</td><td>0.00125401</td><td>0.0013698</td><td>0.000711107</td><td>0.00109614</td><td>0.00080597</td><td>0.00391112</td><td>0.0</td></tr></tbody></table></div>"
      ],
      "text/latex": [
       "\\begin{tabular}{r|ccccccccc}\n",
       "\t& BRZ & BRZSP & KEY & MRT & PNS & PR & SCA & TX & VZ\\\\\n",
       "\t\\hline\n",
       "\t& Float64 & Float64 & Float64 & Float64 & Float64 & Float64 & Float64 & Float64 & Float64\\\\\n",
       "\t\\hline\n",
       "\t1 & 0.0 & 0.021021 & 0.002002 & 0.001001 & 0.018018 & 0.254254 & 0.147147 & 0.001001 & 0.0790791 \\\\\n",
       "\t2 & 0.00322162 & 0.0 & 0.002002 & 0.013013 & 0.465465 & 0.033033 & 0.035035 & 0.002002 & 0.146146 \\\\\n",
       "\t3 & 0.00275731 & 0.00491408 & 0.0 & 0.014014 & 0.024024 & 0.00600601 & 0.00800801 & 0.001001 & 0.013013 \\\\\n",
       "\t4 & 0.0033492 & 0.00421018 & 0.00142712 & 0.0 & 0.179179 & 0.001001 & 0.003003 & 0.013013 & 0.025025 \\\\\n",
       "\t5 & 0.00208144 & 0.00171124 & 0.0016122 & 0.00110864 & 0.0 & 0.038038 & 0.288288 & 0.001001 & 0.544545 \\\\\n",
       "\t6 & 0.00164961 & 0.00380532 & 0.00174722 & 0.00236584 & 0.00158027 & 0.0 & 0.00700701 & 0.001001 & 0.148148 \\\\\n",
       "\t7 & 0.00183854 & 0.00400323 & 0.00131807 & 0.00179355 & 0.00109236 & 0.00172863 & 0.0 & 0.001001 & 0.201201 \\\\\n",
       "\t8 & 0.00512836 & 0.00616829 & 0.00452151 & 0.00222685 & 0.00419737 & 0.00500045 & 0.00367676 & 0.0 & 0.001001 \\\\\n",
       "\t9 & 0.00194382 & 0.003087 & 0.00125401 & 0.0013698 & 0.000711107 & 0.00109614 & 0.00080597 & 0.00391112 & 0.0 \\\\\n",
       "\\end{tabular}\n"
      ],
      "text/plain": [
       "\u001b[1m9×9 DataFrame\u001b[0m\n",
       "\u001b[1m Row \u001b[0m│\u001b[1m BRZ        \u001b[0m\u001b[1m BRZSP      \u001b[0m\u001b[1m KEY        \u001b[0m\u001b[1m MRT        \u001b[0m\u001b[1m PNS         \u001b[0m\u001b[1m PR         \u001b[0m\u001b[1m SCA        \u001b[0m\u001b[1m TX         \u001b[0m\u001b[1m VZ        \u001b[0m\n",
       "\u001b[1m     \u001b[0m│\u001b[90m Float64    \u001b[0m\u001b[90m Float64    \u001b[0m\u001b[90m Float64    \u001b[0m\u001b[90m Float64    \u001b[0m\u001b[90m Float64     \u001b[0m\u001b[90m Float64    \u001b[0m\u001b[90m Float64    \u001b[0m\u001b[90m Float64    \u001b[0m\u001b[90m Float64   \u001b[0m\n",
       "─────┼────────────────────────────────────────────────────────────────────────────────────────────────────────────\n",
       "   1 │ 0.0         0.021021    0.002002    0.001001    0.018018     0.254254    0.147147    0.001001    0.0790791\n",
       "   2 │ 0.00322162  0.0         0.002002    0.013013    0.465465     0.033033    0.035035    0.002002    0.146146\n",
       "   3 │ 0.00275731  0.00491408  0.0         0.014014    0.024024     0.00600601  0.00800801  0.001001    0.013013\n",
       "   4 │ 0.0033492   0.00421018  0.00142712  0.0         0.179179     0.001001    0.003003    0.013013    0.025025\n",
       "   5 │ 0.00208144  0.00171124  0.0016122   0.00110864  0.0          0.038038    0.288288    0.001001    0.544545\n",
       "   6 │ 0.00164961  0.00380532  0.00174722  0.00236584  0.00158027   0.0         0.00700701  0.001001    0.148148\n",
       "   7 │ 0.00183854  0.00400323  0.00131807  0.00179355  0.00109236   0.00172863  0.0         0.001001    0.201201\n",
       "   8 │ 0.00512836  0.00616829  0.00452151  0.00222685  0.00419737   0.00500045  0.00367676  0.0         0.001001\n",
       "   9 │ 0.00194382  0.003087    0.00125401  0.0013698   0.000711107  0.00109614  0.00080597  0.00391112  0.0"
      ]
     },
     "execution_count": 8,
     "metadata": {},
     "output_type": "execute_result"
    }
   ],
   "source": [
    "CSV.write(\"hudson.fst\", pfst.results)\n",
    "pfst.results"
   ]
  },
  {
   "cell_type": "markdown",
   "metadata": {},
   "source": [
    "Function pulled from `PopGenCore.jl` to isolate the top triangle of the output matrix for P-value correction"
   ]
  },
  {
   "cell_type": "code",
   "execution_count": 10,
   "metadata": {},
   "outputs": [
    {
     "data": {
      "text/plain": [
       "partitionarray (generic function with 1 method)"
      ]
     },
     "execution_count": 10,
     "metadata": {},
     "output_type": "execute_result"
    }
   ],
   "source": [
    "function partitionarray(array::AbstractArray, steps::AbstractVector{<:Integer})\n",
    "    v = axes(array,1)\n",
    "    v == 1:sum(steps) || error(\"Steps provided do not sum to length of the first dimension\")\n",
    "    i = firstindex(v)\n",
    "    tmp = (view(v, i:(i+=s)-1) for s in steps)\n",
    "    [view(array,r,:) for r in tmp]\n",
    "end"
   ]
  },
  {
   "cell_type": "markdown",
   "metadata": {},
   "source": [
    "Function to perform a Benjamini-Hochberg FDR correction on the P-values in the upper triangle"
   ]
  },
  {
   "cell_type": "code",
   "execution_count": 11,
   "metadata": {},
   "outputs": [
    {
     "data": {
      "text/plain": [
       "adjustpval (generic function with 1 method)"
      ]
     },
     "execution_count": 11,
     "metadata": {},
     "output_type": "execute_result"
    }
   ],
   "source": [
    "function adjustpval(fstval::DataFrame)\n",
    "    fst = deepcopy(fstval)\n",
    "    rows = size(fst,1)\n",
    "    pval = mapreduce(vcat, 1:rows-1) do i\n",
    "        collect(fst[i,i+1:end])\n",
    "    end\n",
    "    posthoc = round.(adjust(pval, BenjaminiHochberg()),digits = 4)\n",
    "    splitpart = partitionarray(posthoc, reverse(collect(1:(rows-1)))) .|> collect\n",
    "    for i in 1:(rows-1)\n",
    "        fst[i, (i+1):end] .= splitpart[i][:,1]\n",
    "    end\n",
    "    insertcols!(fst, 1, :pop => names(fst))\n",
    "    return fst\n",
    "end"
   ]
  },
  {
   "cell_type": "markdown",
   "metadata": {},
   "source": [
    "## Correct the P-values for multiple testing"
   ]
  },
  {
   "cell_type": "code",
   "execution_count": 12,
   "metadata": {},
   "outputs": [
    {
     "data": {
      "text/html": [
       "<div class=\"data-frame\"><p>9 rows × 10 columns</p><table class=\"data-frame\"><thead><tr><th></th><th>pop</th><th>BRZ</th><th>BRZSP</th><th>KEY</th><th>MRT</th><th>PNS</th><th>PR</th><th>SCA</th><th>TX</th><th>VZ</th></tr><tr><th></th><th title=\"String\">String</th><th title=\"Float64\">Float64</th><th title=\"Float64\">Float64</th><th title=\"Float64\">Float64</th><th title=\"Float64\">Float64</th><th title=\"Float64\">Float64</th><th title=\"Float64\">Float64</th><th title=\"Float64\">Float64</th><th title=\"Float64\">Float64</th><th title=\"Float64\">Float64</th></tr></thead><tbody><tr><th>1</th><td>BRZ</td><td>0.0</td><td>0.036</td><td>0.0066</td><td>0.0045</td><td>0.0324</td><td>0.2774</td><td>0.1778</td><td>0.0045</td><td>0.1054</td></tr><tr><th>2</th><td>BRZSP</td><td>0.00322162</td><td>0.0</td><td>0.0066</td><td>0.026</td><td>0.4788</td><td>0.0495</td><td>0.0505</td><td>0.0066</td><td>0.1778</td></tr><tr><th>3</th><td>KEY</td><td>0.00275731</td><td>0.00491408</td><td>0.0</td><td>0.0266</td><td>0.0392</td><td>0.0166</td><td>0.0192</td><td>0.0045</td><td>0.026</td></tr><tr><th>4</th><td>MRT</td><td>0.0033492</td><td>0.00421018</td><td>0.00142712</td><td>0.0</td><td>0.2081</td><td>0.0045</td><td>0.009</td><td>0.026</td><td>0.0392</td></tr><tr><th>5</th><td>PNS</td><td>0.00208144</td><td>0.00171124</td><td>0.0016122</td><td>0.00110864</td><td>0.0</td><td>0.0527</td><td>0.3052</td><td>0.0045</td><td>0.5445</td></tr><tr><th>6</th><td>PR</td><td>0.00164961</td><td>0.00380532</td><td>0.00174722</td><td>0.00236584</td><td>0.00158027</td><td>0.0</td><td>0.018</td><td>0.0045</td><td>0.1778</td></tr><tr><th>7</th><td>SCA</td><td>0.00183854</td><td>0.00400323</td><td>0.00131807</td><td>0.00179355</td><td>0.00109236</td><td>0.00172863</td><td>0.0</td><td>0.0045</td><td>0.2264</td></tr><tr><th>8</th><td>TX</td><td>0.00512836</td><td>0.00616829</td><td>0.00452151</td><td>0.00222685</td><td>0.00419737</td><td>0.00500045</td><td>0.00367676</td><td>0.0</td><td>0.0045</td></tr><tr><th>9</th><td>VZ</td><td>0.00194382</td><td>0.003087</td><td>0.00125401</td><td>0.0013698</td><td>0.000711107</td><td>0.00109614</td><td>0.00080597</td><td>0.00391112</td><td>0.0</td></tr></tbody></table></div>"
      ],
      "text/latex": [
       "\\begin{tabular}{r|cccccccccc}\n",
       "\t& pop & BRZ & BRZSP & KEY & MRT & PNS & PR & SCA & TX & VZ\\\\\n",
       "\t\\hline\n",
       "\t& String & Float64 & Float64 & Float64 & Float64 & Float64 & Float64 & Float64 & Float64 & Float64\\\\\n",
       "\t\\hline\n",
       "\t1 & BRZ & 0.0 & 0.036 & 0.0066 & 0.0045 & 0.0324 & 0.2774 & 0.1778 & 0.0045 & 0.1054 \\\\\n",
       "\t2 & BRZSP & 0.00322162 & 0.0 & 0.0066 & 0.026 & 0.4788 & 0.0495 & 0.0505 & 0.0066 & 0.1778 \\\\\n",
       "\t3 & KEY & 0.00275731 & 0.00491408 & 0.0 & 0.0266 & 0.0392 & 0.0166 & 0.0192 & 0.0045 & 0.026 \\\\\n",
       "\t4 & MRT & 0.0033492 & 0.00421018 & 0.00142712 & 0.0 & 0.2081 & 0.0045 & 0.009 & 0.026 & 0.0392 \\\\\n",
       "\t5 & PNS & 0.00208144 & 0.00171124 & 0.0016122 & 0.00110864 & 0.0 & 0.0527 & 0.3052 & 0.0045 & 0.5445 \\\\\n",
       "\t6 & PR & 0.00164961 & 0.00380532 & 0.00174722 & 0.00236584 & 0.00158027 & 0.0 & 0.018 & 0.0045 & 0.1778 \\\\\n",
       "\t7 & SCA & 0.00183854 & 0.00400323 & 0.00131807 & 0.00179355 & 0.00109236 & 0.00172863 & 0.0 & 0.0045 & 0.2264 \\\\\n",
       "\t8 & TX & 0.00512836 & 0.00616829 & 0.00452151 & 0.00222685 & 0.00419737 & 0.00500045 & 0.00367676 & 0.0 & 0.0045 \\\\\n",
       "\t9 & VZ & 0.00194382 & 0.003087 & 0.00125401 & 0.0013698 & 0.000711107 & 0.00109614 & 0.00080597 & 0.00391112 & 0.0 \\\\\n",
       "\\end{tabular}\n"
      ],
      "text/plain": [
       "\u001b[1m9×10 DataFrame\u001b[0m\n",
       "\u001b[1m Row \u001b[0m│\u001b[1m pop    \u001b[0m\u001b[1m BRZ        \u001b[0m\u001b[1m BRZSP      \u001b[0m\u001b[1m KEY        \u001b[0m\u001b[1m MRT        \u001b[0m\u001b[1m PNS         \u001b[0m\u001b[1m PR         \u001b[0m\u001b[1m SCA        \u001b[0m\u001b[1m TX         \u001b[0m\u001b[1m VZ      \u001b[0m\n",
       "\u001b[1m     \u001b[0m│\u001b[90m String \u001b[0m\u001b[90m Float64    \u001b[0m\u001b[90m Float64    \u001b[0m\u001b[90m Float64    \u001b[0m\u001b[90m Float64    \u001b[0m\u001b[90m Float64     \u001b[0m\u001b[90m Float64    \u001b[0m\u001b[90m Float64    \u001b[0m\u001b[90m Float64    \u001b[0m\u001b[90m Float64 \u001b[0m\n",
       "─────┼──────────────────────────────────────────────────────────────────────────────────────────────────────────────────\n",
       "   1 │ BRZ     0.0         0.036       0.0066      0.0045      0.0324       0.2774      0.1778      0.0045       0.1054\n",
       "   2 │ BRZSP   0.00322162  0.0         0.0066      0.026       0.4788       0.0495      0.0505      0.0066       0.1778\n",
       "   3 │ KEY     0.00275731  0.00491408  0.0         0.0266      0.0392       0.0166      0.0192      0.0045       0.026\n",
       "   4 │ MRT     0.0033492   0.00421018  0.00142712  0.0         0.2081       0.0045      0.009       0.026        0.0392\n",
       "   5 │ PNS     0.00208144  0.00171124  0.0016122   0.00110864  0.0          0.0527      0.3052      0.0045       0.5445\n",
       "   6 │ PR      0.00164961  0.00380532  0.00174722  0.00236584  0.00158027   0.0         0.018       0.0045       0.1778\n",
       "   7 │ SCA     0.00183854  0.00400323  0.00131807  0.00179355  0.00109236   0.00172863  0.0         0.0045       0.2264\n",
       "   8 │ TX      0.00512836  0.00616829  0.00452151  0.00222685  0.00419737   0.00500045  0.00367676  0.0          0.0045\n",
       "   9 │ VZ      0.00194382  0.003087    0.00125401  0.0013698   0.000711107  0.00109614  0.00080597  0.00391112   0.0"
      ]
     },
     "execution_count": 12,
     "metadata": {},
     "output_type": "execute_result"
    }
   ],
   "source": [
    "adjusted_pfst = adjustpval(pfst.results)"
   ]
  },
  {
   "cell_type": "code",
   "execution_count": 13,
   "metadata": {},
   "outputs": [
    {
     "data": {
      "text/plain": [
       "\"hudson.fdr.fst\""
      ]
     },
     "execution_count": 13,
     "metadata": {},
     "output_type": "execute_result"
    }
   ],
   "source": [
    "CSV.write(\"hudson.fdr.fst\", adjusted_pfst)"
   ]
  }
 ],
 "metadata": {
  "kernelspec": {
   "display_name": "Julia 1.7.3",
   "language": "julia",
   "name": "julia-1.7"
  },
  "language_info": {
   "file_extension": ".jl",
   "mimetype": "application/julia",
   "name": "julia",
   "version": "1.7.3"
  },
  "orig_nbformat": 4
 },
 "nbformat": 4,
 "nbformat_minor": 2
}

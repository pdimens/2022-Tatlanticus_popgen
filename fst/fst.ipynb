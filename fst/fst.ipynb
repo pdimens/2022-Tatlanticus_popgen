{
 "cells": [
  {
   "cell_type": "markdown",
   "metadata": {},
   "source": [
    "# Pairwise FST"
   ]
  },
  {
   "cell_type": "code",
   "execution_count": 6,
   "metadata": {},
   "outputs": [],
   "source": [
    "using Pkg ; Pkg.instantiate()\n",
    "using PopGen\n",
    "using DataFrames\n",
    "using CSV\n",
    "using MultipleTesting"
   ]
  },
  {
   "cell_type": "markdown",
   "metadata": {},
   "source": [
    "## Load the data"
   ]
  },
  {
   "cell_type": "code",
   "execution_count": 7,
   "metadata": {},
   "outputs": [
    {
     "data": {
      "text/plain": [
       "PopData{Diploid, 1448 SNP loci}\n",
       "  Samples: 326\n",
       "  Populations: 9"
      ]
     },
     "metadata": {},
     "output_type": "display_data"
    }
   ],
   "source": [
    "bft = PopGen.read(\"../data/bft.kinrm.gen\", silent = true)"
   ]
  },
  {
   "cell_type": "markdown",
   "metadata": {},
   "source": [
    "Rename populations, since genepop files don't preserve population name"
   ]
  },
  {
   "cell_type": "code",
   "execution_count": 11,
   "metadata": {},
   "outputs": [
    {
     "name": "stdout",
     "output_type": "stream",
     "text": [
      "\n"
     ]
    },
    {
     "data": {
      "text/html": [
       "<div class=\"data-frame\"><p>9 rows × 2 columns</p><table class=\"data-frame\"><thead><tr><th></th><th>population</th><th>count</th></tr><tr><th></th><th title=\"String\">String</th><th title=\"Int64\">Int64</th></tr></thead><tbody><tr><th>1</th><td>BRZ</td><td>23</td></tr><tr><th>2</th><td>BRZSP</td><td>14</td></tr><tr><th>3</th><td>KEY</td><td>55</td></tr><tr><th>4</th><td>MRT</td><td>40</td></tr><tr><th>5</th><td>PNS</td><td>30</td></tr><tr><th>6</th><td>PR</td><td>38</td></tr><tr><th>7</th><td>SCA</td><td>52</td></tr><tr><th>8</th><td>TX</td><td>28</td></tr><tr><th>9</th><td>VZ</td><td>46</td></tr></tbody></table></div>"
      ],
      "text/latex": [
       "\\begin{tabular}{r|cc}\n",
       "\t& population & count\\\\\n",
       "\t\\hline\n",
       "\t& String & Int64\\\\\n",
       "\t\\hline\n",
       "\t1 & BRZ & 23 \\\\\n",
       "\t2 & BRZSP & 14 \\\\\n",
       "\t3 & KEY & 55 \\\\\n",
       "\t4 & MRT & 40 \\\\\n",
       "\t5 & PNS & 30 \\\\\n",
       "\t6 & PR & 38 \\\\\n",
       "\t7 & SCA & 52 \\\\\n",
       "\t8 & TX & 28 \\\\\n",
       "\t9 & VZ & 46 \\\\\n",
       "\\end{tabular}\n"
      ],
      "text/plain": [
       "\u001b[1m9×2 DataFrame\u001b[0m\n",
       "\u001b[1m Row \u001b[0m│\u001b[1m population \u001b[0m\u001b[1m count \u001b[0m\n",
       "\u001b[1m     \u001b[0m│\u001b[90m String     \u001b[0m\u001b[90m Int64 \u001b[0m\n",
       "─────┼───────────────────\n",
       "   1 │ BRZ            23\n",
       "   2 │ BRZSP          14\n",
       "   3 │ KEY            55\n",
       "   4 │ MRT            40\n",
       "   5 │ PNS            30\n",
       "   6 │ PR             38\n",
       "   7 │ SCA            52\n",
       "   8 │ TX             28\n",
       "   9 │ VZ             46"
      ]
     },
     "metadata": {},
     "output_type": "display_data"
    }
   ],
   "source": [
    "popdict = Dict(\n",
    "    \"1\" => \"BRZ\",\n",
    "    \"2\" => \"BRZSP\",\n",
    "    \"3\" => \"KEY\",\n",
    "    \"4\" => \"MRT\",\n",
    "    \"5\" => \"PNS\",\n",
    "    \"6\" => \"PR\",\n",
    "    \"7\" => \"SCA\",\n",
    "    \"8\" => \"TX\",\n",
    "    \"9\" => \"VZ\",\n",
    ")\n",
    "populations!(bft, popdict)\n",
    "populations(bft, counts = true)"
   ]
  },
  {
   "cell_type": "markdown",
   "metadata": {},
   "source": [
    "## Summary Information"
   ]
  },
  {
   "cell_type": "code",
   "execution_count": 12,
   "metadata": {},
   "outputs": [
    {
     "data": {
      "text/html": [
       "<div class=\"data-frame\"><p>1 rows × 10 columns (omitted printing of 1 columns)</p><table class=\"data-frame\"><thead><tr><th></th><th>Het_obs</th><th>HS</th><th>HT</th><th>DST</th><th>HT′</th><th>DST′</th><th>FST</th><th>FST′</th><th>FIS</th></tr><tr><th></th><th title=\"Float64\">Float64</th><th title=\"Float64\">Float64</th><th title=\"Float64\">Float64</th><th title=\"Float64\">Float64</th><th title=\"Float64\">Float64</th><th title=\"Float64\">Float64</th><th title=\"Float64\">Float64</th><th title=\"Float64\">Float64</th><th title=\"Float64\">Float64</th></tr></thead><tbody><tr><th>1</th><td>0.0778</td><td>0.0823</td><td>0.0824</td><td>0.0002</td><td>0.0825</td><td>0.0002</td><td>0.0021</td><td>0.0024</td><td>0.0544</td></tr></tbody></table></div>"
      ],
      "text/latex": [
       "\\begin{tabular}{r|cccccccccc}\n",
       "\t& Het\\_obs & HS & HT & DST & HT′ & DST′ & FST & FST′ & FIS & \\\\\n",
       "\t\\hline\n",
       "\t& Float64 & Float64 & Float64 & Float64 & Float64 & Float64 & Float64 & Float64 & Float64 & \\\\\n",
       "\t\\hline\n",
       "\t1 & 0.0778 & 0.0823 & 0.0824 & 0.0002 & 0.0825 & 0.0002 & 0.0021 & 0.0024 & 0.0544 & $\\dots$ \\\\\n",
       "\\end{tabular}\n"
      ],
      "text/plain": [
       "\u001b[1m1×10 DataFrame\u001b[0m\n",
       "\u001b[1m Row \u001b[0m│\u001b[1m Het_obs \u001b[0m\u001b[1m HS      \u001b[0m\u001b[1m HT      \u001b[0m\u001b[1m DST     \u001b[0m\u001b[1m HT′     \u001b[0m\u001b[1m DST′    \u001b[0m\u001b[1m FST     \u001b[0m\u001b[1m FST′    \u001b[0m\u001b[1m\u001b[0m ⋯\n",
       "\u001b[1m     \u001b[0m│\u001b[90m Float64 \u001b[0m\u001b[90m Float64 \u001b[0m\u001b[90m Float64 \u001b[0m\u001b[90m Float64 \u001b[0m\u001b[90m Float64 \u001b[0m\u001b[90m Float64 \u001b[0m\u001b[90m Float64 \u001b[0m\u001b[90m Float64 \u001b[0m\u001b[90m\u001b[0m ⋯\n",
       "─────┼──────────────────────────────────────────────────────────────────────────\n",
       "   1 │  0.0778   0.0823   0.0824   0.0002   0.0825   0.0002   0.0021   0.0024  ⋯\n",
       "\u001b[36m                                                               2 columns omitted\u001b[0m"
      ]
     },
     "metadata": {},
     "output_type": "display_data"
    }
   ],
   "source": [
    "summarystats(bft)"
   ]
  },
  {
   "cell_type": "markdown",
   "metadata": {},
   "source": [
    "## Hudson pairwise FST"
   ]
  },
  {
   "cell_type": "markdown",
   "metadata": {},
   "source": [
    "Calculate pairwise FST without significance testing"
   ]
  },
  {
   "cell_type": "code",
   "execution_count": 15,
   "metadata": {},
   "outputs": [
    {
     "data": {
      "text/plain": [
       "\u001b[1mPairwise FST: Hudson et al. 1992\u001b[0m\n",
       "\u001b[1m       \u001b[0m\u001b[1m BRZ        \u001b[0m\u001b[1m BRZSP      \u001b[0m\u001b[1m KEY        \u001b[0m\u001b[1m MRT        \u001b[0m\u001b[1m PNS         \u001b[0m\u001b[1m PR       \u001b[0m ⋯\n",
       "────────────────────────────────────────────────────────────────────────────────\n",
       "   BRZ  0.0         0.0         0.0         0.0         0.0          0.0       ⋯\n",
       " BRZSP  0.00306326  0.0         0.0         0.0         0.0          0.0\n",
       "   KEY  0.00232454  0.00451952  0.0         0.0         0.0          0.0\n",
       "   MRT  0.0028456   0.00442876  0.00119415  0.0         0.0          0.0\n",
       "   PNS  0.00178032  0.00204233  0.00119187  0.00110536  0.0          0.0       ⋯\n",
       "    PR  0.00106353  0.00250232  0.00182457  0.00224379  0.00121787   0.0\n",
       "   SCA  0.00152872  0.00397563  0.00111994  0.00157691  0.00136468   0.0011928\n",
       "    TX  0.0052479   0.00612004  0.00445504  0.00226417  0.00501863   0.0049077\n",
       "    VZ  0.00184771  0.00323136  0.00145034  0.00144044  0.000960011  0.0006706 ⋯\n",
       "\u001b[36m                                                               4 columns omitted\u001b[0m"
      ]
     },
     "metadata": {},
     "output_type": "display_data"
    }
   ],
   "source": [
    "pairwisefst(bft, method = \"Hudson\")"
   ]
  },
  {
   "cell_type": "markdown",
   "metadata": {},
   "source": [
    "Calculate pairwise FST with significance testing"
   ]
  },
  {
   "cell_type": "code",
   "execution_count": null,
   "metadata": {},
   "outputs": [],
   "source": [
    "pfst = pairwisefst(bft, method = \"Hudson\", iterations = 999)"
   ]
  },
  {
   "cell_type": "code",
   "execution_count": 30,
   "metadata": {},
   "outputs": [
    {
     "data": {
      "text/html": [
       "<div class=\"data-frame\"><p>9 rows × 9 columns (omitted printing of 2 columns)</p><table class=\"data-frame\"><thead><tr><th></th><th>BRZ</th><th>BRZSP</th><th>KEY</th><th>MRT</th><th>PNS</th><th>PR</th><th>SCA</th></tr><tr><th></th><th title=\"Float64\">Float64</th><th title=\"Float64\">Float64</th><th title=\"Float64\">Float64</th><th title=\"Float64\">Float64</th><th title=\"Float64\">Float64</th><th title=\"Float64\">Float64</th><th title=\"Float64\">Float64</th></tr></thead><tbody><tr><th>1</th><td>0.0</td><td>0.029029</td><td>0.037037</td><td>0.01001</td><td>0.0920921</td><td>0.624625</td><td>0.455455</td></tr><tr><th>2</th><td>0.00306326</td><td>0.0</td><td>0.00700701</td><td>0.00700701</td><td>0.288288</td><td>0.404404</td><td>0.0680681</td></tr><tr><th>3</th><td>0.00232454</td><td>0.00451952</td><td>0.0</td><td>0.0600601</td><td>0.225225</td><td>0.00600601</td><td>0.031031</td></tr><tr><th>4</th><td>0.0028456</td><td>0.00442876</td><td>0.00119415</td><td>0.0</td><td>0.182182</td><td>0.00600601</td><td>0.012012</td></tr><tr><th>5</th><td>0.00178032</td><td>0.00204233</td><td>0.00119187</td><td>0.00110536</td><td>0.0</td><td>0.236236</td><td>0.191191</td></tr><tr><th>6</th><td>0.00106353</td><td>0.00250232</td><td>0.00182457</td><td>0.00224379</td><td>0.00121787</td><td>0.0</td><td>0.133133</td></tr><tr><th>7</th><td>0.00152872</td><td>0.00397563</td><td>0.00111994</td><td>0.00157691</td><td>0.00136468</td><td>0.00119284</td><td>0.0</td></tr><tr><th>8</th><td>0.0052479</td><td>0.00612004</td><td>0.00445504</td><td>0.00226417</td><td>0.00501863</td><td>0.00490776</td><td>0.00413617</td></tr><tr><th>9</th><td>0.00184771</td><td>0.00323136</td><td>0.00145034</td><td>0.00144044</td><td>0.000960011</td><td>0.000670604</td><td>0.000866163</td></tr></tbody></table></div>"
      ],
      "text/latex": [
       "\\begin{tabular}{r|cccccccc}\n",
       "\t& BRZ & BRZSP & KEY & MRT & PNS & PR & SCA & \\\\\n",
       "\t\\hline\n",
       "\t& Float64 & Float64 & Float64 & Float64 & Float64 & Float64 & Float64 & \\\\\n",
       "\t\\hline\n",
       "\t1 & 0.0 & 0.029029 & 0.037037 & 0.01001 & 0.0920921 & 0.624625 & 0.455455 & $\\dots$ \\\\\n",
       "\t2 & 0.00306326 & 0.0 & 0.00700701 & 0.00700701 & 0.288288 & 0.404404 & 0.0680681 & $\\dots$ \\\\\n",
       "\t3 & 0.00232454 & 0.00451952 & 0.0 & 0.0600601 & 0.225225 & 0.00600601 & 0.031031 & $\\dots$ \\\\\n",
       "\t4 & 0.0028456 & 0.00442876 & 0.00119415 & 0.0 & 0.182182 & 0.00600601 & 0.012012 & $\\dots$ \\\\\n",
       "\t5 & 0.00178032 & 0.00204233 & 0.00119187 & 0.00110536 & 0.0 & 0.236236 & 0.191191 & $\\dots$ \\\\\n",
       "\t6 & 0.00106353 & 0.00250232 & 0.00182457 & 0.00224379 & 0.00121787 & 0.0 & 0.133133 & $\\dots$ \\\\\n",
       "\t7 & 0.00152872 & 0.00397563 & 0.00111994 & 0.00157691 & 0.00136468 & 0.00119284 & 0.0 & $\\dots$ \\\\\n",
       "\t8 & 0.0052479 & 0.00612004 & 0.00445504 & 0.00226417 & 0.00501863 & 0.00490776 & 0.00413617 & $\\dots$ \\\\\n",
       "\t9 & 0.00184771 & 0.00323136 & 0.00145034 & 0.00144044 & 0.000960011 & 0.000670604 & 0.000866163 & $\\dots$ \\\\\n",
       "\\end{tabular}\n"
      ],
      "text/plain": [
       "\u001b[1m9×9 DataFrame\u001b[0m\n",
       "\u001b[1m Row \u001b[0m│\u001b[1m BRZ        \u001b[0m\u001b[1m BRZSP      \u001b[0m\u001b[1m KEY        \u001b[0m\u001b[1m MRT        \u001b[0m\u001b[1m PNS         \u001b[0m\u001b[1m PR        \u001b[0m ⋯\n",
       "\u001b[1m     \u001b[0m│\u001b[90m Float64    \u001b[0m\u001b[90m Float64    \u001b[0m\u001b[90m Float64    \u001b[0m\u001b[90m Float64    \u001b[0m\u001b[90m Float64     \u001b[0m\u001b[90m Float64   \u001b[0m ⋯\n",
       "─────┼──────────────────────────────────────────────────────────────────────────\n",
       "   1 │ 0.0         0.029029    0.037037    0.01001     0.0920921    0.624625   ⋯\n",
       "   2 │ 0.00306326  0.0         0.00700701  0.00700701  0.288288     0.404404\n",
       "   3 │ 0.00232454  0.00451952  0.0         0.0600601   0.225225     0.00600601\n",
       "   4 │ 0.0028456   0.00442876  0.00119415  0.0         0.182182     0.00600601\n",
       "   5 │ 0.00178032  0.00204233  0.00119187  0.00110536  0.0          0.236236   ⋯\n",
       "   6 │ 0.00106353  0.00250232  0.00182457  0.00224379  0.00121787   0.0\n",
       "   7 │ 0.00152872  0.00397563  0.00111994  0.00157691  0.00136468   0.00119284\n",
       "   8 │ 0.0052479   0.00612004  0.00445504  0.00226417  0.00501863   0.00490776\n",
       "   9 │ 0.00184771  0.00323136  0.00145034  0.00144044  0.000960011  0.00067060 ⋯\n",
       "\u001b[36m                                                               4 columns omitted\u001b[0m"
      ]
     },
     "metadata": {},
     "output_type": "display_data"
    }
   ],
   "source": [
    "CSV.write(\"hudson.fst\", pfst.results)\n",
    "pfst.results"
   ]
  },
  {
   "cell_type": "markdown",
   "metadata": {},
   "source": [
    "Function pulled from `PopGenCore.jl` to isolate the top triangle of the output matrix for P-value correction"
   ]
  },
  {
   "cell_type": "code",
   "execution_count": 20,
   "metadata": {},
   "outputs": [
    {
     "data": {
      "text/plain": [
       "partitionarray (generic function with 1 method)"
      ]
     },
     "metadata": {},
     "output_type": "display_data"
    }
   ],
   "source": [
    "function partitionarray(array::AbstractArray, steps::AbstractVector{<:Integer})\n",
    "    v = axes(array,1)\n",
    "    v == 1:sum(steps) || error(\"Steps provided do not sum to length of the first dimension\")\n",
    "    i = firstindex(v)\n",
    "    tmp = (view(v, i:(i+=s)-1) for s in steps)\n",
    "    [view(array,r,:) for r in tmp]\n",
    "end"
   ]
  },
  {
   "cell_type": "markdown",
   "metadata": {},
   "source": [
    "Function to perform a Benjamini-Hochberg FDR correction on the P-values in the upper triangle"
   ]
  },
  {
   "cell_type": "code",
   "execution_count": 21,
   "metadata": {},
   "outputs": [
    {
     "data": {
      "text/plain": [
       "adjustpval (generic function with 1 method)"
      ]
     },
     "metadata": {},
     "output_type": "display_data"
    }
   ],
   "source": [
    "\n",
    "function adjustpval(fstval::DataFrame)\n",
    "    fst = deepcopy(fstval)\n",
    "    rows = size(fst,1)\n",
    "    pval = mapreduce(vcat, 1:rows-1) do i\n",
    "        collect(fst[i,i+1:end])\n",
    "    end\n",
    "    posthoc = round.(adjust(pval, BenjaminiHochberg()),digits = 4)\n",
    "    splitpart = partitionarray(posthoc, reverse(collect(1:(rows-1)))) .|> collect\n",
    "    for i in 1:(rows-1)\n",
    "        fst[i, (i+1):end] .= splitpart[i][:,1]\n",
    "    end\n",
    "    insertcols!(fst, 1, :pop => names(fst))\n",
    "    return fst\n",
    "end"
   ]
  },
  {
   "cell_type": "markdown",
   "metadata": {},
   "source": [
    "## Correct the P-values for multiple testing"
   ]
  },
  {
   "cell_type": "code",
   "execution_count": 25,
   "metadata": {},
   "outputs": [
    {
     "data": {
      "text/html": [
       "<div class=\"data-frame\"><p>9 rows × 10 columns (omitted printing of 3 columns)</p><table class=\"data-frame\"><thead><tr><th></th><th>pop</th><th>BRZ</th><th>BRZSP</th><th>KEY</th><th>MRT</th><th>PNS</th><th>PR</th></tr><tr><th></th><th title=\"String\">String</th><th title=\"Float64\">Float64</th><th title=\"Float64\">Float64</th><th title=\"Float64\">Float64</th><th title=\"Float64\">Float64</th><th title=\"Float64\">Float64</th><th title=\"Float64\">Float64</th></tr></thead><tbody><tr><th>1</th><td>BRZ</td><td>0.0</td><td>0.0653</td><td>0.0741</td><td>0.03</td><td>0.1507</td><td>0.6246</td></tr><tr><th>2</th><td>BRZSP</td><td>0.00306326</td><td>0.0</td><td>0.0229</td><td>0.0229</td><td>0.3348</td><td>0.455</td></tr><tr><th>3</th><td>KEY</td><td>0.00232454</td><td>0.00451952</td><td>0.0</td><td>0.1135</td><td>0.2896</td><td>0.0229</td></tr><tr><th>4</th><td>MRT</td><td>0.0028456</td><td>0.00442876</td><td>0.00119415</td><td>0.0</td><td>0.2623</td><td>0.0229</td></tr><tr><th>5</th><td>PNS</td><td>0.00178032</td><td>0.00204233</td><td>0.00119187</td><td>0.00110536</td><td>0.0</td><td>0.2933</td></tr><tr><th>6</th><td>PR</td><td>0.00106353</td><td>0.00250232</td><td>0.00182457</td><td>0.00224379</td><td>0.00121787</td><td>0.0</td></tr><tr><th>7</th><td>SCA</td><td>0.00152872</td><td>0.00397563</td><td>0.00111994</td><td>0.00157691</td><td>0.00136468</td><td>0.00119284</td></tr><tr><th>8</th><td>TX</td><td>0.0052479</td><td>0.00612004</td><td>0.00445504</td><td>0.00226417</td><td>0.00501863</td><td>0.00490776</td></tr><tr><th>9</th><td>VZ</td><td>0.00184771</td><td>0.00323136</td><td>0.00145034</td><td>0.00144044</td><td>0.000960011</td><td>0.000670604</td></tr></tbody></table></div>"
      ],
      "text/latex": [
       "\\begin{tabular}{r|cccccccc}\n",
       "\t& pop & BRZ & BRZSP & KEY & MRT & PNS & PR & \\\\\n",
       "\t\\hline\n",
       "\t& String & Float64 & Float64 & Float64 & Float64 & Float64 & Float64 & \\\\\n",
       "\t\\hline\n",
       "\t1 & BRZ & 0.0 & 0.0653 & 0.0741 & 0.03 & 0.1507 & 0.6246 & $\\dots$ \\\\\n",
       "\t2 & BRZSP & 0.00306326 & 0.0 & 0.0229 & 0.0229 & 0.3348 & 0.455 & $\\dots$ \\\\\n",
       "\t3 & KEY & 0.00232454 & 0.00451952 & 0.0 & 0.1135 & 0.2896 & 0.0229 & $\\dots$ \\\\\n",
       "\t4 & MRT & 0.0028456 & 0.00442876 & 0.00119415 & 0.0 & 0.2623 & 0.0229 & $\\dots$ \\\\\n",
       "\t5 & PNS & 0.00178032 & 0.00204233 & 0.00119187 & 0.00110536 & 0.0 & 0.2933 & $\\dots$ \\\\\n",
       "\t6 & PR & 0.00106353 & 0.00250232 & 0.00182457 & 0.00224379 & 0.00121787 & 0.0 & $\\dots$ \\\\\n",
       "\t7 & SCA & 0.00152872 & 0.00397563 & 0.00111994 & 0.00157691 & 0.00136468 & 0.00119284 & $\\dots$ \\\\\n",
       "\t8 & TX & 0.0052479 & 0.00612004 & 0.00445504 & 0.00226417 & 0.00501863 & 0.00490776 & $\\dots$ \\\\\n",
       "\t9 & VZ & 0.00184771 & 0.00323136 & 0.00145034 & 0.00144044 & 0.000960011 & 0.000670604 & $\\dots$ \\\\\n",
       "\\end{tabular}\n"
      ],
      "text/plain": [
       "\u001b[1m9×10 DataFrame\u001b[0m\n",
       "\u001b[1m Row \u001b[0m│\u001b[1m pop    \u001b[0m\u001b[1m BRZ        \u001b[0m\u001b[1m BRZSP      \u001b[0m\u001b[1m KEY        \u001b[0m\u001b[1m MRT        \u001b[0m\u001b[1m PNS         \u001b[0m\u001b[1m PR\u001b[0m ⋯\n",
       "\u001b[1m     \u001b[0m│\u001b[90m String \u001b[0m\u001b[90m Float64    \u001b[0m\u001b[90m Float64    \u001b[0m\u001b[90m Float64    \u001b[0m\u001b[90m Float64    \u001b[0m\u001b[90m Float64     \u001b[0m\u001b[90m Fl\u001b[0m ⋯\n",
       "─────┼──────────────────────────────────────────────────────────────────────────\n",
       "   1 │ BRZ     0.0         0.0653      0.0741      0.03        0.1507       0. ⋯\n",
       "   2 │ BRZSP   0.00306326  0.0         0.0229      0.0229      0.3348       0.\n",
       "   3 │ KEY     0.00232454  0.00451952  0.0         0.1135      0.2896       0.\n",
       "   4 │ MRT     0.0028456   0.00442876  0.00119415  0.0         0.2623       0.\n",
       "   5 │ PNS     0.00178032  0.00204233  0.00119187  0.00110536  0.0          0. ⋯\n",
       "   6 │ PR      0.00106353  0.00250232  0.00182457  0.00224379  0.00121787   0.\n",
       "   7 │ SCA     0.00152872  0.00397563  0.00111994  0.00157691  0.00136468   0.\n",
       "   8 │ TX      0.0052479   0.00612004  0.00445504  0.00226417  0.00501863   0.\n",
       "   9 │ VZ      0.00184771  0.00323136  0.00145034  0.00144044  0.000960011  0. ⋯\n",
       "\u001b[36m                                                               4 columns omitted\u001b[0m"
      ]
     },
     "metadata": {},
     "output_type": "display_data"
    }
   ],
   "source": [
    "adjusted_pfst = adjustpval(pfst.results)"
   ]
  },
  {
   "cell_type": "code",
   "execution_count": 27,
   "metadata": {},
   "outputs": [
    {
     "data": {
      "text/plain": [
       "\"hudson.fdr.fst\""
      ]
     },
     "metadata": {},
     "output_type": "display_data"
    }
   ],
   "source": [
    "CSV.write(\"hudson.fdr.fst\", adjusted_pfst)"
   ]
  }
 ],
 "metadata": {
  "kernelspec": {
   "display_name": "Julia 1.7.3",
   "language": "julia",
   "name": "julia-1.7"
  },
  "language_info": {
   "file_extension": ".jl",
   "mimetype": "application/julia",
   "name": "julia",
   "version": "1.7.3"
  },
  "orig_nbformat": 4
 },
 "nbformat": 4,
 "nbformat_minor": 2
}

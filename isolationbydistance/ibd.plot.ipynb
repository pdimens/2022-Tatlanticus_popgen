{
 "cells": [
  {
   "cell_type": "code",
   "execution_count": null,
   "metadata": {
    "vscode": {
     "languageId": "r"
    }
   },
   "outputs": [],
   "source": [
    "library(ggplot2)\n",
    "library(data.table)"
   ]
  },
  {
   "cell_type": "code",
   "execution_count": null,
   "metadata": {
    "vscode": {
     "languageId": "r"
    }
   },
   "outputs": [],
   "source": [
    "ibd <- read.csv(\"ibd.results\")\n",
    "distnames <- as.character(ibd[2,])\n",
    "ibd <- ibd[-c(1:2),]\n",
    "cn <- ibd[,1]\n",
    "ibd <- ibd[,-1]\n",
    "ibd[] <- lapply(ibd, function(x) as.numeric(x))\n",
    "ibd <- transpose(ibd)\n",
    "colnames(ibd) <- cn\n",
    "dn <- distnames[2:length(distnames)]\n",
    "ibd$distance <- factor(dn, ordered = T, levels = dn)\n",
    "head(ibd)"
   ]
  },
  {
   "cell_type": "code",
   "execution_count": null,
   "metadata": {
    "vscode": {
     "languageId": "r"
    }
   },
   "outputs": [],
   "source": [
    "colors <- c(\"estimate\" = \"dodgerblue\", \"95% null CI\" = \"#aa6699\", \"95% bootstrap CI\" = \"grey60\")"
   ]
  },
  {
   "cell_type": "code",
   "execution_count": null,
   "metadata": {
    "vscode": {
     "languageId": "r"
    }
   },
   "outputs": [],
   "source": [
    "ggplot(data = ibd) +\n",
    "  geom_hline(yintercept = 0, color = \"grey80\") +\n",
    "  geom_point(aes(x = 2, y = r, color = \"estimate\"), size = 2) +\n",
    "  geom_segment(aes(x = 1, xend=1, y = U , yend = L, color = \"95% null CI\"), size = 1.5) +\n",
    "  geom_segment(aes(x = 3, xend=3, y = bootlow , yend = boothi, color = \"95% bootstrap CI\"), size = 1.5) +\n",
    "  facet_grid(~distance) +\n",
    "  theme_bw() +\n",
    "  theme(\n",
    "    panel.grid.major = element_blank(), \n",
    "    panel.grid.minor = element_blank(),\n",
    "    axis.title.x=element_blank(),\n",
    "    axis.text.x=element_blank(),\n",
    "    axis.ticks.x=element_blank()\n",
    "    ) +\n",
    "  labs(\n",
    "    x = \"\",\n",
    "    y = \"r\",\n",
    "    color = \"Legend\") +\n",
    "  coord_cartesian(c(-2,6),c(-0.0015, 0.0035), expand = F) +\n",
    "  labs(title = \"Combined r values at different distance (km) class sizes\") +\n",
    "  scale_color_manual(values = colors)"
   ]
  },
  {
   "cell_type": "code",
   "execution_count": null,
   "metadata": {
    "vscode": {
     "languageId": "r"
    }
   },
   "outputs": [],
   "source": [
    "ggsave(filename = \"isolationbydistance.png\", height = 3, width = 12, units = \"in\")"
   ]
  }
 ],
 "metadata": {
  "kernelspec": {
   "display_name": "R",
   "language": "R",
   "name": "ir"
  },
  "language_info": {
   "name": "R"
  },
  "orig_nbformat": 4
 },
 "nbformat": 4,
 "nbformat_minor": 2
}

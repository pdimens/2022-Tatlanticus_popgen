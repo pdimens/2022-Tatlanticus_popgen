{
 "cells": [
  {
   "cell_type": "code",
   "execution_count": 11,
   "id": "d6bb566b-b4e3-4769-8b71-6d2544d0cb12",
   "metadata": {
    "vscode": {
     "languageId": "r"
    }
   },
   "outputs": [
    {
     "data": {
      "text/html": [
       "<table class=\"dataframe\">\n",
       "<caption>A data.frame: 6 × 4</caption>\n",
       "<thead>\n",
       "\t<tr><th></th><th scope=col>LocusName</th><th scope=col>He</th><th scope=col>FST</th><th scope=col>OutlierFlag</th></tr>\n",
       "\t<tr><th></th><th scope=col>&lt;chr&gt;</th><th scope=col>&lt;dbl&gt;</th><th scope=col>&lt;dbl&gt;</th><th scope=col>&lt;lgl&gt;</th></tr>\n",
       "</thead>\n",
       "<tbody>\n",
       "\t<tr><th scope=row>1</th><td>232_pilon_2036 </td><td>0.04054424</td><td> 0.003180230</td><td>FALSE</td></tr>\n",
       "\t<tr><th scope=row>2</th><td>335_pilon_972  </td><td>0.03310320</td><td> 0.015963394</td><td>FALSE</td></tr>\n",
       "\t<tr><th scope=row>3</th><td>341_pilon_1400 </td><td>0.07372778</td><td> 0.012276337</td><td>FALSE</td></tr>\n",
       "\t<tr><th scope=row>4</th><td>536_pilon_3491 </td><td>0.02571911</td><td> 0.002899539</td><td>FALSE</td></tr>\n",
       "\t<tr><th scope=row>5</th><td>794_pilon_11572</td><td>0.03736961</td><td>-0.001459879</td><td>FALSE</td></tr>\n",
       "\t<tr><th scope=row>6</th><td>1009_pilon_1199</td><td>0.02476391</td><td>-0.001584578</td><td>FALSE</td></tr>\n",
       "</tbody>\n",
       "</table>\n"
      ],
      "text/latex": [
       "A data.frame: 6 × 4\n",
       "\\begin{tabular}{r|llll}\n",
       "  & LocusName & He & FST & OutlierFlag\\\\\n",
       "  & <chr> & <dbl> & <dbl> & <lgl>\\\\\n",
       "\\hline\n",
       "\t1 & 232\\_pilon\\_2036  & 0.04054424 &  0.003180230 & FALSE\\\\\n",
       "\t2 & 335\\_pilon\\_972   & 0.03310320 &  0.015963394 & FALSE\\\\\n",
       "\t3 & 341\\_pilon\\_1400  & 0.07372778 &  0.012276337 & FALSE\\\\\n",
       "\t4 & 536\\_pilon\\_3491  & 0.02571911 &  0.002899539 & FALSE\\\\\n",
       "\t5 & 794\\_pilon\\_11572 & 0.03736961 & -0.001459879 & FALSE\\\\\n",
       "\t6 & 1009\\_pilon\\_1199 & 0.02476391 & -0.001584578 & FALSE\\\\\n",
       "\\end{tabular}\n"
      ],
      "text/markdown": [
       "\n",
       "A data.frame: 6 × 4\n",
       "\n",
       "| <!--/--> | LocusName &lt;chr&gt; | He &lt;dbl&gt; | FST &lt;dbl&gt; | OutlierFlag &lt;lgl&gt; |\n",
       "|---|---|---|---|---|\n",
       "| 1 | 232_pilon_2036  | 0.04054424 |  0.003180230 | FALSE |\n",
       "| 2 | 335_pilon_972   | 0.03310320 |  0.015963394 | FALSE |\n",
       "| 3 | 341_pilon_1400  | 0.07372778 |  0.012276337 | FALSE |\n",
       "| 4 | 536_pilon_3491  | 0.02571911 |  0.002899539 | FALSE |\n",
       "| 5 | 794_pilon_11572 | 0.03736961 | -0.001459879 | FALSE |\n",
       "| 6 | 1009_pilon_1199 | 0.02476391 | -0.001584578 | FALSE |\n",
       "\n"
      ],
      "text/plain": [
       "  LocusName       He         FST          OutlierFlag\n",
       "1 232_pilon_2036  0.04054424  0.003180230 FALSE      \n",
       "2 335_pilon_972   0.03310320  0.015963394 FALSE      \n",
       "3 341_pilon_1400  0.07372778  0.012276337 FALSE      \n",
       "4 536_pilon_3491  0.02571911  0.002899539 FALSE      \n",
       "5 794_pilon_11572 0.03736961 -0.001459879 FALSE      \n",
       "6 1009_pilon_1199 0.02476391 -0.001584578 FALSE      "
      ]
     },
     "metadata": {},
     "output_type": "display_data"
    }
   ],
   "source": [
    "## Load packages\n",
    "library(ggplot2)\n",
    "library(dplyr)\n",
    "options(repr.plot.width=20, repr.plot.height=10)\n",
    "snp.names <- readLines(\"../inputfiles/snp.names\")\n",
    "all.fst <- read.csv(\"outflank/outflank.thinned.csv\")[,c(1,2,3,15)]\n",
    "all.fst$LocusName <- gsub(\"\\\\.[0-9]+\", \"\", all.fst$LocusName)\n",
    "head(all.fst)"
   ]
  },
  {
   "cell_type": "markdown",
   "id": "227dadff-8316-46d2-b1bf-0b3bf6f0a2cd",
   "metadata": {},
   "source": [
    "## Bayescan results\n",
    "- Bayescan detected no outlier loci"
   ]
  },
  {
   "cell_type": "markdown",
   "id": "5577c4ad-9858-490d-a4b9-98ae0c28ddff",
   "metadata": {},
   "source": [
    "## outFlank results"
   ]
  },
  {
   "cell_type": "code",
   "execution_count": 18,
   "id": "30297e16-6f49-43f9-9ba2-7199e0e36340",
   "metadata": {
    "vscode": {
     "languageId": "r"
    }
   },
   "outputs": [
    {
     "data": {
      "text/html": [
       "<style>\n",
       ".list-inline {list-style: none; margin:0; padding: 0}\n",
       ".list-inline>li {display: inline-block}\n",
       ".list-inline>li:not(:last-child)::after {content: \"\\00b7\"; padding: 0 .5ex}\n",
       "</style>\n",
       "<ol class=list-inline><li>'22845_pilon_21316'</li><li>'38948_pilon_27399'</li><li>'41950_pilon_50866'</li><li>'43953_pilon_6455'</li><li>'49150_pilon_108095'</li><li>'55180_pilon_1698'</li><li>'61086_pilon_2498'</li><li>'64444_pilon_21010'</li><li>'67749_pilon_4410'</li><li>'78696_pilon_35444'</li><li>'80652_pilon_1211'</li><li>'87121_pilon_5841'</li><li>'92013_pilon_10508'</li><li>'98145_pilon_5343'</li><li>'102684_pilon_5263'</li><li>'103835_pilon_1643'</li><li>'110673_pilon_20700'</li><li>'120765_pilon_2031'</li><li>'132666_pilon_7217'</li><li>'134438_pilon_3107'</li><li>'135818_pilon_6357'</li><li>'139985_pilon_1404'</li><li>'142032_pilon_1347'</li><li>'147180_pilon_17454'</li><li>'148831_pilon_2574'</li><li>'181231_pilon_3961'</li><li>'183746_pilon_14459'</li><li>'185042_pilon_3632'</li><li>'186965_pilon_0_2535'</li><li>'200020_pilon_7057'</li><li>'202625_pilon_20075'</li><li>'207091_pilon_623'</li><li>'257918_pilon_16155'</li><li>'265933_pilon_1742'</li><li>'267657_pilon_1176'</li><li>'271640_pilon_737'</li><li>'284542_pilon_1491'</li><li>'292802_pilon_14259'</li><li>'296530_pilon_0_16003'</li></ol>\n"
      ],
      "text/latex": [
       "\\begin{enumerate*}\n",
       "\\item '22845\\_pilon\\_21316'\n",
       "\\item '38948\\_pilon\\_27399'\n",
       "\\item '41950\\_pilon\\_50866'\n",
       "\\item '43953\\_pilon\\_6455'\n",
       "\\item '49150\\_pilon\\_108095'\n",
       "\\item '55180\\_pilon\\_1698'\n",
       "\\item '61086\\_pilon\\_2498'\n",
       "\\item '64444\\_pilon\\_21010'\n",
       "\\item '67749\\_pilon\\_4410'\n",
       "\\item '78696\\_pilon\\_35444'\n",
       "\\item '80652\\_pilon\\_1211'\n",
       "\\item '87121\\_pilon\\_5841'\n",
       "\\item '92013\\_pilon\\_10508'\n",
       "\\item '98145\\_pilon\\_5343'\n",
       "\\item '102684\\_pilon\\_5263'\n",
       "\\item '103835\\_pilon\\_1643'\n",
       "\\item '110673\\_pilon\\_20700'\n",
       "\\item '120765\\_pilon\\_2031'\n",
       "\\item '132666\\_pilon\\_7217'\n",
       "\\item '134438\\_pilon\\_3107'\n",
       "\\item '135818\\_pilon\\_6357'\n",
       "\\item '139985\\_pilon\\_1404'\n",
       "\\item '142032\\_pilon\\_1347'\n",
       "\\item '147180\\_pilon\\_17454'\n",
       "\\item '148831\\_pilon\\_2574'\n",
       "\\item '181231\\_pilon\\_3961'\n",
       "\\item '183746\\_pilon\\_14459'\n",
       "\\item '185042\\_pilon\\_3632'\n",
       "\\item '186965\\_pilon\\_0\\_2535'\n",
       "\\item '200020\\_pilon\\_7057'\n",
       "\\item '202625\\_pilon\\_20075'\n",
       "\\item '207091\\_pilon\\_623'\n",
       "\\item '257918\\_pilon\\_16155'\n",
       "\\item '265933\\_pilon\\_1742'\n",
       "\\item '267657\\_pilon\\_1176'\n",
       "\\item '271640\\_pilon\\_737'\n",
       "\\item '284542\\_pilon\\_1491'\n",
       "\\item '292802\\_pilon\\_14259'\n",
       "\\item '296530\\_pilon\\_0\\_16003'\n",
       "\\end{enumerate*}\n"
      ],
      "text/markdown": [
       "1. '22845_pilon_21316'\n",
       "2. '38948_pilon_27399'\n",
       "3. '41950_pilon_50866'\n",
       "4. '43953_pilon_6455'\n",
       "5. '49150_pilon_108095'\n",
       "6. '55180_pilon_1698'\n",
       "7. '61086_pilon_2498'\n",
       "8. '64444_pilon_21010'\n",
       "9. '67749_pilon_4410'\n",
       "10. '78696_pilon_35444'\n",
       "11. '80652_pilon_1211'\n",
       "12. '87121_pilon_5841'\n",
       "13. '92013_pilon_10508'\n",
       "14. '98145_pilon_5343'\n",
       "15. '102684_pilon_5263'\n",
       "16. '103835_pilon_1643'\n",
       "17. '110673_pilon_20700'\n",
       "18. '120765_pilon_2031'\n",
       "19. '132666_pilon_7217'\n",
       "20. '134438_pilon_3107'\n",
       "21. '135818_pilon_6357'\n",
       "22. '139985_pilon_1404'\n",
       "23. '142032_pilon_1347'\n",
       "24. '147180_pilon_17454'\n",
       "25. '148831_pilon_2574'\n",
       "26. '181231_pilon_3961'\n",
       "27. '183746_pilon_14459'\n",
       "28. '185042_pilon_3632'\n",
       "29. '186965_pilon_0_2535'\n",
       "30. '200020_pilon_7057'\n",
       "31. '202625_pilon_20075'\n",
       "32. '207091_pilon_623'\n",
       "33. '257918_pilon_16155'\n",
       "34. '265933_pilon_1742'\n",
       "35. '267657_pilon_1176'\n",
       "36. '271640_pilon_737'\n",
       "37. '284542_pilon_1491'\n",
       "38. '292802_pilon_14259'\n",
       "39. '296530_pilon_0_16003'\n",
       "\n",
       "\n"
      ],
      "text/plain": [
       " [1] \"22845_pilon_21316\"    \"38948_pilon_27399\"    \"41950_pilon_50866\"   \n",
       " [4] \"43953_pilon_6455\"     \"49150_pilon_108095\"   \"55180_pilon_1698\"    \n",
       " [7] \"61086_pilon_2498\"     \"64444_pilon_21010\"    \"67749_pilon_4410\"    \n",
       "[10] \"78696_pilon_35444\"    \"80652_pilon_1211\"     \"87121_pilon_5841\"    \n",
       "[13] \"92013_pilon_10508\"    \"98145_pilon_5343\"     \"102684_pilon_5263\"   \n",
       "[16] \"103835_pilon_1643\"    \"110673_pilon_20700\"   \"120765_pilon_2031\"   \n",
       "[19] \"132666_pilon_7217\"    \"134438_pilon_3107\"    \"135818_pilon_6357\"   \n",
       "[22] \"139985_pilon_1404\"    \"142032_pilon_1347\"    \"147180_pilon_17454\"  \n",
       "[25] \"148831_pilon_2574\"    \"181231_pilon_3961\"    \"183746_pilon_14459\"  \n",
       "[28] \"185042_pilon_3632\"    \"186965_pilon_0_2535\"  \"200020_pilon_7057\"   \n",
       "[31] \"202625_pilon_20075\"   \"207091_pilon_623\"     \"257918_pilon_16155\"  \n",
       "[34] \"265933_pilon_1742\"    \"267657_pilon_1176\"    \"271640_pilon_737\"    \n",
       "[37] \"284542_pilon_1491\"    \"292802_pilon_14259\"   \"296530_pilon_0_16003\""
      ]
     },
     "metadata": {},
     "output_type": "display_data"
    }
   ],
   "source": [
    "outflank <- readLines(\"outflank/outflank.outliers.loci\")\n",
    "outflank"
   ]
  },
  {
   "cell_type": "markdown",
   "id": "7fa26d98",
   "metadata": {},
   "source": [
    "### Baypass results"
   ]
  },
  {
   "cell_type": "code",
   "execution_count": 17,
   "id": "4d61997f-cfb4-4529-9138-2fb04292c046",
   "metadata": {
    "vscode": {
     "languageId": "r"
    }
   },
   "outputs": [
    {
     "data": {
      "text/html": [
       "<style>\n",
       ".list-inline {list-style: none; margin:0; padding: 0}\n",
       ".list-inline>li {display: inline-block}\n",
       ".list-inline>li:not(:last-child)::after {content: \"\\00b7\"; padding: 0 .5ex}\n",
       "</style>\n",
       "<ol class=list-inline><li>'11109_pilon_0_9627'</li><li>'15505_pilon_1182'</li><li>'17843_pilon_14110'</li><li>'27601_pilon_14553'</li><li>'37918_pilon_5372'</li><li>'48400_pilon_59645'</li><li>'71299_pilon_4998'</li><li>'72684_pilon_1115'</li><li>'81760_pilon_21713'</li><li>'88968_pilon_13757'</li><li>'90479_pilon_294'</li><li>'94230_pilon_23398'</li><li>'96091_pilon_11444'</li><li>'100040_pilon_3995'</li><li>'102827_pilon_7466'</li><li>'121264_pilon_6161'</li><li>'123135_pilon_1053'</li><li>'137993_pilon_19876'</li><li>'143934_pilon_248'</li><li>'147858_pilon_956'</li><li>'149609_pilon_959'</li><li>'153020_pilon_349'</li><li>'153512_pilon_132'</li><li>'154544_pilon_11063'</li><li>'161620_pilon_735'</li><li>'164644_pilon_6837'</li><li>'173398_pilon_0_7671'</li><li>'174665_pilon_41371'</li><li>'184246_pilon_8558'</li><li>'198417_pilon_2344'</li><li>'204938_pilon_220'</li><li>'214603_pilon_405'</li><li>'229749_pilon_457'</li><li>'235691_pilon_9106'</li><li>'236078_pilon_4226'</li><li>'242520_pilon_3777'</li><li>'246002_pilon_2110'</li><li>'249802_pilon_1496'</li><li>'260302_pilon_2507'</li><li>'271143_pilon_2990'</li><li>'283882_pilon_10357'</li><li>'292870_pilon_1_817'</li><li>'293334_pilon_3311'</li></ol>\n"
      ],
      "text/latex": [
       "\\begin{enumerate*}\n",
       "\\item '11109\\_pilon\\_0\\_9627'\n",
       "\\item '15505\\_pilon\\_1182'\n",
       "\\item '17843\\_pilon\\_14110'\n",
       "\\item '27601\\_pilon\\_14553'\n",
       "\\item '37918\\_pilon\\_5372'\n",
       "\\item '48400\\_pilon\\_59645'\n",
       "\\item '71299\\_pilon\\_4998'\n",
       "\\item '72684\\_pilon\\_1115'\n",
       "\\item '81760\\_pilon\\_21713'\n",
       "\\item '88968\\_pilon\\_13757'\n",
       "\\item '90479\\_pilon\\_294'\n",
       "\\item '94230\\_pilon\\_23398'\n",
       "\\item '96091\\_pilon\\_11444'\n",
       "\\item '100040\\_pilon\\_3995'\n",
       "\\item '102827\\_pilon\\_7466'\n",
       "\\item '121264\\_pilon\\_6161'\n",
       "\\item '123135\\_pilon\\_1053'\n",
       "\\item '137993\\_pilon\\_19876'\n",
       "\\item '143934\\_pilon\\_248'\n",
       "\\item '147858\\_pilon\\_956'\n",
       "\\item '149609\\_pilon\\_959'\n",
       "\\item '153020\\_pilon\\_349'\n",
       "\\item '153512\\_pilon\\_132'\n",
       "\\item '154544\\_pilon\\_11063'\n",
       "\\item '161620\\_pilon\\_735'\n",
       "\\item '164644\\_pilon\\_6837'\n",
       "\\item '173398\\_pilon\\_0\\_7671'\n",
       "\\item '174665\\_pilon\\_41371'\n",
       "\\item '184246\\_pilon\\_8558'\n",
       "\\item '198417\\_pilon\\_2344'\n",
       "\\item '204938\\_pilon\\_220'\n",
       "\\item '214603\\_pilon\\_405'\n",
       "\\item '229749\\_pilon\\_457'\n",
       "\\item '235691\\_pilon\\_9106'\n",
       "\\item '236078\\_pilon\\_4226'\n",
       "\\item '242520\\_pilon\\_3777'\n",
       "\\item '246002\\_pilon\\_2110'\n",
       "\\item '249802\\_pilon\\_1496'\n",
       "\\item '260302\\_pilon\\_2507'\n",
       "\\item '271143\\_pilon\\_2990'\n",
       "\\item '283882\\_pilon\\_10357'\n",
       "\\item '292870\\_pilon\\_1\\_817'\n",
       "\\item '293334\\_pilon\\_3311'\n",
       "\\end{enumerate*}\n"
      ],
      "text/markdown": [
       "1. '11109_pilon_0_9627'\n",
       "2. '15505_pilon_1182'\n",
       "3. '17843_pilon_14110'\n",
       "4. '27601_pilon_14553'\n",
       "5. '37918_pilon_5372'\n",
       "6. '48400_pilon_59645'\n",
       "7. '71299_pilon_4998'\n",
       "8. '72684_pilon_1115'\n",
       "9. '81760_pilon_21713'\n",
       "10. '88968_pilon_13757'\n",
       "11. '90479_pilon_294'\n",
       "12. '94230_pilon_23398'\n",
       "13. '96091_pilon_11444'\n",
       "14. '100040_pilon_3995'\n",
       "15. '102827_pilon_7466'\n",
       "16. '121264_pilon_6161'\n",
       "17. '123135_pilon_1053'\n",
       "18. '137993_pilon_19876'\n",
       "19. '143934_pilon_248'\n",
       "20. '147858_pilon_956'\n",
       "21. '149609_pilon_959'\n",
       "22. '153020_pilon_349'\n",
       "23. '153512_pilon_132'\n",
       "24. '154544_pilon_11063'\n",
       "25. '161620_pilon_735'\n",
       "26. '164644_pilon_6837'\n",
       "27. '173398_pilon_0_7671'\n",
       "28. '174665_pilon_41371'\n",
       "29. '184246_pilon_8558'\n",
       "30. '198417_pilon_2344'\n",
       "31. '204938_pilon_220'\n",
       "32. '214603_pilon_405'\n",
       "33. '229749_pilon_457'\n",
       "34. '235691_pilon_9106'\n",
       "35. '236078_pilon_4226'\n",
       "36. '242520_pilon_3777'\n",
       "37. '246002_pilon_2110'\n",
       "38. '249802_pilon_1496'\n",
       "39. '260302_pilon_2507'\n",
       "40. '271143_pilon_2990'\n",
       "41. '283882_pilon_10357'\n",
       "42. '292870_pilon_1_817'\n",
       "43. '293334_pilon_3311'\n",
       "\n",
       "\n"
      ],
      "text/plain": [
       " [1] \"11109_pilon_0_9627\"  \"15505_pilon_1182\"    \"17843_pilon_14110\"  \n",
       " [4] \"27601_pilon_14553\"   \"37918_pilon_5372\"    \"48400_pilon_59645\"  \n",
       " [7] \"71299_pilon_4998\"    \"72684_pilon_1115\"    \"81760_pilon_21713\"  \n",
       "[10] \"88968_pilon_13757\"   \"90479_pilon_294\"     \"94230_pilon_23398\"  \n",
       "[13] \"96091_pilon_11444\"   \"100040_pilon_3995\"   \"102827_pilon_7466\"  \n",
       "[16] \"121264_pilon_6161\"   \"123135_pilon_1053\"   \"137993_pilon_19876\" \n",
       "[19] \"143934_pilon_248\"    \"147858_pilon_956\"    \"149609_pilon_959\"   \n",
       "[22] \"153020_pilon_349\"    \"153512_pilon_132\"    \"154544_pilon_11063\" \n",
       "[25] \"161620_pilon_735\"    \"164644_pilon_6837\"   \"173398_pilon_0_7671\"\n",
       "[28] \"174665_pilon_41371\"  \"184246_pilon_8558\"   \"198417_pilon_2344\"  \n",
       "[31] \"204938_pilon_220\"    \"214603_pilon_405\"    \"229749_pilon_457\"   \n",
       "[34] \"235691_pilon_9106\"   \"236078_pilon_4226\"   \"242520_pilon_3777\"  \n",
       "[37] \"246002_pilon_2110\"   \"249802_pilon_1496\"   \"260302_pilon_2507\"  \n",
       "[40] \"271143_pilon_2990\"   \"283882_pilon_10357\"  \"292870_pilon_1_817\" \n",
       "[43] \"293334_pilon_3311\"  "
      ]
     },
     "metadata": {},
     "output_type": "display_data"
    }
   ],
   "source": [
    "baypass <- readLines(\"baypass/baypass.outliers.loci\")\n",
    "baypass"
   ]
  },
  {
   "cell_type": "markdown",
   "id": "77788eb5",
   "metadata": {},
   "source": [
    "#### Are there any common loci?\n",
    "Nope"
   ]
  },
  {
   "cell_type": "code",
   "execution_count": 14,
   "id": "85b20734",
   "metadata": {
    "vscode": {
     "languageId": "r"
    }
   },
   "outputs": [
    {
     "data": {
      "text/html": [
       "0"
      ],
      "text/latex": [
       "0"
      ],
      "text/markdown": [
       "0"
      ],
      "text/plain": [
       "[1] 0"
      ]
     },
     "metadata": {},
     "output_type": "display_data"
    }
   ],
   "source": [
    "both <- intersect(outflank, baypass)\n",
    "length(both)"
   ]
  },
  {
   "cell_type": "code",
   "execution_count": 15,
   "id": "86bf6580-6451-4654-a829-b9518781227e",
   "metadata": {
    "vscode": {
     "languageId": "r"
    }
   },
   "outputs": [
    {
     "data": {
      "text/html": [
       "<table class=\"dataframe\">\n",
       "<caption>A data.frame: 6 × 8</caption>\n",
       "<thead>\n",
       "\t<tr><th></th><th scope=col>LocusName</th><th scope=col>He</th><th scope=col>FST</th><th scope=col>OutlierFlag</th><th scope=col>outlier</th><th scope=col>outflank</th><th scope=col>baypass</th><th scope=col>order</th></tr>\n",
       "\t<tr><th></th><th scope=col>&lt;chr&gt;</th><th scope=col>&lt;dbl&gt;</th><th scope=col>&lt;dbl&gt;</th><th scope=col>&lt;lgl&gt;</th><th scope=col>&lt;ord&gt;</th><th scope=col>&lt;lgl&gt;</th><th scope=col>&lt;lgl&gt;</th><th scope=col>&lt;dbl&gt;</th></tr>\n",
       "</thead>\n",
       "<tbody>\n",
       "\t<tr><th scope=row>1</th><td>232_pilon_2036 </td><td>0.04054424</td><td> 0.003180230</td><td>FALSE</td><td>neutral</td><td>FALSE</td><td>FALSE</td><td>1</td></tr>\n",
       "\t<tr><th scope=row>2</th><td>335_pilon_972  </td><td>0.03310320</td><td> 0.015963394</td><td>FALSE</td><td>neutral</td><td>FALSE</td><td>FALSE</td><td>1</td></tr>\n",
       "\t<tr><th scope=row>3</th><td>341_pilon_1400 </td><td>0.07372778</td><td> 0.012276337</td><td>FALSE</td><td>neutral</td><td>FALSE</td><td>FALSE</td><td>1</td></tr>\n",
       "\t<tr><th scope=row>4</th><td>536_pilon_3491 </td><td>0.02571911</td><td> 0.002899539</td><td>FALSE</td><td>neutral</td><td>FALSE</td><td>FALSE</td><td>1</td></tr>\n",
       "\t<tr><th scope=row>5</th><td>794_pilon_11572</td><td>0.03736961</td><td>-0.001459879</td><td>FALSE</td><td>neutral</td><td>FALSE</td><td>FALSE</td><td>1</td></tr>\n",
       "\t<tr><th scope=row>6</th><td>1009_pilon_1199</td><td>0.02476391</td><td>-0.001584578</td><td>FALSE</td><td>neutral</td><td>FALSE</td><td>FALSE</td><td>1</td></tr>\n",
       "</tbody>\n",
       "</table>\n"
      ],
      "text/latex": [
       "A data.frame: 6 × 8\n",
       "\\begin{tabular}{r|llllllll}\n",
       "  & LocusName & He & FST & OutlierFlag & outlier & outflank & baypass & order\\\\\n",
       "  & <chr> & <dbl> & <dbl> & <lgl> & <ord> & <lgl> & <lgl> & <dbl>\\\\\n",
       "\\hline\n",
       "\t1 & 232\\_pilon\\_2036  & 0.04054424 &  0.003180230 & FALSE & neutral & FALSE & FALSE & 1\\\\\n",
       "\t2 & 335\\_pilon\\_972   & 0.03310320 &  0.015963394 & FALSE & neutral & FALSE & FALSE & 1\\\\\n",
       "\t3 & 341\\_pilon\\_1400  & 0.07372778 &  0.012276337 & FALSE & neutral & FALSE & FALSE & 1\\\\\n",
       "\t4 & 536\\_pilon\\_3491  & 0.02571911 &  0.002899539 & FALSE & neutral & FALSE & FALSE & 1\\\\\n",
       "\t5 & 794\\_pilon\\_11572 & 0.03736961 & -0.001459879 & FALSE & neutral & FALSE & FALSE & 1\\\\\n",
       "\t6 & 1009\\_pilon\\_1199 & 0.02476391 & -0.001584578 & FALSE & neutral & FALSE & FALSE & 1\\\\\n",
       "\\end{tabular}\n"
      ],
      "text/markdown": [
       "\n",
       "A data.frame: 6 × 8\n",
       "\n",
       "| <!--/--> | LocusName &lt;chr&gt; | He &lt;dbl&gt; | FST &lt;dbl&gt; | OutlierFlag &lt;lgl&gt; | outlier &lt;ord&gt; | outflank &lt;lgl&gt; | baypass &lt;lgl&gt; | order &lt;dbl&gt; |\n",
       "|---|---|---|---|---|---|---|---|---|\n",
       "| 1 | 232_pilon_2036  | 0.04054424 |  0.003180230 | FALSE | neutral | FALSE | FALSE | 1 |\n",
       "| 2 | 335_pilon_972   | 0.03310320 |  0.015963394 | FALSE | neutral | FALSE | FALSE | 1 |\n",
       "| 3 | 341_pilon_1400  | 0.07372778 |  0.012276337 | FALSE | neutral | FALSE | FALSE | 1 |\n",
       "| 4 | 536_pilon_3491  | 0.02571911 |  0.002899539 | FALSE | neutral | FALSE | FALSE | 1 |\n",
       "| 5 | 794_pilon_11572 | 0.03736961 | -0.001459879 | FALSE | neutral | FALSE | FALSE | 1 |\n",
       "| 6 | 1009_pilon_1199 | 0.02476391 | -0.001584578 | FALSE | neutral | FALSE | FALSE | 1 |\n",
       "\n"
      ],
      "text/plain": [
       "  LocusName       He         FST          OutlierFlag outlier outflank baypass\n",
       "1 232_pilon_2036  0.04054424  0.003180230 FALSE       neutral FALSE    FALSE  \n",
       "2 335_pilon_972   0.03310320  0.015963394 FALSE       neutral FALSE    FALSE  \n",
       "3 341_pilon_1400  0.07372778  0.012276337 FALSE       neutral FALSE    FALSE  \n",
       "4 536_pilon_3491  0.02571911  0.002899539 FALSE       neutral FALSE    FALSE  \n",
       "5 794_pilon_11572 0.03736961 -0.001459879 FALSE       neutral FALSE    FALSE  \n",
       "6 1009_pilon_1199 0.02476391 -0.001584578 FALSE       neutral FALSE    FALSE  \n",
       "  order\n",
       "1 1    \n",
       "2 1    \n",
       "3 1    \n",
       "4 1    \n",
       "5 1    \n",
       "6 1    "
      ]
     },
     "metadata": {},
     "output_type": "display_data"
    }
   ],
   "source": [
    "all.fst$outlier <- \"neutral\"\n",
    "all.fst$outlier[all.fst$LocusName %in% baypass] <- \"baypass\"\n",
    "all.fst$outlier[all.fst$LocusName %in% outflank] <- \"outflank\"\n",
    "all.fst$outflank <- all.fst$outlier == \"outflank\"\n",
    "all.fst$baypass <- all.fst$outlier == \"baypass\"\n",
    "#all.fst$outlier[all.fst$LocusName %in% both] <- \"both\"\n",
    "all.fst$outlier <- ordered(all.fst$outlier, levels = c(\"neutral\", \"baypass\", \"outflank\"))\n",
    "\n",
    "all.fst %<>%\n",
    "  mutate(order = \n",
    "    case_when(\n",
    "      (outlier == \"neutral\") ~ 1,\n",
    "      (outlier == \"baypass\") ~ 2,\n",
    "      (outlier == \"outflank\") ~ 3,\n",
    "      (outlier == \"both\") ~ 4,\n",
    "    )\n",
    "  ) %>%\n",
    "  arrange(order)\n",
    "head(all.fst)"
   ]
  },
  {
   "cell_type": "code",
   "execution_count": 16,
   "id": "69b50a2b-6702-44a5-915f-2f06b3b5947a",
   "metadata": {
    "vscode": {
     "languageId": "r"
    }
   },
   "outputs": [
    {
     "data": {
      "text/html": [
       "4"
      ],
      "text/latex": [
       "4"
      ],
      "text/markdown": [
       "4"
      ],
      "text/plain": [
       "[1] 4"
      ]
     },
     "metadata": {},
     "output_type": "display_data"
    },
    {
     "data": {
      "text/html": [
       "<style>\n",
       ".list-inline {list-style: none; margin:0; padding: 0}\n",
       ".list-inline>li {display: inline-block}\n",
       ".list-inline>li:not(:last-child)::after {content: \"\\00b7\"; padding: 0 .5ex}\n",
       "</style>\n",
       "<ol class=list-inline><li>'55180_pilon_1698'</li><li>'78696_pilon_35444'</li><li>'92013_pilon_10508'</li><li>'98145_pilon_5343'</li></ol>\n"
      ],
      "text/latex": [
       "\\begin{enumerate*}\n",
       "\\item '55180\\_pilon\\_1698'\n",
       "\\item '78696\\_pilon\\_35444'\n",
       "\\item '92013\\_pilon\\_10508'\n",
       "\\item '98145\\_pilon\\_5343'\n",
       "\\end{enumerate*}\n"
      ],
      "text/markdown": [
       "1. '55180_pilon_1698'\n",
       "2. '78696_pilon_35444'\n",
       "3. '92013_pilon_10508'\n",
       "4. '98145_pilon_5343'\n",
       "\n",
       "\n"
      ],
      "text/plain": [
       "[1] \"55180_pilon_1698\"  \"78696_pilon_35444\" \"92013_pilon_10508\"\n",
       "[4] \"98145_pilon_5343\" "
      ]
     },
     "metadata": {},
     "output_type": "display_data"
    }
   ],
   "source": [
    "putatives <- all.fst %>% filter(He >= 0.1 & (outflank | baypass))\n",
    "length(putatives$LocusName)\n",
    "putatives$LocusName"
   ]
  },
  {
   "cell_type": "code",
   "execution_count": 19,
   "id": "c58f54f4",
   "metadata": {
    "vscode": {
     "languageId": "r"
    }
   },
   "outputs": [],
   "source": [
    "corrected.names <- strsplit(putatives$LocusName, \"_\")\n",
    "corr.names <- FALSE"
   ]
  },
  {
   "cell_type": "markdown",
   "id": "057dc557",
   "metadata": {},
   "source": [
    "Replacing the final underscore with a whitespace will make the locus and positions names suitable for isolation using `vcftools --exclude-positions` and `--positions`."
   ]
  },
  {
   "cell_type": "code",
   "execution_count": 20,
   "id": "da4bf71b",
   "metadata": {
    "vscode": {
     "languageId": "r"
    }
   },
   "outputs": [
    {
     "data": {
      "text/html": [
       "<style>\n",
       ".list-inline {list-style: none; margin:0; padding: 0}\n",
       ".list-inline>li {display: inline-block}\n",
       ".list-inline>li:not(:last-child)::after {content: \"\\00b7\"; padding: 0 .5ex}\n",
       "</style>\n",
       "<ol class=list-inline><li>'55180_pilon 1698'</li><li>'78696_pilon 35444'</li><li>'92013_pilon 10508'</li><li>'98145_pilon 5343'</li></ol>\n"
      ],
      "text/latex": [
       "\\begin{enumerate*}\n",
       "\\item '55180\\_pilon 1698'\n",
       "\\item '78696\\_pilon 35444'\n",
       "\\item '92013\\_pilon 10508'\n",
       "\\item '98145\\_pilon 5343'\n",
       "\\end{enumerate*}\n"
      ],
      "text/markdown": [
       "1. '55180_pilon 1698'\n",
       "2. '78696_pilon 35444'\n",
       "3. '92013_pilon 10508'\n",
       "4. '98145_pilon 5343'\n",
       "\n",
       "\n"
      ],
      "text/plain": [
       "[1] \"55180_pilon 1698\"  \"78696_pilon 35444\" \"92013_pilon 10508\"\n",
       "[4] \"98145_pilon 5343\" "
      ]
     },
     "metadata": {},
     "output_type": "display_data"
    }
   ],
   "source": [
    "for(i in 1:length(corrected.names)){\n",
    "    .string <- corrected.names[[i]]\n",
    "    strlen <- length(.string)\n",
    "    chr <- paste(.string[1:(strlen-1)], collapse = \"_\")\n",
    "    corr.names[i] <- paste(chr, .string[strlen], sep = \" \")\n",
    "}\n",
    "corr.names"
   ]
  },
  {
   "cell_type": "code",
   "execution_count": 22,
   "id": "716ac098",
   "metadata": {
    "vscode": {
     "languageId": "r"
    }
   },
   "outputs": [],
   "source": [
    "write.table(corr.names, file = \"bft.putative.outliers\", row.names = F, col.names = F, quote = F)"
   ]
  },
  {
   "cell_type": "markdown",
   "id": "d448b11e-a8c9-4414-a7d2-7084305dfa95",
   "metadata": {},
   "source": [
    "## The plot"
   ]
  },
  {
   "cell_type": "code",
   "execution_count": 25,
   "id": "4787c5a3-84e2-4921-9603-c9fd81cd30ef",
   "metadata": {
    "vscode": {
     "languageId": "r"
    }
   },
   "outputs": [],
   "source": [
    "mycolors <- c(\"#bbbbbb\",\"#ea3c00\", \"dodgerblue\")"
   ]
  },
  {
   "cell_type": "code",
   "execution_count": 26,
   "id": "3fae63cf-52ca-4fde-b248-0eb79e7d0962",
   "metadata": {
    "vscode": {
     "languageId": "r"
    }
   },
   "outputs": [
    {
     "data": {
      "image/png": "[encoded data removed]",
      "text/plain": [
       "plot without title"
      ]
     },
     "metadata": {
      "image/png": {
       "height": 600,
       "width": 1200
      }
     },
     "output_type": "display_data"
    }
   ],
   "source": [
    "all.fst %>%\n",
    "  ggplot(x = He, y = FST) +\n",
    "  geom_point(aes(x = He, y = FST, col = outlier), alpha = 0.7,  size = 4) +\n",
    "  geom_vline(xintercept = 0.1, alpha = 0.65, linetype = \"dashed\", size = 1) +\n",
    "  labs(title = \"Putative Outlier Loci\", x = \"Heterozygosity\", y = \"FST\", color = \"Outlier Detection\", shape = \"Bayescan Detection\") +\n",
    "  scale_color_manual(values = mycolors) +\n",
    "  theme_classic()"
   ]
  },
  {
   "cell_type": "code",
   "execution_count": 27,
   "id": "caeacdaf-a856-4111-9ab3-a9849ebee89d",
   "metadata": {
    "vscode": {
     "languageId": "r"
    }
   },
   "outputs": [],
   "source": [
    "ggsave(\"outliers.png\", height = 6, width = 12, units = \"in\")"
   ]
  }
 ],
 "metadata": {
  "kernelspec": {
   "display_name": "R",
   "language": "R",
   "name": "ir"
  },
  "language_info": {
   "codemirror_mode": "r",
   "file_extension": ".r",
   "mimetype": "text/x-r-source",
   "name": "R",
   "pygments_lexer": "r",
   "version": "4.1.2"
  }
 },
 "nbformat": 4,
 "nbformat_minor": 5
}

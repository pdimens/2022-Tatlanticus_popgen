{
 "cells": [
  {
   "cell_type": "markdown",
   "metadata": {},
   "source": [
    "# fastSTRUCTURE summary\n",
    "fastSTRUCTURE was performed on a range of k 1-9"
   ]
  },
  {
   "cell_type": "code",
   "execution_count": 85,
   "metadata": {
    "vscode": {
     "languageId": "r"
    }
   },
   "outputs": [],
   "source": [
    "library(ggplot2)\n",
    "library(tidyr)\n",
    "library(data.table)\n",
    "options(repr.plot.width=15, repr.plot.height=6)"
   ]
  },
  {
   "cell_type": "markdown",
   "metadata": {},
   "source": [
    "## Likelihood stats"
   ]
  },
  {
   "cell_type": "code",
   "execution_count": 63,
   "metadata": {
    "vscode": {
     "languageId": "r"
    }
   },
   "outputs": [
    {
     "data": {
      "text/html": [
       "<table class=\"dataframe\">\n",
       "<caption>A data.frame: 6 × 2</caption>\n",
       "<thead>\n",
       "\t<tr><th></th><th scope=col>k</th><th scope=col>likelihood</th></tr>\n",
       "\t<tr><th></th><th scope=col>&lt;chr&gt;</th><th scope=col>&lt;dbl&gt;</th></tr>\n",
       "</thead>\n",
       "<tbody>\n",
       "\t<tr><th scope=row>1</th><td>1</td><td>-0.3228324</td></tr>\n",
       "\t<tr><th scope=row>2</th><td>2</td><td>-0.3258466</td></tr>\n",
       "\t<tr><th scope=row>3</th><td>3</td><td>-0.3381196</td></tr>\n",
       "\t<tr><th scope=row>4</th><td>4</td><td>-0.3466439</td></tr>\n",
       "\t<tr><th scope=row>5</th><td>5</td><td>-0.3442032</td></tr>\n",
       "\t<tr><th scope=row>6</th><td>6</td><td>-0.3446858</td></tr>\n",
       "</tbody>\n",
       "</table>\n"
      ],
      "text/latex": [
       "A data.frame: 6 × 2\n",
       "\\begin{tabular}{r|ll}\n",
       "  & k & likelihood\\\\\n",
       "  & <chr> & <dbl>\\\\\n",
       "\\hline\n",
       "\t1 & 1 & -0.3228324\\\\\n",
       "\t2 & 2 & -0.3258466\\\\\n",
       "\t3 & 3 & -0.3381196\\\\\n",
       "\t4 & 4 & -0.3466439\\\\\n",
       "\t5 & 5 & -0.3442032\\\\\n",
       "\t6 & 6 & -0.3446858\\\\\n",
       "\\end{tabular}\n"
      ],
      "text/markdown": [
       "\n",
       "A data.frame: 6 × 2\n",
       "\n",
       "| <!--/--> | k &lt;chr&gt; | likelihood &lt;dbl&gt; |\n",
       "|---|---|---|\n",
       "| 1 | 1 | -0.3228324 |\n",
       "| 2 | 2 | -0.3258466 |\n",
       "| 3 | 3 | -0.3381196 |\n",
       "| 4 | 4 | -0.3466439 |\n",
       "| 5 | 5 | -0.3442032 |\n",
       "| 6 | 6 | -0.3446858 |\n",
       "\n"
      ],
      "text/plain": [
       "  k likelihood\n",
       "1 1 -0.3228324\n",
       "2 2 -0.3258466\n",
       "3 3 -0.3381196\n",
       "4 4 -0.3466439\n",
       "5 5 -0.3442032\n",
       "6 6 -0.3446858"
      ]
     },
     "metadata": {},
     "output_type": "display_data"
    }
   ],
   "source": [
    "fs.stats <- read.table(\"bft.kinrm.fs.summary\", header = T)\n",
    "fs.stats$k <- as.character(fs.stats$k)\n",
    "head(fs.stats)"
   ]
  },
  {
   "cell_type": "code",
   "execution_count": 95,
   "metadata": {
    "vscode": {
     "languageId": "r"
    }
   },
   "outputs": [
    {
     "data": {
      "image/png": "[encoded data removed]",
      "text/plain": [
       "plot without title"
      ]
     },
     "metadata": {
      "image/png": {
       "height": 540,
       "width": 900
      }
     },
     "output_type": "display_data"
    }
   ],
   "source": [
    "ggplot(fs.stats, aes(x = k, y = likelihood)) +\n",
    "    geom_segment( aes(x= k, xend= k, y=-0.31, yend=likelihood), color=\"grey\") +\n",
    "    geom_point(color = \"orange\", size = 4) +\n",
    "    theme_light() +\n",
    "    labs(title = \"Likelihoods for values of K\") +\n",
    "    xlab(\"K\") +\n",
    "    ylab(\"Likelihood\") +\n",
    "    theme(\n",
    "    panel.grid.major.x = element_blank(),\n",
    "    panel.border = element_blank(),\n",
    "    axis.ticks.x = element_blank()\n",
    "  ) "
   ]
  },
  {
   "cell_type": "code",
   "execution_count": 96,
   "metadata": {
    "vscode": {
     "languageId": "r"
    }
   },
   "outputs": [],
   "source": [
    "ggsave(\"faststructure.2-9.likelihoods.png\", height = 7, width = 14, units = \"in\")"
   ]
  },
  {
   "cell_type": "markdown",
   "metadata": {},
   "source": [
    "Pattern match to find output files from their respective folders"
   ]
  },
  {
   "cell_type": "code",
   "execution_count": 34,
   "metadata": {
    "vscode": {
     "languageId": "r"
    }
   },
   "outputs": [
    {
     "data": {
      "text/html": [
       "<style>\n",
       ".list-inline {list-style: none; margin:0; padding: 0}\n",
       ".list-inline>li {display: inline-block}\n",
       ".list-inline>li:not(:last-child)::after {content: \"\\00b7\"; padding: 0 .5ex}\n",
       "</style>\n",
       "<ol class=list-inline><li>'k1/bft.kinrm.1.meanQ'</li><li>'k2/bft.kinrm.2.meanQ'</li><li>'k3/bft.kinrm.3.meanQ'</li><li>'k4/bft.kinrm.4.meanQ'</li><li>'k5/bft.kinrm.5.meanQ'</li><li>'k6/bft.kinrm.6.meanQ'</li><li>'k7/bft.kinrm.7.meanQ'</li><li>'k8/bft.kinrm.8.meanQ'</li><li>'k9/bft.kinrm.9.meanQ'</li></ol>\n"
      ],
      "text/latex": [
       "\\begin{enumerate*}\n",
       "\\item 'k1/bft.kinrm.1.meanQ'\n",
       "\\item 'k2/bft.kinrm.2.meanQ'\n",
       "\\item 'k3/bft.kinrm.3.meanQ'\n",
       "\\item 'k4/bft.kinrm.4.meanQ'\n",
       "\\item 'k5/bft.kinrm.5.meanQ'\n",
       "\\item 'k6/bft.kinrm.6.meanQ'\n",
       "\\item 'k7/bft.kinrm.7.meanQ'\n",
       "\\item 'k8/bft.kinrm.8.meanQ'\n",
       "\\item 'k9/bft.kinrm.9.meanQ'\n",
       "\\end{enumerate*}\n"
      ],
      "text/markdown": [
       "1. 'k1/bft.kinrm.1.meanQ'\n",
       "2. 'k2/bft.kinrm.2.meanQ'\n",
       "3. 'k3/bft.kinrm.3.meanQ'\n",
       "4. 'k4/bft.kinrm.4.meanQ'\n",
       "5. 'k5/bft.kinrm.5.meanQ'\n",
       "6. 'k6/bft.kinrm.6.meanQ'\n",
       "7. 'k7/bft.kinrm.7.meanQ'\n",
       "8. 'k8/bft.kinrm.8.meanQ'\n",
       "9. 'k9/bft.kinrm.9.meanQ'\n",
       "\n",
       "\n"
      ],
      "text/plain": [
       "[1] \"k1/bft.kinrm.1.meanQ\" \"k2/bft.kinrm.2.meanQ\" \"k3/bft.kinrm.3.meanQ\"\n",
       "[4] \"k4/bft.kinrm.4.meanQ\" \"k5/bft.kinrm.5.meanQ\" \"k6/bft.kinrm.6.meanQ\"\n",
       "[7] \"k7/bft.kinrm.7.meanQ\" \"k8/bft.kinrm.8.meanQ\" \"k9/bft.kinrm.9.meanQ\""
      ]
     },
     "metadata": {},
     "output_type": "display_data"
    }
   ],
   "source": [
    "infiles <- list.files(pattern = \"[1-9]?.meanQ\", recursive = T)\n",
    "infiles"
   ]
  },
  {
   "cell_type": "markdown",
   "metadata": {},
   "source": [
    "Load in metadata to get sample names and population names"
   ]
  },
  {
   "cell_type": "code",
   "execution_count": 35,
   "metadata": {
    "vscode": {
     "languageId": "r"
    }
   },
   "outputs": [
    {
     "data": {
      "text/html": [
       "<table class=\"dataframe\">\n",
       "<caption>A data.frame: 6 × 2</caption>\n",
       "<thead>\n",
       "\t<tr><th></th><th scope=col>name</th><th scope=col>population</th></tr>\n",
       "\t<tr><th></th><th scope=col>&lt;chr&gt;</th><th scope=col>&lt;chr&gt;</th></tr>\n",
       "</thead>\n",
       "<tbody>\n",
       "\t<tr><th scope=row>1</th><td>BRZ_1261</td><td>BRZ</td></tr>\n",
       "\t<tr><th scope=row>2</th><td>BRZ_1269</td><td>BRZ</td></tr>\n",
       "\t<tr><th scope=row>3</th><td>BRZ_1270</td><td>BRZ</td></tr>\n",
       "\t<tr><th scope=row>4</th><td>BRZ_1271</td><td>BRZ</td></tr>\n",
       "\t<tr><th scope=row>5</th><td>BRZ_1275</td><td>BRZ</td></tr>\n",
       "\t<tr><th scope=row>6</th><td>BRZ_1276</td><td>BRZ</td></tr>\n",
       "</tbody>\n",
       "</table>\n"
      ],
      "text/latex": [
       "A data.frame: 6 × 2\n",
       "\\begin{tabular}{r|ll}\n",
       "  & name & population\\\\\n",
       "  & <chr> & <chr>\\\\\n",
       "\\hline\n",
       "\t1 & BRZ\\_1261 & BRZ\\\\\n",
       "\t2 & BRZ\\_1269 & BRZ\\\\\n",
       "\t3 & BRZ\\_1270 & BRZ\\\\\n",
       "\t4 & BRZ\\_1271 & BRZ\\\\\n",
       "\t5 & BRZ\\_1275 & BRZ\\\\\n",
       "\t6 & BRZ\\_1276 & BRZ\\\\\n",
       "\\end{tabular}\n"
      ],
      "text/markdown": [
       "\n",
       "A data.frame: 6 × 2\n",
       "\n",
       "| <!--/--> | name &lt;chr&gt; | population &lt;chr&gt; |\n",
       "|---|---|---|\n",
       "| 1 | BRZ_1261 | BRZ |\n",
       "| 2 | BRZ_1269 | BRZ |\n",
       "| 3 | BRZ_1270 | BRZ |\n",
       "| 4 | BRZ_1271 | BRZ |\n",
       "| 5 | BRZ_1275 | BRZ |\n",
       "| 6 | BRZ_1276 | BRZ |\n",
       "\n"
      ],
      "text/plain": [
       "  name     population\n",
       "1 BRZ_1261 BRZ       \n",
       "2 BRZ_1269 BRZ       \n",
       "3 BRZ_1270 BRZ       \n",
       "4 BRZ_1271 BRZ       \n",
       "5 BRZ_1275 BRZ       \n",
       "6 BRZ_1276 BRZ       "
      ]
     },
     "metadata": {},
     "output_type": "display_data"
    }
   ],
   "source": [
    "metadata <- read.csv(\"../inputfiles/bft.kinrm.strata\", header = T)[c(1, 6)]\n",
    "names(metadata) <- c(\"name\", \"population\")\n",
    "head(metadata)"
   ]
  },
  {
   "cell_type": "markdown",
   "metadata": {},
   "source": [
    "Load in all the q values"
   ]
  },
  {
   "cell_type": "code",
   "execution_count": 36,
   "metadata": {
    "vscode": {
     "languageId": "r"
    }
   },
   "outputs": [],
   "source": [
    "qscores <- lapply(infiles,fread)"
   ]
  },
  {
   "cell_type": "markdown",
   "metadata": {},
   "source": [
    "Instantiate empty DF to convert to long-format table"
   ]
  },
  {
   "cell_type": "code",
   "execution_count": 37,
   "metadata": {
    "vscode": {
     "languageId": "r"
    }
   },
   "outputs": [],
   "source": [
    "fstruct.res <- data.frame(\n",
    "    matrix(vector(), 0, 4,\n",
    "    dimnames=list(c(), c(\"k\", \"sample\", \"population\", \"value\"))),\n",
    "    stringsAsFactors=TRUE\n",
    ")"
   ]
  },
  {
   "cell_type": "code",
   "execution_count": 38,
   "metadata": {
    "vscode": {
     "languageId": "r"
    }
   },
   "outputs": [],
   "source": [
    "for (i in 1:length(qscores)){\n",
    "    # drop the \"V\" in the columns names\n",
    "    colnames(qscores[[i]]) <- gsub(\"^[V]\", \"\", colnames(qscores[[i]]))\n",
    "    # add a K column\n",
    "    qscores[[i]]$k <- as.factor(length(colnames(qscores[[i]])))\n",
    "    # add sample/population names column\n",
    "    qscores[[i]]$sample <- metadata$name\n",
    "    qscores[[i]]$origin <- metadata$population\n",
    "    # wide-to-long format & append\n",
    "    fstruct.res <- rbind(\n",
    "        fstruct.res,\n",
    "        pivot_longer(qscores[[i]], cols = !c(k, sample, origin), names_to = \"population\")    \n",
    "    ) \n",
    "}"
   ]
  },
  {
   "cell_type": "code",
   "execution_count": 74,
   "metadata": {
    "vscode": {
     "languageId": "r"
    }
   },
   "outputs": [],
   "source": [
    "colors <- RColorBrewer::brewer.pal(n=9, \"Set3\")"
   ]
  },
  {
   "cell_type": "code",
   "execution_count": 39,
   "metadata": {
    "vscode": {
     "languageId": "r"
    }
   },
   "outputs": [
    {
     "data": {
      "text/html": [
       "<table class=\"dataframe\">\n",
       "<caption>A tibble: 6 × 5</caption>\n",
       "<thead>\n",
       "\t<tr><th scope=col>k</th><th scope=col>sample</th><th scope=col>origin</th><th scope=col>population</th><th scope=col>value</th></tr>\n",
       "\t<tr><th scope=col>&lt;chr&gt;</th><th scope=col>&lt;chr&gt;</th><th scope=col>&lt;chr&gt;</th><th scope=col>&lt;chr&gt;</th><th scope=col>&lt;dbl&gt;</th></tr>\n",
       "</thead>\n",
       "<tbody>\n",
       "\t<tr><td>K: 2</td><td>BRZ_1261</td><td>BRZ</td><td>1</td><td>0.999717</td></tr>\n",
       "\t<tr><td>K: 2</td><td>BRZ_1261</td><td>BRZ</td><td>2</td><td>0.000283</td></tr>\n",
       "\t<tr><td>K: 2</td><td>BRZ_1269</td><td>BRZ</td><td>1</td><td>0.999737</td></tr>\n",
       "\t<tr><td>K: 2</td><td>BRZ_1269</td><td>BRZ</td><td>2</td><td>0.000263</td></tr>\n",
       "\t<tr><td>K: 2</td><td>BRZ_1270</td><td>BRZ</td><td>1</td><td>0.999759</td></tr>\n",
       "\t<tr><td>K: 2</td><td>BRZ_1270</td><td>BRZ</td><td>2</td><td>0.000241</td></tr>\n",
       "</tbody>\n",
       "</table>\n"
      ],
      "text/latex": [
       "A tibble: 6 × 5\n",
       "\\begin{tabular}{lllll}\n",
       " k & sample & origin & population & value\\\\\n",
       " <chr> & <chr> & <chr> & <chr> & <dbl>\\\\\n",
       "\\hline\n",
       "\t K: 2 & BRZ\\_1261 & BRZ & 1 & 0.999717\\\\\n",
       "\t K: 2 & BRZ\\_1261 & BRZ & 2 & 0.000283\\\\\n",
       "\t K: 2 & BRZ\\_1269 & BRZ & 1 & 0.999737\\\\\n",
       "\t K: 2 & BRZ\\_1269 & BRZ & 2 & 0.000263\\\\\n",
       "\t K: 2 & BRZ\\_1270 & BRZ & 1 & 0.999759\\\\\n",
       "\t K: 2 & BRZ\\_1270 & BRZ & 2 & 0.000241\\\\\n",
       "\\end{tabular}\n"
      ],
      "text/markdown": [
       "\n",
       "A tibble: 6 × 5\n",
       "\n",
       "| k &lt;chr&gt; | sample &lt;chr&gt; | origin &lt;chr&gt; | population &lt;chr&gt; | value &lt;dbl&gt; |\n",
       "|---|---|---|---|---|\n",
       "| K: 2 | BRZ_1261 | BRZ | 1 | 0.999717 |\n",
       "| K: 2 | BRZ_1261 | BRZ | 2 | 0.000283 |\n",
       "| K: 2 | BRZ_1269 | BRZ | 1 | 0.999737 |\n",
       "| K: 2 | BRZ_1269 | BRZ | 2 | 0.000263 |\n",
       "| K: 2 | BRZ_1270 | BRZ | 1 | 0.999759 |\n",
       "| K: 2 | BRZ_1270 | BRZ | 2 | 0.000241 |\n",
       "\n"
      ],
      "text/plain": [
       "  k    sample   origin population value   \n",
       "1 K: 2 BRZ_1261 BRZ    1          0.999717\n",
       "2 K: 2 BRZ_1261 BRZ    2          0.000283\n",
       "3 K: 2 BRZ_1269 BRZ    1          0.999737\n",
       "4 K: 2 BRZ_1269 BRZ    2          0.000263\n",
       "5 K: 2 BRZ_1270 BRZ    1          0.999759\n",
       "6 K: 2 BRZ_1270 BRZ    2          0.000241"
      ]
     },
     "metadata": {},
     "output_type": "display_data"
    }
   ],
   "source": [
    "fstruct.res <- fstruct.res[fstruct.res$k != 1,]\n",
    "fstruct.res$k <- paste0(\"K: \", fstruct.res$k)\n",
    "head(fstruct.res)"
   ]
  },
  {
   "cell_type": "code",
   "execution_count": 88,
   "metadata": {
    "vscode": {
     "languageId": "r"
    }
   },
   "outputs": [
    {
     "data": {
      "image/png": "[encoded data removed]",
      "text/plain": [
       "plot without title"
      ]
     },
     "metadata": {
      "image/png": {
       "height": 540,
       "width": 900
      }
     },
     "output_type": "display_data"
    }
   ],
   "source": [
    "options(repr.plot.width=15, repr.plot.height=9)\n",
    "ggplot(fstruct.res, aes(fill = population, y = value, x = sample)) +\n",
    "    ylab(\"Probability of Membership\") +\n",
    "    geom_bar(position = \"fill\", stat = \"identity\", width = 1) +\n",
    "    coord_cartesian(ylim = c(0, 1), expand = FALSE, clip = \"off\") +\n",
    "    labs(title = \"fastStructure probabilities for values of K\") +\n",
    "    xlab(\"Samples\") +\n",
    "    facet_grid(k~origin, scales = \"free_x\", space = \"free_x\") +\n",
    "    scale_fill_manual(values = colors) +\n",
    "    scale_y_continuous(breaks = scales::pretty_breaks(n = 3)) +\n",
    "    theme(\n",
    "        axis.title = element_text(size=12),\n",
    "        axis.text.x = element_blank(),\n",
    "        axis.ticks.x = element_blank(),\n",
    "        strip.text = element_text(size = 10),\n",
    "        panel.grid.major = element_blank(),\n",
    "        panel.background = element_blank(),\n",
    "        panel.grid.minor = element_blank(),\n",
    "        panel.spacing.y = unit(1.5, \"lines\"),\n",
    "        plot.margin = unit(c(5.5, 5.5, 30, 5.5), \"pt\")\n",
    "    )"
   ]
  },
  {
   "cell_type": "code",
   "execution_count": 84,
   "metadata": {
    "vscode": {
     "languageId": "r"
    }
   },
   "outputs": [],
   "source": [
    "ggsave(\"faststructure.2-9.png\", height = 7, width = 14, units = \"in\")"
   ]
  }
 ],
 "metadata": {
  "kernelspec": {
   "display_name": "R",
   "language": "R",
   "name": "ir"
  },
  "language_info": {
   "codemirror_mode": "r",
   "file_extension": ".r",
   "mimetype": "text/x-r-source",
   "name": "R",
   "pygments_lexer": "r",
   "version": "4.1.2"
  },
  "orig_nbformat": 4
 },
 "nbformat": 4,
 "nbformat_minor": 2
}

{
  "cells": [
    {
      "cell_type": "code",
      "source": [
        "using PopGen, DataFrames\n",
        "bft = read_from(\"/home/pdimens/BFT_final80_maf01.gen\", silent = true)"
      ],
      "outputs": [
        {
          "output_type": "execute_result",
          "execution_count": 10,
          "data": {
            "text/plain": "PopData Object\n  Markers: \u001b[0m\u001b[1mMicrosatellite\u001b[22m\n  Ploidy: \u001b[0m\u001b[1m2\u001b[22m\n  Samples: \u001b[0m\u001b[1m398\u001b[22m\n  Loci: \u001b[0m\u001b[1m2139\u001b[22m\n  Populations: \u001b[0m\u001b[1m9\u001b[22m\n  Coordinates:\u001b[33m absent\u001b[39m\n"
          },
          "metadata": {}
        }
      ],
      "execution_count": 10,
      "metadata": {
        "collapsed": true,
        "jupyter": {
          "source_hidden": false,
          "outputs_hidden": true
        },
        "nteract": {
          "transient": {
            "deleting": false
          }
        },
        "execution": {
          "iopub.status.busy": "2020-08-24T18:41:20.922Z",
          "iopub.execute_input": "2020-08-24T18:41:20.926Z",
          "iopub.status.idle": "2020-08-24T18:41:21.797Z"
        }
      }
    },
    {
      "cell_type": "code",
      "source": [
        "pw_id = pairwise_identical(bft);\n",
        "sort!(pw_id, :identical, rev = true)"
      ],
      "outputs": [
        {
          "output_type": "stream",
          "name": "stderr",
          "text": [
            "\u001b[34mProgress: 100%|█████████████████████████████████████████| Time: 0:00:08\u001b[39m\n"
          ]
        },
        {
          "output_type": "execute_result",
          "execution_count": 12,
          "data": {
            "text/plain": "79003×4 DataFrame\n│ Row   │ sample_1 │ sample_2 │ identical │ n     │\n│       │ \u001b[90mString\u001b[39m   │ \u001b[90mString\u001b[39m   │ \u001b[90mFloat64\u001b[39m   │ \u001b[90mInt64\u001b[39m │\n├───────┼──────────┼──────────┼───────────┼───────┤\n│ 1     │ PR_1063  │ PR_967   │ 0.96      │ 1552  │\n│ 2     │ TX_1121  │ TX_1122  │ 0.94      │ 1687  │\n│ 3     │ PNS_827  │ PNS_828  │ 0.91      │ 1068  │\n│ 4     │ BRZ_1265 │ BRZ_1448 │ 0.89      │ 1050  │\n│ 5     │ BRZ_1265 │ KEY_1178 │ 0.89      │ 1050  │\n│ 6     │ BRZ_1265 │ PR_1062  │ 0.89      │ 1050  │\n│ 7     │ BRZ_1265 │ SCA_930  │ 0.89      │ 1050  │\n│ 8     │ BRZ_1265 │ TX_1105  │ 0.89      │ 1050  │\n│ 9     │ BRZ_1469 │ VZ_1029  │ 0.89      │ 637   │\n│ 10    │ BRZ_1440 │ VZ_670   │ 0.89      │ 919   │\n⋮\n│ 78993 │ BRZ_1472 │ PR_973   │ 0.14      │ 589   │\n│ 78994 │ KEY_1391 │ SCA_869  │ 0.14      │ 467   │\n│ 78995 │ KEY_1391 │ SCA_914  │ 0.14      │ 467   │\n│ 78996 │ PR_972   │ SCA_869  │ 0.14      │ 445   │\n│ 78997 │ PR_948   │ SCA_869  │ 0.13      │ 467   │\n│ 78998 │ PR_972   │ SCA_914  │ 0.12      │ 445   │\n│ 78999 │ KEY_1190 │ SCA_914  │ 0.11      │ 670   │\n│ 79000 │ PR_973   │ SCA_914  │ 0.11      │ 589   │\n│ 79001 │ BRZ_1472 │ PR_972   │ 0.1       │ 445   │\n│ 79002 │ PR_948   │ SCA_914  │ 0.1       │ 618   │\n│ 79003 │ PR_1046  │ PR_972   │ 0.09      │ 445   │",
            "text/html": "<table class=\"data-frame\"><thead><tr><th></th><th>sample_1</th><th>sample_2</th><th>identical</th><th>n</th></tr><tr><th></th><th>String</th><th>String</th><th>Float64</th><th>Int64</th></tr></thead><tbody><p>79,003 rows × 4 columns</p><tr><th>1</th><td>PR_1063</td><td>PR_967</td><td>0.96</td><td>1552</td></tr><tr><th>2</th><td>TX_1121</td><td>TX_1122</td><td>0.94</td><td>1687</td></tr><tr><th>3</th><td>PNS_827</td><td>PNS_828</td><td>0.91</td><td>1068</td></tr><tr><th>4</th><td>BRZ_1265</td><td>BRZ_1448</td><td>0.89</td><td>1050</td></tr><tr><th>5</th><td>BRZ_1265</td><td>KEY_1178</td><td>0.89</td><td>1050</td></tr><tr><th>6</th><td>BRZ_1265</td><td>PR_1062</td><td>0.89</td><td>1050</td></tr><tr><th>7</th><td>BRZ_1265</td><td>SCA_930</td><td>0.89</td><td>1050</td></tr><tr><th>8</th><td>BRZ_1265</td><td>TX_1105</td><td>0.89</td><td>1050</td></tr><tr><th>9</th><td>BRZ_1469</td><td>VZ_1029</td><td>0.89</td><td>637</td></tr><tr><th>10</th><td>BRZ_1440</td><td>VZ_670</td><td>0.89</td><td>919</td></tr><tr><th>11</th><td>BRZ_1444</td><td>MRT_1316</td><td>0.89</td><td>2120</td></tr><tr><th>12</th><td>BRZ_1444</td><td>PR_1046</td><td>0.89</td><td>498</td></tr><tr><th>13</th><td>BRZ_1448</td><td>PNS_794</td><td>0.89</td><td>2049</td></tr><tr><th>14</th><td>BRZ_1448</td><td>VZ_692</td><td>0.89</td><td>1627</td></tr><tr><th>15</th><td>BRZ_1448</td><td>VZ_994</td><td>0.89</td><td>1095</td></tr><tr><th>16</th><td>BRZ_1459</td><td>VZ_692</td><td>0.89</td><td>1627</td></tr><tr><th>17</th><td>BRZ_1511</td><td>VZ_670</td><td>0.89</td><td>919</td></tr><tr><th>18</th><td>KEY_1156</td><td>VZ_670</td><td>0.89</td><td>919</td></tr><tr><th>19</th><td>KEY_1172</td><td>PR_1046</td><td>0.89</td><td>498</td></tr><tr><th>20</th><td>KEY_1173</td><td>SCA_1221</td><td>0.89</td><td>1955</td></tr><tr><th>21</th><td>KEY_1173</td><td>SCA_915</td><td>0.89</td><td>569</td></tr><tr><th>22</th><td>KEY_1173</td><td>VZ_692</td><td>0.89</td><td>1627</td></tr><tr><th>23</th><td>KEY_1173</td><td>VZ_999</td><td>0.89</td><td>532</td></tr><tr><th>24</th><td>KEY_1175</td><td>SCA_1221</td><td>0.89</td><td>1955</td></tr><tr><th>25</th><td>KEY_1374</td><td>MRT_1300</td><td>0.89</td><td>1632</td></tr><tr><th>26</th><td>KEY_1374</td><td>MRT_1337</td><td>0.89</td><td>1632</td></tr><tr><th>27</th><td>KEY_1374</td><td>PNS_796</td><td>0.89</td><td>1632</td></tr><tr><th>28</th><td>KEY_1374</td><td>PNS_827</td><td>0.89</td><td>1632</td></tr><tr><th>29</th><td>KEY_1382</td><td>VZ_670</td><td>0.89</td><td>919</td></tr><tr><th>30</th><td>KEY_1396</td><td>KEY_1399</td><td>0.89</td><td>1497</td></tr><tr><th>&vellip;</th><td>&vellip;</td><td>&vellip;</td><td>&vellip;</td><td>&vellip;</td></tr></tbody></table>",
            "text/latex": "\\begin{tabular}{r|cccc}\n\t& sample\\_1 & sample\\_2 & identical & n\\\\\n\t\\hline\n\t& String & String & Float64 & Int64\\\\\n\t\\hline\n\t1 & PR\\_1063 & PR\\_967 & 0.96 & 1552 \\\\\n\t2 & TX\\_1121 & TX\\_1122 & 0.94 & 1687 \\\\\n\t3 & PNS\\_827 & PNS\\_828 & 0.91 & 1068 \\\\\n\t4 & BRZ\\_1265 & BRZ\\_1448 & 0.89 & 1050 \\\\\n\t5 & BRZ\\_1265 & KEY\\_1178 & 0.89 & 1050 \\\\\n\t6 & BRZ\\_1265 & PR\\_1062 & 0.89 & 1050 \\\\\n\t7 & BRZ\\_1265 & SCA\\_930 & 0.89 & 1050 \\\\\n\t8 & BRZ\\_1265 & TX\\_1105 & 0.89 & 1050 \\\\\n\t9 & BRZ\\_1469 & VZ\\_1029 & 0.89 & 637 \\\\\n\t10 & BRZ\\_1440 & VZ\\_670 & 0.89 & 919 \\\\\n\t11 & BRZ\\_1444 & MRT\\_1316 & 0.89 & 2120 \\\\\n\t12 & BRZ\\_1444 & PR\\_1046 & 0.89 & 498 \\\\\n\t13 & BRZ\\_1448 & PNS\\_794 & 0.89 & 2049 \\\\\n\t14 & BRZ\\_1448 & VZ\\_692 & 0.89 & 1627 \\\\\n\t15 & BRZ\\_1448 & VZ\\_994 & 0.89 & 1095 \\\\\n\t16 & BRZ\\_1459 & VZ\\_692 & 0.89 & 1627 \\\\\n\t17 & BRZ\\_1511 & VZ\\_670 & 0.89 & 919 \\\\\n\t18 & KEY\\_1156 & VZ\\_670 & 0.89 & 919 \\\\\n\t19 & KEY\\_1172 & PR\\_1046 & 0.89 & 498 \\\\\n\t20 & KEY\\_1173 & SCA\\_1221 & 0.89 & 1955 \\\\\n\t21 & KEY\\_1173 & SCA\\_915 & 0.89 & 569 \\\\\n\t22 & KEY\\_1173 & VZ\\_692 & 0.89 & 1627 \\\\\n\t23 & KEY\\_1173 & VZ\\_999 & 0.89 & 532 \\\\\n\t24 & KEY\\_1175 & SCA\\_1221 & 0.89 & 1955 \\\\\n\t25 & KEY\\_1374 & MRT\\_1300 & 0.89 & 1632 \\\\\n\t26 & KEY\\_1374 & MRT\\_1337 & 0.89 & 1632 \\\\\n\t27 & KEY\\_1374 & PNS\\_796 & 0.89 & 1632 \\\\\n\t28 & KEY\\_1374 & PNS\\_827 & 0.89 & 1632 \\\\\n\t29 & KEY\\_1382 & VZ\\_670 & 0.89 & 919 \\\\\n\t30 & KEY\\_1396 & KEY\\_1399 & 0.89 & 1497 \\\\\n\t$\\dots$ & $\\dots$ & $\\dots$ & $\\dots$ & $\\dots$ \\\\\n\\end{tabular}\n"
          },
          "metadata": {}
        }
      ],
      "execution_count": 12,
      "metadata": {
        "collapsed": true,
        "jupyter": {
          "source_hidden": false,
          "outputs_hidden": false
        },
        "nteract": {
          "transient": {
            "deleting": false
          }
        },
        "execution": {
          "iopub.status.busy": "2020-08-24T18:44:15.799Z",
          "iopub.execute_input": "2020-08-24T18:44:15.805Z",
          "iopub.status.idle": "2020-08-24T18:44:24.047Z"
        }
      }
    },
    {
      "cell_type": "code",
      "source": [
        "ms = missing(bft, by = \"sample\")\n",
        "ms[ms.name .∈ Ref([\"PR_1063\",\"PR_967\", \"TX_1121\", \"TX_1122\"]), :]"
      ],
      "outputs": [
        {
          "output_type": "execute_result",
          "execution_count": 22,
          "data": {
            "text/plain": "4×2 DataFrame\n│ Row │ name    │ missing │\n│     │ \u001b[90mString\u001b[39m  │ \u001b[90mInt64\u001b[39m   │\n├─────┼─────────┼─────────┤\n│ 1   │ PR_1063 │ 587     │\n│ 2   │ PR_967  │ 3       │\n│ 3   │ TX_1121 │ 452     │\n│ 4   │ TX_1122 │ 50      │",
            "text/html": "<table class=\"data-frame\"><thead><tr><th></th><th>name</th><th>missing</th></tr><tr><th></th><th>String</th><th>Int64</th></tr></thead><tbody><p>4 rows × 2 columns</p><tr><th>1</th><td>PR_1063</td><td>587</td></tr><tr><th>2</th><td>PR_967</td><td>3</td></tr><tr><th>3</th><td>TX_1121</td><td>452</td></tr><tr><th>4</th><td>TX_1122</td><td>50</td></tr></tbody></table>",
            "text/latex": "\\begin{tabular}{r|cc}\n\t& name & missing\\\\\n\t\\hline\n\t& String & Int64\\\\\n\t\\hline\n\t1 & PR\\_1063 & 587 \\\\\n\t2 & PR\\_967 & 3 \\\\\n\t3 & TX\\_1121 & 452 \\\\\n\t4 & TX\\_1122 & 50 \\\\\n\\end{tabular}\n"
          },
          "metadata": {}
        }
      ],
      "execution_count": 22,
      "metadata": {
        "collapsed": true,
        "jupyter": {
          "source_hidden": false,
          "outputs_hidden": false
        },
        "nteract": {
          "transient": {
            "deleting": false
          }
        },
        "execution": {
          "iopub.status.busy": "2020-08-24T18:59:34.568Z",
          "iopub.execute_input": "2020-08-24T18:59:34.575Z",
          "iopub.status.idle": "2020-08-24T18:59:34.652Z"
        }
      }
    },
    {
      "cell_type": "code",
      "source": [
        "bft_rm = exclude(bft, sample = [\"PR_1063\", \"TX_1121\"])"
      ],
      "outputs": [
        {
          "output_type": "execute_result",
          "execution_count": 23,
          "data": {
            "text/plain": "PopData Object\n  Markers: \u001b[0m\u001b[1mMicrosatellite\u001b[22m\n  Ploidy: \u001b[0m\u001b[1m2\u001b[22m\n  Samples: \u001b[0m\u001b[1m396\u001b[22m\n  Loci: \u001b[0m\u001b[1m2139\u001b[22m\n  Populations: \u001b[0m\u001b[1m9\u001b[22m\n  Coordinates:\u001b[33m absent\u001b[39m\n"
          },
          "metadata": {}
        }
      ],
      "execution_count": 23,
      "metadata": {
        "collapsed": true,
        "jupyter": {
          "source_hidden": false,
          "outputs_hidden": false
        },
        "nteract": {
          "transient": {
            "deleting": false
          }
        },
        "execution": {
          "iopub.status.busy": "2020-08-24T19:02:29.350Z",
          "iopub.execute_input": "2020-08-24T19:02:29.356Z",
          "iopub.status.idle": "2020-08-24T19:02:30.836Z"
        }
      }
    },
    {
      "cell_type": "code",
      "source": [
        "write_to(bft_rm, filename = \"BFT_kinless.gen\")"
      ],
      "outputs": [],
      "execution_count": 27,
      "metadata": {
        "collapsed": true,
        "jupyter": {
          "source_hidden": false,
          "outputs_hidden": false
        },
        "nteract": {
          "transient": {
            "deleting": false
          }
        },
        "execution": {
          "iopub.status.busy": "2020-08-24T19:03:59.342Z",
          "iopub.execute_input": "2020-08-24T19:03:59.351Z",
          "iopub.status.idle": "2020-08-24T19:04:03.634Z"
        }
      }
    }
  ],
  "metadata": {
    "kernel_info": {
      "name": "python3"
    },
    "language_info": {
      "file_extension": ".jl",
      "name": "julia",
      "mimetype": "application/julia",
      "version": "1.4.2"
    },
    "kernelspec": {
      "argv": [
        "/usr/bin/python3",
        "-m",
        "ipykernel_launcher",
        "-f",
        "{connection_file}"
      ],
      "display_name": "Python 3",
      "language": "python",
      "name": "python3"
    },
    "nteract": {
      "version": "0.24.1"
    }
  },
  "nbformat": 4,
  "nbformat_minor": 0
}
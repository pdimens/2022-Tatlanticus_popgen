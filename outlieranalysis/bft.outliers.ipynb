{
 "cells": [
  {
   "cell_type": "code",
   "execution_count": 1,
   "id": "d6bb566b-b4e3-4769-8b71-6d2544d0cb12",
   "metadata": {
    "vscode": {
     "languageId": "r"
    }
   },
   "outputs": [
    {
     "name": "stderr",
     "output_type": "stream",
     "text": [
      "\n",
      "Attaching package: 'dplyr'\n",
      "\n",
      "\n",
      "The following objects are masked from 'package:stats':\n",
      "\n",
      "    filter, lag\n",
      "\n",
      "\n",
      "The following objects are masked from 'package:base':\n",
      "\n",
      "    intersect, setdiff, setequal, union\n",
      "\n",
      "\n"
     ]
    },
    {
     "data": {
      "text/html": [
       "<table class=\"dataframe\">\n",
       "<caption>A data.frame: 6 × 4</caption>\n",
       "<thead>\n",
       "\t<tr><th></th><th scope=col>LocusName</th><th scope=col>He</th><th scope=col>FST</th><th scope=col>OutlierFlag</th></tr>\n",
       "\t<tr><th></th><th scope=col>&lt;chr&gt;</th><th scope=col>&lt;dbl&gt;</th><th scope=col>&lt;dbl&gt;</th><th scope=col>&lt;lgl&gt;</th></tr>\n",
       "</thead>\n",
       "<tbody>\n",
       "\t<tr><th scope=row>1</th><td>232_pilon_2036 </td><td>0.04067103</td><td> 0.003074769</td><td>FALSE</td></tr>\n",
       "\t<tr><th scope=row>2</th><td>335_pilon_972  </td><td>0.03332376</td><td> 0.015943825</td><td>FALSE</td></tr>\n",
       "\t<tr><th scope=row>3</th><td>335_pilon_973  </td><td>0.02344729</td><td> 0.003532902</td><td>FALSE</td></tr>\n",
       "\t<tr><th scope=row>4</th><td>341_pilon_1400 </td><td>0.07420274</td><td> 0.012091845</td><td>FALSE</td></tr>\n",
       "\t<tr><th scope=row>5</th><td>536_pilon_3491 </td><td>0.01947863</td><td> 0.008973181</td><td>FALSE</td></tr>\n",
       "\t<tr><th scope=row>6</th><td>794_pilon_11572</td><td>0.03760373</td><td>-0.001514511</td><td>FALSE</td></tr>\n",
       "</tbody>\n",
       "</table>\n"
      ],
      "text/latex": [
       "A data.frame: 6 × 4\n",
       "\\begin{tabular}{r|llll}\n",
       "  & LocusName & He & FST & OutlierFlag\\\\\n",
       "  & <chr> & <dbl> & <dbl> & <lgl>\\\\\n",
       "\\hline\n",
       "\t1 & 232\\_pilon\\_2036  & 0.04067103 &  0.003074769 & FALSE\\\\\n",
       "\t2 & 335\\_pilon\\_972   & 0.03332376 &  0.015943825 & FALSE\\\\\n",
       "\t3 & 335\\_pilon\\_973   & 0.02344729 &  0.003532902 & FALSE\\\\\n",
       "\t4 & 341\\_pilon\\_1400  & 0.07420274 &  0.012091845 & FALSE\\\\\n",
       "\t5 & 536\\_pilon\\_3491  & 0.01947863 &  0.008973181 & FALSE\\\\\n",
       "\t6 & 794\\_pilon\\_11572 & 0.03760373 & -0.001514511 & FALSE\\\\\n",
       "\\end{tabular}\n"
      ],
      "text/markdown": [
       "\n",
       "A data.frame: 6 × 4\n",
       "\n",
       "| <!--/--> | LocusName &lt;chr&gt; | He &lt;dbl&gt; | FST &lt;dbl&gt; | OutlierFlag &lt;lgl&gt; |\n",
       "|---|---|---|---|---|\n",
       "| 1 | 232_pilon_2036  | 0.04067103 |  0.003074769 | FALSE |\n",
       "| 2 | 335_pilon_972   | 0.03332376 |  0.015943825 | FALSE |\n",
       "| 3 | 335_pilon_973   | 0.02344729 |  0.003532902 | FALSE |\n",
       "| 4 | 341_pilon_1400  | 0.07420274 |  0.012091845 | FALSE |\n",
       "| 5 | 536_pilon_3491  | 0.01947863 |  0.008973181 | FALSE |\n",
       "| 6 | 794_pilon_11572 | 0.03760373 | -0.001514511 | FALSE |\n",
       "\n"
      ],
      "text/plain": [
       "  LocusName       He         FST          OutlierFlag\n",
       "1 232_pilon_2036  0.04067103  0.003074769 FALSE      \n",
       "2 335_pilon_972   0.03332376  0.015943825 FALSE      \n",
       "3 335_pilon_973   0.02344729  0.003532902 FALSE      \n",
       "4 341_pilon_1400  0.07420274  0.012091845 FALSE      \n",
       "5 536_pilon_3491  0.01947863  0.008973181 FALSE      \n",
       "6 794_pilon_11572 0.03760373 -0.001514511 FALSE      "
      ]
     },
     "metadata": {},
     "output_type": "display_data"
    }
   ],
   "source": [
    "## Load packages\n",
    "library(ggplot2)\n",
    "library(dplyr)\n",
    "options(repr.plot.width=20, repr.plot.height=10)\n",
    "snp.names <- readLines(\"../inputfiles/snp.names\")\n",
    "all.fst <- read.csv(\"outflank/outflank.csv\")[,c(1,2,3,15)]\n",
    "all.fst$LocusName <- gsub(\"\\\\.[0-9]+\", \"\", all.fst$LocusName)\n",
    "head(all.fst)"
   ]
  },
  {
   "cell_type": "markdown",
   "id": "227dadff-8316-46d2-b1bf-0b3bf6f0a2cd",
   "metadata": {},
   "source": [
    "## Bayescan results"
   ]
  },
  {
   "cell_type": "code",
   "execution_count": 2,
   "id": "c567f441",
   "metadata": {
    "vscode": {
     "languageId": "r"
    }
   },
   "outputs": [
    {
     "data": {
      "text/html": [
       "<style>\n",
       ".list-inline {list-style: none; margin:0; padding: 0}\n",
       ".list-inline>li {display: inline-block}\n",
       ".list-inline>li:not(:last-child)::after {content: \"\\00b7\"; padding: 0 .5ex}\n",
       "</style>\n",
       "<ol class=list-inline><li>'98145_pilon_5343'</li><li>'185042_pilon_3632'</li><li>'257918_pilon_16155'</li><li>'487936_pilon_47'</li><li>'487936_pilon_50'</li></ol>\n"
      ],
      "text/latex": [
       "\\begin{enumerate*}\n",
       "\\item '98145\\_pilon\\_5343'\n",
       "\\item '185042\\_pilon\\_3632'\n",
       "\\item '257918\\_pilon\\_16155'\n",
       "\\item '487936\\_pilon\\_47'\n",
       "\\item '487936\\_pilon\\_50'\n",
       "\\end{enumerate*}\n"
      ],
      "text/markdown": [
       "1. '98145_pilon_5343'\n",
       "2. '185042_pilon_3632'\n",
       "3. '257918_pilon_16155'\n",
       "4. '487936_pilon_47'\n",
       "5. '487936_pilon_50'\n",
       "\n",
       "\n"
      ],
      "text/plain": [
       "[1] \"98145_pilon_5343\"   \"185042_pilon_3632\"  \"257918_pilon_16155\"\n",
       "[4] \"487936_pilon_47\"    \"487936_pilon_50\"   "
      ]
     },
     "metadata": {},
     "output_type": "display_data"
    }
   ],
   "source": [
    "bayescan <- readLines(\"bayescan/bayescan.outliers.loci\")\n",
    "bayescan"
   ]
  },
  {
   "cell_type": "markdown",
   "id": "5577c4ad-9858-490d-a4b9-98ae0c28ddff",
   "metadata": {},
   "source": [
    "## outFlank results"
   ]
  },
  {
   "cell_type": "code",
   "execution_count": 3,
   "id": "30297e16-6f49-43f9-9ba2-7199e0e36340",
   "metadata": {
    "vscode": {
     "languageId": "r"
    }
   },
   "outputs": [
    {
     "data": {
      "text/html": [
       "<style>\n",
       ".list-inline {list-style: none; margin:0; padding: 0}\n",
       ".list-inline>li {display: inline-block}\n",
       ".list-inline>li:not(:last-child)::after {content: \"\\00b7\"; padding: 0 .5ex}\n",
       "</style>\n",
       "<ol class=list-inline><li>'22845_pilon_21316'</li><li>'25280_pilon_7009'</li><li>'38948_pilon_27399'</li><li>'41950_pilon_50866'</li><li>'43953_pilon_6455'</li><li>'49150_pilon_108095'</li><li>'55180_pilon_1698'</li><li>'59363_pilon_848'</li><li>'61086_pilon_2498'</li><li>'64444_pilon_21010'</li><li>'67749_pilon_4410'</li><li>'78696_pilon_35444'</li><li>'79362_pilon_8827'</li><li>'80652_pilon_1211'</li><li>'87121_pilon_5841'</li><li>'92013_pilon_10508'</li><li>'92487_pilon_569'</li><li>'98145_pilon_5343'</li><li>'102684_pilon_5263'</li><li>'103835_pilon_1643'</li><li>'110673_pilon_20700'</li><li>'113470_pilon_16504'</li><li>'120765_pilon_2031'</li><li>'132666_pilon_7217'</li><li>'134438_pilon_3107'</li><li>'134485_pilon_16567'</li><li>'135818_pilon_6357'</li><li>'139985_pilon_1404'</li><li>'142032_pilon_1347'</li><li>'147124_pilon_2431'</li><li>'147180_pilon_17454'</li><li>'148831_pilon_2574'</li><li>'181231_pilon_3961'</li><li>'183746_pilon_14459'</li><li>'185042_pilon_3632'</li><li>'186965_pilon_0_2535'</li><li>'187509_pilon_3816'</li><li>'187509_pilon_3822'</li><li>'188260_pilon_8854'</li><li>'200020_pilon_7057'</li><li>'202625_pilon_20075'</li><li>'207091_pilon_623'</li><li>'243056_pilon_3204'</li><li>'243628_pilon_3332'</li><li>'257918_pilon_16155'</li><li>'265933_pilon_1742'</li><li>'267657_pilon_1176'</li><li>'271640_pilon_737'</li><li>'275099_pilon_338'</li><li>'283038_pilon_5011'</li><li>'284542_pilon_1491'</li><li>'292802_pilon_14259'</li><li>'296530_pilon_0_16003'</li><li>'487936_pilon_47'</li><li>'487936_pilon_50'</li></ol>\n"
      ],
      "text/latex": [
       "\\begin{enumerate*}\n",
       "\\item '22845\\_pilon\\_21316'\n",
       "\\item '25280\\_pilon\\_7009'\n",
       "\\item '38948\\_pilon\\_27399'\n",
       "\\item '41950\\_pilon\\_50866'\n",
       "\\item '43953\\_pilon\\_6455'\n",
       "\\item '49150\\_pilon\\_108095'\n",
       "\\item '55180\\_pilon\\_1698'\n",
       "\\item '59363\\_pilon\\_848'\n",
       "\\item '61086\\_pilon\\_2498'\n",
       "\\item '64444\\_pilon\\_21010'\n",
       "\\item '67749\\_pilon\\_4410'\n",
       "\\item '78696\\_pilon\\_35444'\n",
       "\\item '79362\\_pilon\\_8827'\n",
       "\\item '80652\\_pilon\\_1211'\n",
       "\\item '87121\\_pilon\\_5841'\n",
       "\\item '92013\\_pilon\\_10508'\n",
       "\\item '92487\\_pilon\\_569'\n",
       "\\item '98145\\_pilon\\_5343'\n",
       "\\item '102684\\_pilon\\_5263'\n",
       "\\item '103835\\_pilon\\_1643'\n",
       "\\item '110673\\_pilon\\_20700'\n",
       "\\item '113470\\_pilon\\_16504'\n",
       "\\item '120765\\_pilon\\_2031'\n",
       "\\item '132666\\_pilon\\_7217'\n",
       "\\item '134438\\_pilon\\_3107'\n",
       "\\item '134485\\_pilon\\_16567'\n",
       "\\item '135818\\_pilon\\_6357'\n",
       "\\item '139985\\_pilon\\_1404'\n",
       "\\item '142032\\_pilon\\_1347'\n",
       "\\item '147124\\_pilon\\_2431'\n",
       "\\item '147180\\_pilon\\_17454'\n",
       "\\item '148831\\_pilon\\_2574'\n",
       "\\item '181231\\_pilon\\_3961'\n",
       "\\item '183746\\_pilon\\_14459'\n",
       "\\item '185042\\_pilon\\_3632'\n",
       "\\item '186965\\_pilon\\_0\\_2535'\n",
       "\\item '187509\\_pilon\\_3816'\n",
       "\\item '187509\\_pilon\\_3822'\n",
       "\\item '188260\\_pilon\\_8854'\n",
       "\\item '200020\\_pilon\\_7057'\n",
       "\\item '202625\\_pilon\\_20075'\n",
       "\\item '207091\\_pilon\\_623'\n",
       "\\item '243056\\_pilon\\_3204'\n",
       "\\item '243628\\_pilon\\_3332'\n",
       "\\item '257918\\_pilon\\_16155'\n",
       "\\item '265933\\_pilon\\_1742'\n",
       "\\item '267657\\_pilon\\_1176'\n",
       "\\item '271640\\_pilon\\_737'\n",
       "\\item '275099\\_pilon\\_338'\n",
       "\\item '283038\\_pilon\\_5011'\n",
       "\\item '284542\\_pilon\\_1491'\n",
       "\\item '292802\\_pilon\\_14259'\n",
       "\\item '296530\\_pilon\\_0\\_16003'\n",
       "\\item '487936\\_pilon\\_47'\n",
       "\\item '487936\\_pilon\\_50'\n",
       "\\end{enumerate*}\n"
      ],
      "text/markdown": [
       "1. '22845_pilon_21316'\n",
       "2. '25280_pilon_7009'\n",
       "3. '38948_pilon_27399'\n",
       "4. '41950_pilon_50866'\n",
       "5. '43953_pilon_6455'\n",
       "6. '49150_pilon_108095'\n",
       "7. '55180_pilon_1698'\n",
       "8. '59363_pilon_848'\n",
       "9. '61086_pilon_2498'\n",
       "10. '64444_pilon_21010'\n",
       "11. '67749_pilon_4410'\n",
       "12. '78696_pilon_35444'\n",
       "13. '79362_pilon_8827'\n",
       "14. '80652_pilon_1211'\n",
       "15. '87121_pilon_5841'\n",
       "16. '92013_pilon_10508'\n",
       "17. '92487_pilon_569'\n",
       "18. '98145_pilon_5343'\n",
       "19. '102684_pilon_5263'\n",
       "20. '103835_pilon_1643'\n",
       "21. '110673_pilon_20700'\n",
       "22. '113470_pilon_16504'\n",
       "23. '120765_pilon_2031'\n",
       "24. '132666_pilon_7217'\n",
       "25. '134438_pilon_3107'\n",
       "26. '134485_pilon_16567'\n",
       "27. '135818_pilon_6357'\n",
       "28. '139985_pilon_1404'\n",
       "29. '142032_pilon_1347'\n",
       "30. '147124_pilon_2431'\n",
       "31. '147180_pilon_17454'\n",
       "32. '148831_pilon_2574'\n",
       "33. '181231_pilon_3961'\n",
       "34. '183746_pilon_14459'\n",
       "35. '185042_pilon_3632'\n",
       "36. '186965_pilon_0_2535'\n",
       "37. '187509_pilon_3816'\n",
       "38. '187509_pilon_3822'\n",
       "39. '188260_pilon_8854'\n",
       "40. '200020_pilon_7057'\n",
       "41. '202625_pilon_20075'\n",
       "42. '207091_pilon_623'\n",
       "43. '243056_pilon_3204'\n",
       "44. '243628_pilon_3332'\n",
       "45. '257918_pilon_16155'\n",
       "46. '265933_pilon_1742'\n",
       "47. '267657_pilon_1176'\n",
       "48. '271640_pilon_737'\n",
       "49. '275099_pilon_338'\n",
       "50. '283038_pilon_5011'\n",
       "51. '284542_pilon_1491'\n",
       "52. '292802_pilon_14259'\n",
       "53. '296530_pilon_0_16003'\n",
       "54. '487936_pilon_47'\n",
       "55. '487936_pilon_50'\n",
       "\n",
       "\n"
      ],
      "text/plain": [
       " [1] \"22845_pilon_21316\"    \"25280_pilon_7009\"     \"38948_pilon_27399\"   \n",
       " [4] \"41950_pilon_50866\"    \"43953_pilon_6455\"     \"49150_pilon_108095\"  \n",
       " [7] \"55180_pilon_1698\"     \"59363_pilon_848\"      \"61086_pilon_2498\"    \n",
       "[10] \"64444_pilon_21010\"    \"67749_pilon_4410\"     \"78696_pilon_35444\"   \n",
       "[13] \"79362_pilon_8827\"     \"80652_pilon_1211\"     \"87121_pilon_5841\"    \n",
       "[16] \"92013_pilon_10508\"    \"92487_pilon_569\"      \"98145_pilon_5343\"    \n",
       "[19] \"102684_pilon_5263\"    \"103835_pilon_1643\"    \"110673_pilon_20700\"  \n",
       "[22] \"113470_pilon_16504\"   \"120765_pilon_2031\"    \"132666_pilon_7217\"   \n",
       "[25] \"134438_pilon_3107\"    \"134485_pilon_16567\"   \"135818_pilon_6357\"   \n",
       "[28] \"139985_pilon_1404\"    \"142032_pilon_1347\"    \"147124_pilon_2431\"   \n",
       "[31] \"147180_pilon_17454\"   \"148831_pilon_2574\"    \"181231_pilon_3961\"   \n",
       "[34] \"183746_pilon_14459\"   \"185042_pilon_3632\"    \"186965_pilon_0_2535\" \n",
       "[37] \"187509_pilon_3816\"    \"187509_pilon_3822\"    \"188260_pilon_8854\"   \n",
       "[40] \"200020_pilon_7057\"    \"202625_pilon_20075\"   \"207091_pilon_623\"    \n",
       "[43] \"243056_pilon_3204\"    \"243628_pilon_3332\"    \"257918_pilon_16155\"  \n",
       "[46] \"265933_pilon_1742\"    \"267657_pilon_1176\"    \"271640_pilon_737\"    \n",
       "[49] \"275099_pilon_338\"     \"283038_pilon_5011\"    \"284542_pilon_1491\"   \n",
       "[52] \"292802_pilon_14259\"   \"296530_pilon_0_16003\" \"487936_pilon_47\"     \n",
       "[55] \"487936_pilon_50\"     "
      ]
     },
     "metadata": {},
     "output_type": "display_data"
    }
   ],
   "source": [
    "outflank <- readLines(\"outflank/outflank.outliers.loci\")\n",
    "outflank"
   ]
  },
  {
   "cell_type": "markdown",
   "id": "7fa26d98",
   "metadata": {},
   "source": [
    "### Baypass results"
   ]
  },
  {
   "cell_type": "code",
   "execution_count": 4,
   "id": "4d61997f-cfb4-4529-9138-2fb04292c046",
   "metadata": {
    "vscode": {
     "languageId": "r"
    }
   },
   "outputs": [
    {
     "data": {
      "text/html": [
       "<style>\n",
       ".list-inline {list-style: none; margin:0; padding: 0}\n",
       ".list-inline>li {display: inline-block}\n",
       ".list-inline>li:not(:last-child)::after {content: \"\\00b7\"; padding: 0 .5ex}\n",
       "</style>\n",
       "<ol class=list-inline><li>'2508_pilon_1_6228'</li><li>'9784_pilon_16209'</li><li>'11109_pilon_0_9627'</li><li>'11596_pilon_17128'</li><li>'17843_pilon_14110'</li><li>'20575_pilon_706'</li><li>'27601_pilon_14553'</li><li>'29247_pilon_14539'</li><li>'37918_pilon_5372'</li><li>'38343_pilon_14739'</li><li>'43918_pilon_1316'</li><li>'48400_pilon_59645'</li><li>'56421_pilon_22802'</li><li>'70479_pilon_15101'</li><li>'73752_pilon_1_3577'</li><li>'87933_pilon_1351'</li><li>'91228_pilon_1890'</li><li>'94230_pilon_23398'</li><li>'96091_pilon_11444'</li><li>'102827_pilon_7466'</li><li>'102983_pilon_1123'</li><li>'107942_pilon_7235'</li><li>'108821_pilon_4384'</li><li>'119475_pilon_1_7526'</li><li>'120504_pilon_6192'</li><li>'121264_pilon_6161'</li><li>'123135_pilon_1053'</li><li>'133274_pilon_8334'</li><li>'145033_pilon_1775'</li><li>'146594_pilon_1_109'</li><li>'146645_pilon_6987'</li><li>'149306_pilon_308'</li><li>'149609_pilon_959'</li><li>'153020_pilon_349'</li><li>'153512_pilon_132'</li><li>'161105_pilon_7928'</li><li>'161620_pilon_735'</li><li>'188085_pilon_0_1520'</li><li>'194147_pilon_13602'</li><li>'198417_pilon_2344'</li><li>'204938_pilon_220'</li><li>'220975_pilon_2925'</li><li>'221767_pilon_1584'</li><li>'225438_pilon_12554'</li><li>'231377_pilon_4938'</li><li>'239201_pilon_920'</li><li>'242520_pilon_3777'</li><li>'247315_pilon_7544'</li><li>'249802_pilon_1496'</li><li>'260302_pilon_2507'</li><li>'266121_pilon_8402'</li><li>'271143_pilon_2991'</li><li>'271143_pilon_2996'</li><li>'271146_pilon_5418'</li><li>'274372_pilon_1158'</li><li>'276330_pilon_1836'</li><li>'289075_pilon_3166'</li><li>'293334_pilon_3311'</li></ol>\n"
      ],
      "text/latex": [
       "\\begin{enumerate*}\n",
       "\\item '2508\\_pilon\\_1\\_6228'\n",
       "\\item '9784\\_pilon\\_16209'\n",
       "\\item '11109\\_pilon\\_0\\_9627'\n",
       "\\item '11596\\_pilon\\_17128'\n",
       "\\item '17843\\_pilon\\_14110'\n",
       "\\item '20575\\_pilon\\_706'\n",
       "\\item '27601\\_pilon\\_14553'\n",
       "\\item '29247\\_pilon\\_14539'\n",
       "\\item '37918\\_pilon\\_5372'\n",
       "\\item '38343\\_pilon\\_14739'\n",
       "\\item '43918\\_pilon\\_1316'\n",
       "\\item '48400\\_pilon\\_59645'\n",
       "\\item '56421\\_pilon\\_22802'\n",
       "\\item '70479\\_pilon\\_15101'\n",
       "\\item '73752\\_pilon\\_1\\_3577'\n",
       "\\item '87933\\_pilon\\_1351'\n",
       "\\item '91228\\_pilon\\_1890'\n",
       "\\item '94230\\_pilon\\_23398'\n",
       "\\item '96091\\_pilon\\_11444'\n",
       "\\item '102827\\_pilon\\_7466'\n",
       "\\item '102983\\_pilon\\_1123'\n",
       "\\item '107942\\_pilon\\_7235'\n",
       "\\item '108821\\_pilon\\_4384'\n",
       "\\item '119475\\_pilon\\_1\\_7526'\n",
       "\\item '120504\\_pilon\\_6192'\n",
       "\\item '121264\\_pilon\\_6161'\n",
       "\\item '123135\\_pilon\\_1053'\n",
       "\\item '133274\\_pilon\\_8334'\n",
       "\\item '145033\\_pilon\\_1775'\n",
       "\\item '146594\\_pilon\\_1\\_109'\n",
       "\\item '146645\\_pilon\\_6987'\n",
       "\\item '149306\\_pilon\\_308'\n",
       "\\item '149609\\_pilon\\_959'\n",
       "\\item '153020\\_pilon\\_349'\n",
       "\\item '153512\\_pilon\\_132'\n",
       "\\item '161105\\_pilon\\_7928'\n",
       "\\item '161620\\_pilon\\_735'\n",
       "\\item '188085\\_pilon\\_0\\_1520'\n",
       "\\item '194147\\_pilon\\_13602'\n",
       "\\item '198417\\_pilon\\_2344'\n",
       "\\item '204938\\_pilon\\_220'\n",
       "\\item '220975\\_pilon\\_2925'\n",
       "\\item '221767\\_pilon\\_1584'\n",
       "\\item '225438\\_pilon\\_12554'\n",
       "\\item '231377\\_pilon\\_4938'\n",
       "\\item '239201\\_pilon\\_920'\n",
       "\\item '242520\\_pilon\\_3777'\n",
       "\\item '247315\\_pilon\\_7544'\n",
       "\\item '249802\\_pilon\\_1496'\n",
       "\\item '260302\\_pilon\\_2507'\n",
       "\\item '266121\\_pilon\\_8402'\n",
       "\\item '271143\\_pilon\\_2991'\n",
       "\\item '271143\\_pilon\\_2996'\n",
       "\\item '271146\\_pilon\\_5418'\n",
       "\\item '274372\\_pilon\\_1158'\n",
       "\\item '276330\\_pilon\\_1836'\n",
       "\\item '289075\\_pilon\\_3166'\n",
       "\\item '293334\\_pilon\\_3311'\n",
       "\\end{enumerate*}\n"
      ],
      "text/markdown": [
       "1. '2508_pilon_1_6228'\n",
       "2. '9784_pilon_16209'\n",
       "3. '11109_pilon_0_9627'\n",
       "4. '11596_pilon_17128'\n",
       "5. '17843_pilon_14110'\n",
       "6. '20575_pilon_706'\n",
       "7. '27601_pilon_14553'\n",
       "8. '29247_pilon_14539'\n",
       "9. '37918_pilon_5372'\n",
       "10. '38343_pilon_14739'\n",
       "11. '43918_pilon_1316'\n",
       "12. '48400_pilon_59645'\n",
       "13. '56421_pilon_22802'\n",
       "14. '70479_pilon_15101'\n",
       "15. '73752_pilon_1_3577'\n",
       "16. '87933_pilon_1351'\n",
       "17. '91228_pilon_1890'\n",
       "18. '94230_pilon_23398'\n",
       "19. '96091_pilon_11444'\n",
       "20. '102827_pilon_7466'\n",
       "21. '102983_pilon_1123'\n",
       "22. '107942_pilon_7235'\n",
       "23. '108821_pilon_4384'\n",
       "24. '119475_pilon_1_7526'\n",
       "25. '120504_pilon_6192'\n",
       "26. '121264_pilon_6161'\n",
       "27. '123135_pilon_1053'\n",
       "28. '133274_pilon_8334'\n",
       "29. '145033_pilon_1775'\n",
       "30. '146594_pilon_1_109'\n",
       "31. '146645_pilon_6987'\n",
       "32. '149306_pilon_308'\n",
       "33. '149609_pilon_959'\n",
       "34. '153020_pilon_349'\n",
       "35. '153512_pilon_132'\n",
       "36. '161105_pilon_7928'\n",
       "37. '161620_pilon_735'\n",
       "38. '188085_pilon_0_1520'\n",
       "39. '194147_pilon_13602'\n",
       "40. '198417_pilon_2344'\n",
       "41. '204938_pilon_220'\n",
       "42. '220975_pilon_2925'\n",
       "43. '221767_pilon_1584'\n",
       "44. '225438_pilon_12554'\n",
       "45. '231377_pilon_4938'\n",
       "46. '239201_pilon_920'\n",
       "47. '242520_pilon_3777'\n",
       "48. '247315_pilon_7544'\n",
       "49. '249802_pilon_1496'\n",
       "50. '260302_pilon_2507'\n",
       "51. '266121_pilon_8402'\n",
       "52. '271143_pilon_2991'\n",
       "53. '271143_pilon_2996'\n",
       "54. '271146_pilon_5418'\n",
       "55. '274372_pilon_1158'\n",
       "56. '276330_pilon_1836'\n",
       "57. '289075_pilon_3166'\n",
       "58. '293334_pilon_3311'\n",
       "\n",
       "\n"
      ],
      "text/plain": [
       " [1] \"2508_pilon_1_6228\"   \"9784_pilon_16209\"    \"11109_pilon_0_9627\" \n",
       " [4] \"11596_pilon_17128\"   \"17843_pilon_14110\"   \"20575_pilon_706\"    \n",
       " [7] \"27601_pilon_14553\"   \"29247_pilon_14539\"   \"37918_pilon_5372\"   \n",
       "[10] \"38343_pilon_14739\"   \"43918_pilon_1316\"    \"48400_pilon_59645\"  \n",
       "[13] \"56421_pilon_22802\"   \"70479_pilon_15101\"   \"73752_pilon_1_3577\" \n",
       "[16] \"87933_pilon_1351\"    \"91228_pilon_1890\"    \"94230_pilon_23398\"  \n",
       "[19] \"96091_pilon_11444\"   \"102827_pilon_7466\"   \"102983_pilon_1123\"  \n",
       "[22] \"107942_pilon_7235\"   \"108821_pilon_4384\"   \"119475_pilon_1_7526\"\n",
       "[25] \"120504_pilon_6192\"   \"121264_pilon_6161\"   \"123135_pilon_1053\"  \n",
       "[28] \"133274_pilon_8334\"   \"145033_pilon_1775\"   \"146594_pilon_1_109\" \n",
       "[31] \"146645_pilon_6987\"   \"149306_pilon_308\"    \"149609_pilon_959\"   \n",
       "[34] \"153020_pilon_349\"    \"153512_pilon_132\"    \"161105_pilon_7928\"  \n",
       "[37] \"161620_pilon_735\"    \"188085_pilon_0_1520\" \"194147_pilon_13602\" \n",
       "[40] \"198417_pilon_2344\"   \"204938_pilon_220\"    \"220975_pilon_2925\"  \n",
       "[43] \"221767_pilon_1584\"   \"225438_pilon_12554\"  \"231377_pilon_4938\"  \n",
       "[46] \"239201_pilon_920\"    \"242520_pilon_3777\"   \"247315_pilon_7544\"  \n",
       "[49] \"249802_pilon_1496\"   \"260302_pilon_2507\"   \"266121_pilon_8402\"  \n",
       "[52] \"271143_pilon_2991\"   \"271143_pilon_2996\"   \"271146_pilon_5418\"  \n",
       "[55] \"274372_pilon_1158\"   \"276330_pilon_1836\"   \"289075_pilon_3166\"  \n",
       "[58] \"293334_pilon_3311\"  "
      ]
     },
     "metadata": {},
     "output_type": "display_data"
    }
   ],
   "source": [
    "baypass <- readLines(\"baypass/baypass.outliers.loci\")\n",
    "baypass"
   ]
  },
  {
   "cell_type": "markdown",
   "id": "77788eb5",
   "metadata": {},
   "source": [
    "#### Are there any common loci?\n",
    "outFLANK vs Baypass: nope"
   ]
  },
  {
   "cell_type": "code",
   "execution_count": 5,
   "id": "85b20734",
   "metadata": {
    "vscode": {
     "languageId": "r"
    }
   },
   "outputs": [
    {
     "data": {
      "text/html": [],
      "text/latex": [],
      "text/markdown": [],
      "text/plain": [
       "character(0)"
      ]
     },
     "metadata": {},
     "output_type": "display_data"
    }
   ],
   "source": [
    "intersect(outflank, baypass)"
   ]
  },
  {
   "cell_type": "markdown",
   "id": "96e7abef",
   "metadata": {},
   "source": [
    "outFLANK vs Bayescan: all 5 of Bayescan"
   ]
  },
  {
   "cell_type": "code",
   "execution_count": 6,
   "id": "15870a29",
   "metadata": {
    "vscode": {
     "languageId": "r"
    }
   },
   "outputs": [
    {
     "data": {
      "text/html": [
       "<style>\n",
       ".list-inline {list-style: none; margin:0; padding: 0}\n",
       ".list-inline>li {display: inline-block}\n",
       ".list-inline>li:not(:last-child)::after {content: \"\\00b7\"; padding: 0 .5ex}\n",
       "</style>\n",
       "<ol class=list-inline><li>'98145_pilon_5343'</li><li>'185042_pilon_3632'</li><li>'257918_pilon_16155'</li><li>'487936_pilon_47'</li><li>'487936_pilon_50'</li></ol>\n"
      ],
      "text/latex": [
       "\\begin{enumerate*}\n",
       "\\item '98145\\_pilon\\_5343'\n",
       "\\item '185042\\_pilon\\_3632'\n",
       "\\item '257918\\_pilon\\_16155'\n",
       "\\item '487936\\_pilon\\_47'\n",
       "\\item '487936\\_pilon\\_50'\n",
       "\\end{enumerate*}\n"
      ],
      "text/markdown": [
       "1. '98145_pilon_5343'\n",
       "2. '185042_pilon_3632'\n",
       "3. '257918_pilon_16155'\n",
       "4. '487936_pilon_47'\n",
       "5. '487936_pilon_50'\n",
       "\n",
       "\n"
      ],
      "text/plain": [
       "[1] \"98145_pilon_5343\"   \"185042_pilon_3632\"  \"257918_pilon_16155\"\n",
       "[4] \"487936_pilon_47\"    \"487936_pilon_50\"   "
      ]
     },
     "metadata": {},
     "output_type": "display_data"
    }
   ],
   "source": [
    "intersect(outflank, bayescan)"
   ]
  },
  {
   "cell_type": "code",
   "execution_count": 7,
   "id": "86bf6580-6451-4654-a829-b9518781227e",
   "metadata": {
    "vscode": {
     "languageId": "r"
    }
   },
   "outputs": [
    {
     "data": {
      "text/html": [
       "<table class=\"dataframe\">\n",
       "<caption>A data.frame: 6 × 9</caption>\n",
       "<thead>\n",
       "\t<tr><th></th><th scope=col>LocusName</th><th scope=col>He</th><th scope=col>FST</th><th scope=col>OutlierFlag</th><th scope=col>outlier</th><th scope=col>outflank</th><th scope=col>baypass</th><th scope=col>bayescan</th><th scope=col>order</th></tr>\n",
       "\t<tr><th></th><th scope=col>&lt;chr&gt;</th><th scope=col>&lt;dbl&gt;</th><th scope=col>&lt;dbl&gt;</th><th scope=col>&lt;lgl&gt;</th><th scope=col>&lt;ord&gt;</th><th scope=col>&lt;lgl&gt;</th><th scope=col>&lt;lgl&gt;</th><th scope=col>&lt;lgl&gt;</th><th scope=col>&lt;dbl&gt;</th></tr>\n",
       "</thead>\n",
       "<tbody>\n",
       "\t<tr><th scope=row>1</th><td>232_pilon_2036 </td><td>0.04067103</td><td> 0.003074769</td><td>FALSE</td><td>neutral</td><td>FALSE</td><td>FALSE</td><td>FALSE</td><td>1</td></tr>\n",
       "\t<tr><th scope=row>2</th><td>335_pilon_972  </td><td>0.03332376</td><td> 0.015943825</td><td>FALSE</td><td>neutral</td><td>FALSE</td><td>FALSE</td><td>FALSE</td><td>1</td></tr>\n",
       "\t<tr><th scope=row>3</th><td>335_pilon_973  </td><td>0.02344729</td><td> 0.003532902</td><td>FALSE</td><td>neutral</td><td>FALSE</td><td>FALSE</td><td>FALSE</td><td>1</td></tr>\n",
       "\t<tr><th scope=row>4</th><td>341_pilon_1400 </td><td>0.07420274</td><td> 0.012091845</td><td>FALSE</td><td>neutral</td><td>FALSE</td><td>FALSE</td><td>FALSE</td><td>1</td></tr>\n",
       "\t<tr><th scope=row>5</th><td>536_pilon_3491 </td><td>0.01947863</td><td> 0.008973181</td><td>FALSE</td><td>neutral</td><td>FALSE</td><td>FALSE</td><td>FALSE</td><td>1</td></tr>\n",
       "\t<tr><th scope=row>6</th><td>794_pilon_11572</td><td>0.03760373</td><td>-0.001514511</td><td>FALSE</td><td>neutral</td><td>FALSE</td><td>FALSE</td><td>FALSE</td><td>1</td></tr>\n",
       "</tbody>\n",
       "</table>\n"
      ],
      "text/latex": [
       "A data.frame: 6 × 9\n",
       "\\begin{tabular}{r|lllllllll}\n",
       "  & LocusName & He & FST & OutlierFlag & outlier & outflank & baypass & bayescan & order\\\\\n",
       "  & <chr> & <dbl> & <dbl> & <lgl> & <ord> & <lgl> & <lgl> & <lgl> & <dbl>\\\\\n",
       "\\hline\n",
       "\t1 & 232\\_pilon\\_2036  & 0.04067103 &  0.003074769 & FALSE & neutral & FALSE & FALSE & FALSE & 1\\\\\n",
       "\t2 & 335\\_pilon\\_972   & 0.03332376 &  0.015943825 & FALSE & neutral & FALSE & FALSE & FALSE & 1\\\\\n",
       "\t3 & 335\\_pilon\\_973   & 0.02344729 &  0.003532902 & FALSE & neutral & FALSE & FALSE & FALSE & 1\\\\\n",
       "\t4 & 341\\_pilon\\_1400  & 0.07420274 &  0.012091845 & FALSE & neutral & FALSE & FALSE & FALSE & 1\\\\\n",
       "\t5 & 536\\_pilon\\_3491  & 0.01947863 &  0.008973181 & FALSE & neutral & FALSE & FALSE & FALSE & 1\\\\\n",
       "\t6 & 794\\_pilon\\_11572 & 0.03760373 & -0.001514511 & FALSE & neutral & FALSE & FALSE & FALSE & 1\\\\\n",
       "\\end{tabular}\n"
      ],
      "text/markdown": [
       "\n",
       "A data.frame: 6 × 9\n",
       "\n",
       "| <!--/--> | LocusName &lt;chr&gt; | He &lt;dbl&gt; | FST &lt;dbl&gt; | OutlierFlag &lt;lgl&gt; | outlier &lt;ord&gt; | outflank &lt;lgl&gt; | baypass &lt;lgl&gt; | bayescan &lt;lgl&gt; | order &lt;dbl&gt; |\n",
       "|---|---|---|---|---|---|---|---|---|---|\n",
       "| 1 | 232_pilon_2036  | 0.04067103 |  0.003074769 | FALSE | neutral | FALSE | FALSE | FALSE | 1 |\n",
       "| 2 | 335_pilon_972   | 0.03332376 |  0.015943825 | FALSE | neutral | FALSE | FALSE | FALSE | 1 |\n",
       "| 3 | 335_pilon_973   | 0.02344729 |  0.003532902 | FALSE | neutral | FALSE | FALSE | FALSE | 1 |\n",
       "| 4 | 341_pilon_1400  | 0.07420274 |  0.012091845 | FALSE | neutral | FALSE | FALSE | FALSE | 1 |\n",
       "| 5 | 536_pilon_3491  | 0.01947863 |  0.008973181 | FALSE | neutral | FALSE | FALSE | FALSE | 1 |\n",
       "| 6 | 794_pilon_11572 | 0.03760373 | -0.001514511 | FALSE | neutral | FALSE | FALSE | FALSE | 1 |\n",
       "\n"
      ],
      "text/plain": [
       "  LocusName       He         FST          OutlierFlag outlier outflank baypass\n",
       "1 232_pilon_2036  0.04067103  0.003074769 FALSE       neutral FALSE    FALSE  \n",
       "2 335_pilon_972   0.03332376  0.015943825 FALSE       neutral FALSE    FALSE  \n",
       "3 335_pilon_973   0.02344729  0.003532902 FALSE       neutral FALSE    FALSE  \n",
       "4 341_pilon_1400  0.07420274  0.012091845 FALSE       neutral FALSE    FALSE  \n",
       "5 536_pilon_3491  0.01947863  0.008973181 FALSE       neutral FALSE    FALSE  \n",
       "6 794_pilon_11572 0.03760373 -0.001514511 FALSE       neutral FALSE    FALSE  \n",
       "  bayescan order\n",
       "1 FALSE    1    \n",
       "2 FALSE    1    \n",
       "3 FALSE    1    \n",
       "4 FALSE    1    \n",
       "5 FALSE    1    \n",
       "6 FALSE    1    "
      ]
     },
     "metadata": {},
     "output_type": "display_data"
    }
   ],
   "source": [
    "all.fst$outlier <- \"neutral\"\n",
    "all.fst$outlier[all.fst$LocusName %in% baypass] <- \"baypass\"\n",
    "all.fst$outlier[all.fst$LocusName %in% outflank] <- \"outflank\"\n",
    "all.fst$outflank <- all.fst$outlier == \"outflank\"\n",
    "all.fst$baypass <- all.fst$outlier == \"baypass\"\n",
    "all.fst$bayescan <- all.fst$LocusName %in% bayescan\n",
    "all.fst$outlier <- ordered(all.fst$outlier, levels = c(\"neutral\", \"baypass\", \"outflank\"))\n",
    "\n",
    "all.fst %<>%\n",
    "  mutate(order = \n",
    "    case_when(\n",
    "      (outlier == \"neutral\") ~ 1,\n",
    "      (outlier == \"baypass\") ~ 2,\n",
    "      (outlier == \"outflank\") ~ 3,\n",
    "      (outlier == \"both\") ~ 4,\n",
    "    )\n",
    "  ) %>%\n",
    "  arrange(order)\n",
    "head(all.fst)"
   ]
  },
  {
   "cell_type": "code",
   "execution_count": 8,
   "id": "69b50a2b-6702-44a5-915f-2f06b3b5947a",
   "metadata": {
    "vscode": {
     "languageId": "r"
    }
   },
   "outputs": [
    {
     "data": {
      "text/html": [
       "8"
      ],
      "text/latex": [
       "8"
      ],
      "text/markdown": [
       "8"
      ],
      "text/plain": [
       "[1] 8"
      ]
     },
     "metadata": {},
     "output_type": "display_data"
    },
    {
     "data": {
      "text/html": [
       "<style>\n",
       ".list-inline {list-style: none; margin:0; padding: 0}\n",
       ".list-inline>li {display: inline-block}\n",
       ".list-inline>li:not(:last-child)::after {content: \"\\00b7\"; padding: 0 .5ex}\n",
       "</style>\n",
       "<ol class=list-inline><li>'55180_pilon_1698'</li><li>'78696_pilon_35444'</li><li>'92013_pilon_10508'</li><li>'98145_pilon_5343'</li><li>'243628_pilon_3332'</li><li>'275099_pilon_338'</li><li>'487936_pilon_47'</li><li>'487936_pilon_50'</li></ol>\n"
      ],
      "text/latex": [
       "\\begin{enumerate*}\n",
       "\\item '55180\\_pilon\\_1698'\n",
       "\\item '78696\\_pilon\\_35444'\n",
       "\\item '92013\\_pilon\\_10508'\n",
       "\\item '98145\\_pilon\\_5343'\n",
       "\\item '243628\\_pilon\\_3332'\n",
       "\\item '275099\\_pilon\\_338'\n",
       "\\item '487936\\_pilon\\_47'\n",
       "\\item '487936\\_pilon\\_50'\n",
       "\\end{enumerate*}\n"
      ],
      "text/markdown": [
       "1. '55180_pilon_1698'\n",
       "2. '78696_pilon_35444'\n",
       "3. '92013_pilon_10508'\n",
       "4. '98145_pilon_5343'\n",
       "5. '243628_pilon_3332'\n",
       "6. '275099_pilon_338'\n",
       "7. '487936_pilon_47'\n",
       "8. '487936_pilon_50'\n",
       "\n",
       "\n"
      ],
      "text/plain": [
       "[1] \"55180_pilon_1698\"  \"78696_pilon_35444\" \"92013_pilon_10508\"\n",
       "[4] \"98145_pilon_5343\"  \"243628_pilon_3332\" \"275099_pilon_338\" \n",
       "[7] \"487936_pilon_47\"   \"487936_pilon_50\"  "
      ]
     },
     "metadata": {},
     "output_type": "display_data"
    }
   ],
   "source": [
    "putatives <- all.fst %>% filter(He >= 0.1 & (outflank | baypass))\n",
    "length(putatives$LocusName)\n",
    "putatives$LocusName"
   ]
  },
  {
   "cell_type": "code",
   "execution_count": 9,
   "id": "c58f54f4",
   "metadata": {
    "vscode": {
     "languageId": "r"
    }
   },
   "outputs": [],
   "source": [
    "corrected.names <- strsplit(putatives$LocusName, \"_\")\n",
    "corr.names <- FALSE"
   ]
  },
  {
   "cell_type": "markdown",
   "id": "057dc557",
   "metadata": {},
   "source": [
    "Replacing the final underscore with a whitespace will make the locus and positions names suitable for isolation using `vcftools --exclude-positions` and `--positions`."
   ]
  },
  {
   "cell_type": "code",
   "execution_count": 10,
   "id": "da4bf71b",
   "metadata": {
    "vscode": {
     "languageId": "r"
    }
   },
   "outputs": [
    {
     "data": {
      "text/html": [
       "<style>\n",
       ".list-inline {list-style: none; margin:0; padding: 0}\n",
       ".list-inline>li {display: inline-block}\n",
       ".list-inline>li:not(:last-child)::after {content: \"\\00b7\"; padding: 0 .5ex}\n",
       "</style>\n",
       "<ol class=list-inline><li>'55180_pilon 1698'</li><li>'78696_pilon 35444'</li><li>'92013_pilon 10508'</li><li>'98145_pilon 5343'</li><li>'243628_pilon 3332'</li><li>'275099_pilon 338'</li><li>'487936_pilon 47'</li><li>'487936_pilon 50'</li></ol>\n"
      ],
      "text/latex": [
       "\\begin{enumerate*}\n",
       "\\item '55180\\_pilon 1698'\n",
       "\\item '78696\\_pilon 35444'\n",
       "\\item '92013\\_pilon 10508'\n",
       "\\item '98145\\_pilon 5343'\n",
       "\\item '243628\\_pilon 3332'\n",
       "\\item '275099\\_pilon 338'\n",
       "\\item '487936\\_pilon 47'\n",
       "\\item '487936\\_pilon 50'\n",
       "\\end{enumerate*}\n"
      ],
      "text/markdown": [
       "1. '55180_pilon 1698'\n",
       "2. '78696_pilon 35444'\n",
       "3. '92013_pilon 10508'\n",
       "4. '98145_pilon 5343'\n",
       "5. '243628_pilon 3332'\n",
       "6. '275099_pilon 338'\n",
       "7. '487936_pilon 47'\n",
       "8. '487936_pilon 50'\n",
       "\n",
       "\n"
      ],
      "text/plain": [
       "[1] \"55180_pilon 1698\"  \"78696_pilon 35444\" \"92013_pilon 10508\"\n",
       "[4] \"98145_pilon 5343\"  \"243628_pilon 3332\" \"275099_pilon 338\" \n",
       "[7] \"487936_pilon 47\"   \"487936_pilon 50\"  "
      ]
     },
     "metadata": {},
     "output_type": "display_data"
    }
   ],
   "source": [
    "for(i in 1:length(corrected.names)){\n",
    "    .string <- corrected.names[[i]]\n",
    "    strlen <- length(.string)\n",
    "    chr <- paste(.string[1:(strlen-1)], collapse = \"_\")\n",
    "    corr.names[i] <- paste(chr, .string[strlen], sep = \" \")\n",
    "}\n",
    "corr.names"
   ]
  },
  {
   "cell_type": "code",
   "execution_count": 11,
   "id": "716ac098",
   "metadata": {
    "vscode": {
     "languageId": "r"
    }
   },
   "outputs": [],
   "source": [
    "write.table(corr.names, file = \"bft.outliers\", row.names = F, col.names = F, quote = F)"
   ]
  },
  {
   "cell_type": "markdown",
   "id": "d448b11e-a8c9-4414-a7d2-7084305dfa95",
   "metadata": {},
   "source": [
    "## The plot"
   ]
  },
  {
   "cell_type": "code",
   "execution_count": 12,
   "id": "4787c5a3-84e2-4921-9603-c9fd81cd30ef",
   "metadata": {
    "vscode": {
     "languageId": "r"
    }
   },
   "outputs": [],
   "source": [
    "mycolors <- c(\"#bbbbbb\",\"#ea3c00\", \"dodgerblue\")"
   ]
  },
  {
   "cell_type": "code",
   "execution_count": 13,
   "id": "3fae63cf-52ca-4fde-b248-0eb79e7d0962",
   "metadata": {
    "vscode": {
     "languageId": "r"
    }
   },
   "outputs": [
    {
     "name": "stderr",
     "output_type": "stream",
     "text": [
      "Warning message:\n",
      "\"\u001b[1m\u001b[22mUsing `size` aesthetic for lines was deprecated in ggplot2 3.4.0.\n",
      "\u001b[36mℹ\u001b[39m Please use `linewidth` instead.\"\n"
     ]
    },
    {
     "data": {
      "image/png": "[encoded data removed]",
      "text/plain": [
       "plot without title"
      ]
     },
     "metadata": {
      "image/png": {
       "height": 600,
       "width": 1200
      }
     },
     "output_type": "display_data"
    }
   ],
   "source": [
    "all.fst %>%\n",
    "  ggplot(x = He, y = FST) +\n",
    "  geom_point(aes(x = He, y = FST, col = outlier, shape = bayescan), alpha = 0.7,  size = 4) +\n",
    "  geom_vline(xintercept = 0.1, alpha = 0.65, linetype = \"dashed\", size = 1) +\n",
    "  labs(title = \"Putative Outlier Loci\", x = \"Heterozygosity\", y = expression(\"F\"[\"ST\"]), color = \"Outlier Detection\", shape = \"Bayescan Detection\", caption = paste0(\"Detected                          \\n\",\"Baypass: \", length(baypass), \" | \", \"outFLANK: \", length(outflank), \" | \", \"Bayescan: \", length(bayescan))) +\n",
    "  scale_color_manual(values = mycolors) +\n",
    "  scale_shape_manual(values = c(19, 17)) +\n",
    "  theme_classic()"
   ]
  },
  {
   "cell_type": "code",
   "execution_count": 15,
   "id": "caeacdaf-a856-4111-9ab3-a9849ebee89d",
   "metadata": {
    "vscode": {
     "languageId": "r"
    }
   },
   "outputs": [],
   "source": [
    "ggsave(\"outliers.jpg\", height = 6, width = 12, units = \"in\", dpi = 400)"
   ]
  }
 ],
 "metadata": {
  "kernelspec": {
   "display_name": "R",
   "language": "R",
   "name": "ir"
  },
  "language_info": {
   "codemirror_mode": "r",
   "file_extension": ".r",
   "mimetype": "text/x-r-source",
   "name": "R",
   "pygments_lexer": "r",
   "version": "4.2.2"
  }
 },
 "nbformat": 4,
 "nbformat_minor": 5
}

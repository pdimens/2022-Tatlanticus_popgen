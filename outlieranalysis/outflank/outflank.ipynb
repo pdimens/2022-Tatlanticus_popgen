{
 "cells": [
  {
   "cell_type": "markdown",
   "metadata": {},
   "source": [
    "# outFLANK\n",
    "Perform outFLANK via `R::dartR`"
   ]
  },
  {
   "cell_type": "code",
   "execution_count": 2,
   "metadata": {
    "vscode": {
     "languageId": "r"
    }
   },
   "outputs": [],
   "source": [
    "library(\"dartR\")\n",
    "library(\"ggplot2\")\n",
    "library(\"dplyr\")"
   ]
  },
  {
   "cell_type": "code",
   "execution_count": 3,
   "metadata": {
    "vscode": {
     "languageId": "r"
    }
   },
   "outputs": [],
   "source": [
    "infile <- \"../../inputfiles/bft.kinless.gen\"\n",
    "pop_names <- c(\"BRZ\",\"BRZSP\",\"KEY\", \"MRT\", \"PNS\", \"PR\", \"SCA\", \"TX\", \"VZ\")\n",
    "full_dataset <- import2genind(infile, ncode = 3L, quiet = T)\n",
    "popNames(full_dataset) <- pop_names"
   ]
  },
  {
   "cell_type": "markdown",
   "metadata": {},
   "source": [
    "## Run outFLANK"
   ]
  },
  {
   "cell_type": "code",
   "execution_count": 12,
   "metadata": {
    "vscode": {
     "languageId": "r"
    }
   },
   "outputs": [
    {
     "name": "stdout",
     "output_type": "stream",
     "text": [
      "\u001b[32mCalculating FSTs, may take a few minutes...\u001b[39m\n"
     ]
    },
    {
     "data": {
      "image/png": "[encoded data removed]",
      "text/plain": [
       "Plot with title \"Fst without sample size correction\""
      ]
     },
     "metadata": {
      "image/png": {
       "height": 420,
       "width": 900
      }
     },
     "output_type": "display_data"
    }
   ],
   "source": [
    "options(repr.plot.width=15, repr.plot.height=7)\n",
    "full_outflnk <- gl.outflank(\n",
    "    full_dataset, \n",
    "    Hmin= 0.01, \n",
    "    qthreshold = 0.05, \n",
    "    LeftTrimFraction = 0.05,\n",
    "    RightTrimFraction = 0.05\n",
    ")"
   ]
  },
  {
   "cell_type": "markdown",
   "metadata": {},
   "source": [
    "## Post processing"
   ]
  },
  {
   "cell_type": "code",
   "execution_count": 13,
   "metadata": {
    "vscode": {
     "languageId": "r"
    }
   },
   "outputs": [],
   "source": [
    "full_outflnk <- full_outflnk$outflank$results"
   ]
  },
  {
   "cell_type": "markdown",
   "metadata": {},
   "source": [
    "Remove duplicated rows for each SNP"
   ]
  },
  {
   "cell_type": "code",
   "execution_count": 14,
   "metadata": {
    "vscode": {
     "languageId": "r"
    }
   },
   "outputs": [
    {
     "data": {
      "text/html": [
       "<table class=\"dataframe\">\n",
       "<caption>A data.frame: 6 × 15</caption>\n",
       "<thead>\n",
       "\t<tr><th></th><th scope=col>LocusName</th><th scope=col>He</th><th scope=col>FST</th><th scope=col>T1</th><th scope=col>T2</th><th scope=col>FSTNoCorr</th><th scope=col>T1NoCorr</th><th scope=col>T2NoCorr</th><th scope=col>meanAlleleFreq</th><th scope=col>indexOrder</th><th scope=col>GoodH</th><th scope=col>qvalues</th><th scope=col>pvalues</th><th scope=col>pvaluesRightTail</th><th scope=col>OutlierFlag</th></tr>\n",
       "\t<tr><th></th><th scope=col>&lt;chr&gt;</th><th scope=col>&lt;dbl&gt;</th><th scope=col>&lt;dbl&gt;</th><th scope=col>&lt;dbl&gt;</th><th scope=col>&lt;dbl&gt;</th><th scope=col>&lt;dbl&gt;</th><th scope=col>&lt;dbl&gt;</th><th scope=col>&lt;dbl&gt;</th><th scope=col>&lt;dbl&gt;</th><th scope=col>&lt;int&gt;</th><th scope=col>&lt;chr&gt;</th><th scope=col>&lt;dbl&gt;</th><th scope=col>&lt;dbl&gt;</th><th scope=col>&lt;dbl&gt;</th><th scope=col>&lt;lgl&gt;</th></tr>\n",
       "</thead>\n",
       "<tbody>\n",
       "\t<tr><th scope=row>2</th><td>232_pilon_2036.002 </td><td>0.04067103</td><td> 0.003074769</td><td> 6.264862e-05</td><td>0.02037507</td><td>0.01730567</td><td>0.0003526827</td><td>0.020379603</td><td>0.9792332</td><td> 2</td><td>goodH</td><td>0.9657977</td><td>0.75585948</td><td>0.37792974</td><td>FALSE</td></tr>\n",
       "\t<tr><th scope=row>4</th><td>335_pilon_972.003  </td><td>0.03332376</td><td> 0.015943825</td><td> 2.667140e-04</td><td>0.01672836</td><td>0.03389610</td><td>0.0005671991</td><td>0.016733462</td><td>0.9830508</td><td> 4</td><td>goodH</td><td>0.4492137</td><td>0.05237135</td><td>0.02618568</td><td>FALSE</td></tr>\n",
       "\t<tr><th scope=row>6</th><td>335_pilon_973.003  </td><td>0.02344729</td><td> 0.003532902</td><td> 4.152652e-05</td><td>0.01175422</td><td>0.02326294</td><td>0.0002735294</td><td>0.011758163</td><td>0.9881356</td><td> 6</td><td>goodH</td><td>0.8798950</td><td>0.32699336</td><td>0.16349668</td><td>FALSE</td></tr>\n",
       "\t<tr><th scope=row>8</th><td>341_pilon_1400.004 </td><td>0.07420274</td><td> 0.012091845</td><td> 4.501394e-04</td><td>0.03722670</td><td>0.02922048</td><td>0.0010880328</td><td>0.037235284</td><td>0.9614094</td><td> 8</td><td>goodH</td><td>0.6469499</td><td>0.12215558</td><td>0.06107779</td><td>FALSE</td></tr>\n",
       "\t<tr><th scope=row>10</th><td>536_pilon_3491.002 </td><td>0.01947863</td><td> 0.008973181</td><td> 8.762993e-05</td><td>0.00976576</td><td>0.02355731</td><td>0.0002301024</td><td>0.009767771</td><td>0.9901639</td><td>10</td><td>goodH</td><td>0.8725100</td><td>0.31240308</td><td>0.15620154</td><td>FALSE</td></tr>\n",
       "\t<tr><th scope=row>12</th><td>794_pilon_11572.001</td><td>0.03760373</td><td>-0.001514511</td><td>-2.851505e-05</td><td>0.01882789</td><td>0.01288391</td><td>0.0002426355</td><td>0.018832445</td><td>0.9808307</td><td>12</td><td>goodH</td><td>0.9657977</td><td>0.76927943</td><td>0.61536028</td><td>FALSE</td></tr>\n",
       "</tbody>\n",
       "</table>\n"
      ],
      "text/latex": [
       "A data.frame: 6 × 15\n",
       "\\begin{tabular}{r|lllllllllllllll}\n",
       "  & LocusName & He & FST & T1 & T2 & FSTNoCorr & T1NoCorr & T2NoCorr & meanAlleleFreq & indexOrder & GoodH & qvalues & pvalues & pvaluesRightTail & OutlierFlag\\\\\n",
       "  & <chr> & <dbl> & <dbl> & <dbl> & <dbl> & <dbl> & <dbl> & <dbl> & <dbl> & <int> & <chr> & <dbl> & <dbl> & <dbl> & <lgl>\\\\\n",
       "\\hline\n",
       "\t2 & 232\\_pilon\\_2036.002  & 0.04067103 &  0.003074769 &  6.264862e-05 & 0.02037507 & 0.01730567 & 0.0003526827 & 0.020379603 & 0.9792332 &  2 & goodH & 0.9657977 & 0.75585948 & 0.37792974 & FALSE\\\\\n",
       "\t4 & 335\\_pilon\\_972.003   & 0.03332376 &  0.015943825 &  2.667140e-04 & 0.01672836 & 0.03389610 & 0.0005671991 & 0.016733462 & 0.9830508 &  4 & goodH & 0.4492137 & 0.05237135 & 0.02618568 & FALSE\\\\\n",
       "\t6 & 335\\_pilon\\_973.003   & 0.02344729 &  0.003532902 &  4.152652e-05 & 0.01175422 & 0.02326294 & 0.0002735294 & 0.011758163 & 0.9881356 &  6 & goodH & 0.8798950 & 0.32699336 & 0.16349668 & FALSE\\\\\n",
       "\t8 & 341\\_pilon\\_1400.004  & 0.07420274 &  0.012091845 &  4.501394e-04 & 0.03722670 & 0.02922048 & 0.0010880328 & 0.037235284 & 0.9614094 &  8 & goodH & 0.6469499 & 0.12215558 & 0.06107779 & FALSE\\\\\n",
       "\t10 & 536\\_pilon\\_3491.002  & 0.01947863 &  0.008973181 &  8.762993e-05 & 0.00976576 & 0.02355731 & 0.0002301024 & 0.009767771 & 0.9901639 & 10 & goodH & 0.8725100 & 0.31240308 & 0.15620154 & FALSE\\\\\n",
       "\t12 & 794\\_pilon\\_11572.001 & 0.03760373 & -0.001514511 & -2.851505e-05 & 0.01882789 & 0.01288391 & 0.0002426355 & 0.018832445 & 0.9808307 & 12 & goodH & 0.9657977 & 0.76927943 & 0.61536028 & FALSE\\\\\n",
       "\\end{tabular}\n"
      ],
      "text/markdown": [
       "\n",
       "A data.frame: 6 × 15\n",
       "\n",
       "| <!--/--> | LocusName &lt;chr&gt; | He &lt;dbl&gt; | FST &lt;dbl&gt; | T1 &lt;dbl&gt; | T2 &lt;dbl&gt; | FSTNoCorr &lt;dbl&gt; | T1NoCorr &lt;dbl&gt; | T2NoCorr &lt;dbl&gt; | meanAlleleFreq &lt;dbl&gt; | indexOrder &lt;int&gt; | GoodH &lt;chr&gt; | qvalues &lt;dbl&gt; | pvalues &lt;dbl&gt; | pvaluesRightTail &lt;dbl&gt; | OutlierFlag &lt;lgl&gt; |\n",
       "|---|---|---|---|---|---|---|---|---|---|---|---|---|---|---|---|\n",
       "| 2 | 232_pilon_2036.002  | 0.04067103 |  0.003074769 |  6.264862e-05 | 0.02037507 | 0.01730567 | 0.0003526827 | 0.020379603 | 0.9792332 |  2 | goodH | 0.9657977 | 0.75585948 | 0.37792974 | FALSE |\n",
       "| 4 | 335_pilon_972.003   | 0.03332376 |  0.015943825 |  2.667140e-04 | 0.01672836 | 0.03389610 | 0.0005671991 | 0.016733462 | 0.9830508 |  4 | goodH | 0.4492137 | 0.05237135 | 0.02618568 | FALSE |\n",
       "| 6 | 335_pilon_973.003   | 0.02344729 |  0.003532902 |  4.152652e-05 | 0.01175422 | 0.02326294 | 0.0002735294 | 0.011758163 | 0.9881356 |  6 | goodH | 0.8798950 | 0.32699336 | 0.16349668 | FALSE |\n",
       "| 8 | 341_pilon_1400.004  | 0.07420274 |  0.012091845 |  4.501394e-04 | 0.03722670 | 0.02922048 | 0.0010880328 | 0.037235284 | 0.9614094 |  8 | goodH | 0.6469499 | 0.12215558 | 0.06107779 | FALSE |\n",
       "| 10 | 536_pilon_3491.002  | 0.01947863 |  0.008973181 |  8.762993e-05 | 0.00976576 | 0.02355731 | 0.0002301024 | 0.009767771 | 0.9901639 | 10 | goodH | 0.8725100 | 0.31240308 | 0.15620154 | FALSE |\n",
       "| 12 | 794_pilon_11572.001 | 0.03760373 | -0.001514511 | -2.851505e-05 | 0.01882789 | 0.01288391 | 0.0002426355 | 0.018832445 | 0.9808307 | 12 | goodH | 0.9657977 | 0.76927943 | 0.61536028 | FALSE |\n",
       "\n"
      ],
      "text/plain": [
       "   LocusName           He         FST          T1            T2        \n",
       "2  232_pilon_2036.002  0.04067103  0.003074769  6.264862e-05 0.02037507\n",
       "4  335_pilon_972.003   0.03332376  0.015943825  2.667140e-04 0.01672836\n",
       "6  335_pilon_973.003   0.02344729  0.003532902  4.152652e-05 0.01175422\n",
       "8  341_pilon_1400.004  0.07420274  0.012091845  4.501394e-04 0.03722670\n",
       "10 536_pilon_3491.002  0.01947863  0.008973181  8.762993e-05 0.00976576\n",
       "12 794_pilon_11572.001 0.03760373 -0.001514511 -2.851505e-05 0.01882789\n",
       "   FSTNoCorr  T1NoCorr     T2NoCorr    meanAlleleFreq indexOrder GoodH\n",
       "2  0.01730567 0.0003526827 0.020379603 0.9792332       2         goodH\n",
       "4  0.03389610 0.0005671991 0.016733462 0.9830508       4         goodH\n",
       "6  0.02326294 0.0002735294 0.011758163 0.9881356       6         goodH\n",
       "8  0.02922048 0.0010880328 0.037235284 0.9614094       8         goodH\n",
       "10 0.02355731 0.0002301024 0.009767771 0.9901639      10         goodH\n",
       "12 0.01288391 0.0002426355 0.018832445 0.9808307      12         goodH\n",
       "   qvalues   pvalues    pvaluesRightTail OutlierFlag\n",
       "2  0.9657977 0.75585948 0.37792974       FALSE      \n",
       "4  0.4492137 0.05237135 0.02618568       FALSE      \n",
       "6  0.8798950 0.32699336 0.16349668       FALSE      \n",
       "8  0.6469499 0.12215558 0.06107779       FALSE      \n",
       "10 0.8725100 0.31240308 0.15620154       FALSE      \n",
       "12 0.9657977 0.76927943 0.61536028       FALSE      "
      ]
     },
     "metadata": {},
     "output_type": "display_data"
    }
   ],
   "source": [
    "toRemove <- seq(1, nrow(full_outflnk), by=2)\n",
    "full_outflnk <- full_outflnk[-toRemove, ]\n",
    "head(full_outflnk)"
   ]
  },
  {
   "cell_type": "markdown",
   "metadata": {},
   "source": [
    "Find which markers are putative outliers"
   ]
  },
  {
   "cell_type": "code",
   "execution_count": 15,
   "metadata": {
    "vscode": {
     "languageId": "r"
    }
   },
   "outputs": [
    {
     "data": {
      "text/html": [
       "55"
      ],
      "text/latex": [
       "55"
      ],
      "text/markdown": [
       "55"
      ],
      "text/plain": [
       "[1] 55"
      ]
     },
     "metadata": {},
     "output_type": "display_data"
    },
    {
     "data": {
      "text/html": [
       "<style>\n",
       ".list-inline {list-style: none; margin:0; padding: 0}\n",
       ".list-inline>li {display: inline-block}\n",
       ".list-inline>li:not(:last-child)::after {content: \"\\00b7\"; padding: 0 .5ex}\n",
       "</style>\n",
       "<ol class=list-inline><li>'22845_pilon_21316'</li><li>'25280_pilon_7009'</li><li>'38948_pilon_27399'</li><li>'41950_pilon_50866'</li><li>'43953_pilon_6455'</li><li>'49150_pilon_108095'</li></ol>\n"
      ],
      "text/latex": [
       "\\begin{enumerate*}\n",
       "\\item '22845\\_pilon\\_21316'\n",
       "\\item '25280\\_pilon\\_7009'\n",
       "\\item '38948\\_pilon\\_27399'\n",
       "\\item '41950\\_pilon\\_50866'\n",
       "\\item '43953\\_pilon\\_6455'\n",
       "\\item '49150\\_pilon\\_108095'\n",
       "\\end{enumerate*}\n"
      ],
      "text/markdown": [
       "1. '22845_pilon_21316'\n",
       "2. '25280_pilon_7009'\n",
       "3. '38948_pilon_27399'\n",
       "4. '41950_pilon_50866'\n",
       "5. '43953_pilon_6455'\n",
       "6. '49150_pilon_108095'\n",
       "\n",
       "\n"
      ],
      "text/plain": [
       "[1] \"22845_pilon_21316\"  \"25280_pilon_7009\"   \"38948_pilon_27399\" \n",
       "[4] \"41950_pilon_50866\"  \"43953_pilon_6455\"   \"49150_pilon_108095\""
      ]
     },
     "metadata": {},
     "output_type": "display_data"
    }
   ],
   "source": [
    "out_index <- which(full_outflnk$OutlierFlag==TRUE)\n",
    "outflank_names <- locNames(full_dataset)[out_index]\n",
    "length(outflank_names)\n",
    "head(outflank_names)"
   ]
  },
  {
   "cell_type": "code",
   "execution_count": 16,
   "metadata": {
    "vscode": {
     "languageId": "r"
    }
   },
   "outputs": [],
   "source": [
    "write.csv(full_outflnk, file = \"outflank.csv\", row.names = FALSE)\n",
    "write.table(outflank_names, file = \"outflank.outliers.loci\", row.names = F, col.names = F, quote = F)"
   ]
  },
  {
   "cell_type": "markdown",
   "metadata": {},
   "source": [
    "## Plots"
   ]
  },
  {
   "cell_type": "code",
   "execution_count": 17,
   "metadata": {
    "vscode": {
     "languageId": "r"
    }
   },
   "outputs": [],
   "source": [
    "mycolors <- c(\"#bbbbbb\", \"#4095b5\", \"#8a556e\", \"#f4cf30\")"
   ]
  },
  {
   "cell_type": "code",
   "execution_count": 18,
   "metadata": {
    "vscode": {
     "languageId": "r"
    }
   },
   "outputs": [
    {
     "data": {
      "image/png": "[encoded data removed]",
      "text/plain": [
       "plot without title"
      ]
     },
     "metadata": {
      "image/png": {
       "height": 420,
       "width": 900
      }
     },
     "output_type": "display_data"
    }
   ],
   "source": [
    "options(repr.plot.width=15, repr.plot.height=7)\n",
    "ggplot(data = full_outflnk, x = He, y = FST) + \n",
    "  theme_classic() +\n",
    "  geom_point(aes(x = He, y = FST, col = OutlierFlag), alpha = 0.8,  size = 2.1) + \n",
    "  geom_vline(xintercept = 0.1, alpha = 0.8, linetype = \"dashed\", size = 1) +\n",
    "  labs(x = \"Heterozygosity\", y = \"FST\", color = \"Detection\") +\n",
    "  scale_color_manual(values = mycolors[1:2]) +\n",
    "  ggtitle(\"Outlier Loci\") +\n",
    "  theme(plot.title = element_text(hjust = 0.5))"
   ]
  }
 ],
 "metadata": {
  "kernelspec": {
   "display_name": "R",
   "language": "R",
   "name": "ir"
  },
  "language_info": {
   "codemirror_mode": "r",
   "file_extension": ".r",
   "mimetype": "text/x-r-source",
   "name": "R",
   "pygments_lexer": "r",
   "version": "4.1.2"
  },
  "orig_nbformat": 4,
  "vscode": {
   "interpreter": {
    "hash": "a83189ba295afdf6b5050c258701b13b47e61f07ebf9b9a57dbb20bbb86f26e0"
   }
  }
 },
 "nbformat": 4,
 "nbformat_minor": 2
}

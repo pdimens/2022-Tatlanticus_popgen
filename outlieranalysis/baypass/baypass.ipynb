{
 "cells": [
  {
   "cell_type": "markdown",
   "metadata": {},
   "source": [
    "# Process Baypass results"
   ]
  },
  {
   "cell_type": "code",
   "execution_count": 2,
   "metadata": {
    "vscode": {
     "languageId": "r"
    }
   },
   "outputs": [],
   "source": [
    "library(corrplot)\n",
    "library(ape)\n",
    "source(\"baypass_utils.R\") "
   ]
  },
  {
   "cell_type": "markdown",
   "metadata": {},
   "source": [
    "## Read in baypass results\n",
    "Baypass was used with the command\n",
    "```bash\n",
    "baypass -gfile bft.kinless.baypass -nthreads 20 -outprefix bft -nval 10000 -burnin 10000 -pilotlength 1000\n",
    "```\n",
    "Columns in the input file correspond to these populations:\n",
    "1. <- BRZ\n",
    "2. <- BRZSP\n",
    "3. <- KEY\n",
    "4. <- MRT\n",
    "5. <- PNS\n",
    "6. <- PR\n",
    "7. <- SCA\n",
    "8. <- TX\n",
    "9. <- VZ"
   ]
  },
  {
   "cell_type": "code",
   "execution_count": 3,
   "metadata": {
    "vscode": {
     "languageId": "r"
    }
   },
   "outputs": [],
   "source": [
    "bft.omega <- as.matrix(read.table(\"bft_mat_omega.out\"))"
   ]
  },
  {
   "cell_type": "code",
   "execution_count": 4,
   "metadata": {
    "vscode": {
     "languageId": "r"
    }
   },
   "outputs": [],
   "source": [
    "popnames <- c(\"BRZ\", \"BRZSP\",\"KEY\",\"MRT\",\"PNS\",\"PR\",\"SCA\",\"TX\",\"VZ\")"
   ]
  },
  {
   "cell_type": "code",
   "execution_count": 5,
   "metadata": {
    "vscode": {
     "languageId": "r"
    }
   },
   "outputs": [],
   "source": [
    "colnames(bft.omega) <- popnames\n",
    "rownames(bft.omega) <- popnames"
   ]
  },
  {
   "cell_type": "code",
   "execution_count": 6,
   "metadata": {
    "vscode": {
     "languageId": "r"
    }
   },
   "outputs": [
    {
     "data": {
      "text/html": [
       "<table class=\"dataframe\">\n",
       "<caption>A matrix: 9 × 9 of type dbl</caption>\n",
       "<thead>\n",
       "\t<tr><th></th><th scope=col>BRZ</th><th scope=col>BRZSP</th><th scope=col>KEY</th><th scope=col>MRT</th><th scope=col>PNS</th><th scope=col>PR</th><th scope=col>SCA</th><th scope=col>TX</th><th scope=col>VZ</th></tr>\n",
       "</thead>\n",
       "<tbody>\n",
       "\t<tr><th scope=row>BRZ</th><td>8.034833</td><td> 6.668424</td><td>4.422897</td><td>4.433895</td><td>4.632714</td><td>4.650255</td><td>4.384326</td><td>4.631451</td><td>4.397931</td></tr>\n",
       "\t<tr><th scope=row>BRZSP</th><td>6.668424</td><td>18.074711</td><td>4.332043</td><td>4.835845</td><td>5.640021</td><td>5.211364</td><td>4.517977</td><td>5.398521</td><td>4.476629</td></tr>\n",
       "\t<tr><th scope=row>KEY</th><td>4.422897</td><td> 4.332043</td><td>5.486393</td><td>4.597351</td><td>4.406623</td><td>4.539217</td><td>4.671755</td><td>4.283230</td><td>4.597140</td></tr>\n",
       "\t<tr><th scope=row>MRT</th><td>4.433895</td><td> 4.835845</td><td>4.597351</td><td>5.769480</td><td>4.389058</td><td>4.510463</td><td>4.509115</td><td>4.331067</td><td>4.560608</td></tr>\n",
       "\t<tr><th scope=row>PNS</th><td>4.632714</td><td> 5.640021</td><td>4.406623</td><td>4.389058</td><td>6.412844</td><td>4.373171</td><td>4.338565</td><td>4.332945</td><td>4.375305</td></tr>\n",
       "\t<tr><th scope=row>PR</th><td>4.650255</td><td> 5.211364</td><td>4.539217</td><td>4.510463</td><td>4.373171</td><td>5.991183</td><td>4.460192</td><td>4.282722</td><td>4.533212</td></tr>\n",
       "\t<tr><th scope=row>SCA</th><td>4.384326</td><td> 4.517977</td><td>4.671755</td><td>4.509115</td><td>4.338565</td><td>4.460192</td><td>5.481598</td><td>4.280554</td><td>4.599040</td></tr>\n",
       "\t<tr><th scope=row>TX</th><td>4.631451</td><td> 5.398521</td><td>4.283230</td><td>4.331067</td><td>4.332945</td><td>4.282722</td><td>4.280554</td><td>6.421002</td><td>4.283414</td></tr>\n",
       "\t<tr><th scope=row>VZ</th><td>4.397931</td><td> 4.476629</td><td>4.597140</td><td>4.560608</td><td>4.375305</td><td>4.533212</td><td>4.599040</td><td>4.283414</td><td>5.500358</td></tr>\n",
       "</tbody>\n",
       "</table>\n"
      ],
      "text/latex": [
       "A matrix: 9 × 9 of type dbl\n",
       "\\begin{tabular}{r|lllllllll}\n",
       "  & BRZ & BRZSP & KEY & MRT & PNS & PR & SCA & TX & VZ\\\\\n",
       "\\hline\n",
       "\tBRZ & 8.034833 &  6.668424 & 4.422897 & 4.433895 & 4.632714 & 4.650255 & 4.384326 & 4.631451 & 4.397931\\\\\n",
       "\tBRZSP & 6.668424 & 18.074711 & 4.332043 & 4.835845 & 5.640021 & 5.211364 & 4.517977 & 5.398521 & 4.476629\\\\\n",
       "\tKEY & 4.422897 &  4.332043 & 5.486393 & 4.597351 & 4.406623 & 4.539217 & 4.671755 & 4.283230 & 4.597140\\\\\n",
       "\tMRT & 4.433895 &  4.835845 & 4.597351 & 5.769480 & 4.389058 & 4.510463 & 4.509115 & 4.331067 & 4.560608\\\\\n",
       "\tPNS & 4.632714 &  5.640021 & 4.406623 & 4.389058 & 6.412844 & 4.373171 & 4.338565 & 4.332945 & 4.375305\\\\\n",
       "\tPR & 4.650255 &  5.211364 & 4.539217 & 4.510463 & 4.373171 & 5.991183 & 4.460192 & 4.282722 & 4.533212\\\\\n",
       "\tSCA & 4.384326 &  4.517977 & 4.671755 & 4.509115 & 4.338565 & 4.460192 & 5.481598 & 4.280554 & 4.599040\\\\\n",
       "\tTX & 4.631451 &  5.398521 & 4.283230 & 4.331067 & 4.332945 & 4.282722 & 4.280554 & 6.421002 & 4.283414\\\\\n",
       "\tVZ & 4.397931 &  4.476629 & 4.597140 & 4.560608 & 4.375305 & 4.533212 & 4.599040 & 4.283414 & 5.500358\\\\\n",
       "\\end{tabular}\n"
      ],
      "text/markdown": [
       "\n",
       "A matrix: 9 × 9 of type dbl\n",
       "\n",
       "| <!--/--> | BRZ | BRZSP | KEY | MRT | PNS | PR | SCA | TX | VZ |\n",
       "|---|---|---|---|---|---|---|---|---|---|\n",
       "| BRZ | 8.034833 |  6.668424 | 4.422897 | 4.433895 | 4.632714 | 4.650255 | 4.384326 | 4.631451 | 4.397931 |\n",
       "| BRZSP | 6.668424 | 18.074711 | 4.332043 | 4.835845 | 5.640021 | 5.211364 | 4.517977 | 5.398521 | 4.476629 |\n",
       "| KEY | 4.422897 |  4.332043 | 5.486393 | 4.597351 | 4.406623 | 4.539217 | 4.671755 | 4.283230 | 4.597140 |\n",
       "| MRT | 4.433895 |  4.835845 | 4.597351 | 5.769480 | 4.389058 | 4.510463 | 4.509115 | 4.331067 | 4.560608 |\n",
       "| PNS | 4.632714 |  5.640021 | 4.406623 | 4.389058 | 6.412844 | 4.373171 | 4.338565 | 4.332945 | 4.375305 |\n",
       "| PR | 4.650255 |  5.211364 | 4.539217 | 4.510463 | 4.373171 | 5.991183 | 4.460192 | 4.282722 | 4.533212 |\n",
       "| SCA | 4.384326 |  4.517977 | 4.671755 | 4.509115 | 4.338565 | 4.460192 | 5.481598 | 4.280554 | 4.599040 |\n",
       "| TX | 4.631451 |  5.398521 | 4.283230 | 4.331067 | 4.332945 | 4.282722 | 4.280554 | 6.421002 | 4.283414 |\n",
       "| VZ | 4.397931 |  4.476629 | 4.597140 | 4.560608 | 4.375305 | 4.533212 | 4.599040 | 4.283414 | 5.500358 |\n",
       "\n"
      ],
      "text/plain": [
       "      BRZ      BRZSP     KEY      MRT      PNS      PR       SCA      TX      \n",
       "BRZ   8.034833  6.668424 4.422897 4.433895 4.632714 4.650255 4.384326 4.631451\n",
       "BRZSP 6.668424 18.074711 4.332043 4.835845 5.640021 5.211364 4.517977 5.398521\n",
       "KEY   4.422897  4.332043 5.486393 4.597351 4.406623 4.539217 4.671755 4.283230\n",
       "MRT   4.433895  4.835845 4.597351 5.769480 4.389058 4.510463 4.509115 4.331067\n",
       "PNS   4.632714  5.640021 4.406623 4.389058 6.412844 4.373171 4.338565 4.332945\n",
       "PR    4.650255  5.211364 4.539217 4.510463 4.373171 5.991183 4.460192 4.282722\n",
       "SCA   4.384326  4.517977 4.671755 4.509115 4.338565 4.460192 5.481598 4.280554\n",
       "TX    4.631451  5.398521 4.283230 4.331067 4.332945 4.282722 4.280554 6.421002\n",
       "VZ    4.397931  4.476629 4.597140 4.560608 4.375305 4.533212 4.599040 4.283414\n",
       "      VZ      \n",
       "BRZ   4.397931\n",
       "BRZSP 4.476629\n",
       "KEY   4.597140\n",
       "MRT   4.560608\n",
       "PNS   4.375305\n",
       "PR    4.533212\n",
       "SCA   4.599040\n",
       "TX    4.283414\n",
       "VZ    5.500358"
      ]
     },
     "metadata": {},
     "output_type": "display_data"
    }
   ],
   "source": [
    "bft.omega"
   ]
  },
  {
   "cell_type": "markdown",
   "metadata": {},
   "source": [
    "Identify pool names for, plotting"
   ]
  },
  {
   "cell_type": "markdown",
   "metadata": {},
   "source": [
    "Create a correlation matrix of the omega values, which can be used to assess genomic differentiation between pools"
   ]
  },
  {
   "cell_type": "code",
   "execution_count": 7,
   "metadata": {
    "vscode": {
     "languageId": "r"
    }
   },
   "outputs": [
    {
     "data": {
      "image/png": "[encoded data removed]",
      "text/plain": [
       "Plot with title \"\"Correlation map based on\" ~ hat(Omega)\""
      ]
     },
     "metadata": {
      "image/png": {
       "height": 420,
       "width": 420
      }
     },
     "output_type": "display_data"
    }
   ],
   "source": [
    "cor.mat <- cov2cor(bft.omega)\n",
    "corrplot(\n",
    "  cor.mat,method=\"color\",mar=c(2,1,2,2)+0.1,\n",
    "  main=expression(\"Correlation map based on\"~hat(Omega))\n",
    ")"
   ]
  },
  {
   "cell_type": "markdown",
   "metadata": {},
   "source": [
    "Plot as hierarchical tree"
   ]
  },
  {
   "cell_type": "code",
   "execution_count": 8,
   "metadata": {
    "vscode": {
     "languageId": "r"
    }
   },
   "outputs": [
    {
     "data": {
      "image/png": "[encoded data removed]",
      "text/plain": [
       "Plot with title \"\"Hier. clust. tree based on\" ~ hat(Omega) ~ \"(\" * d[ij] * \"=1-\" * rho[ij] * \")\"\""
      ]
     },
     "metadata": {
      "image/png": {
       "height": 420,
       "width": 420
      }
     },
     "output_type": "display_data"
    }
   ],
   "source": [
    "bft.tree <- as.phylo(hclust(as.dist(1-cor.mat**2)))\n",
    "plot(\n",
    "  bft.tree,type=\"p\",\n",
    "  main=expression(\"Hier. clust. tree based on\"~hat(Omega)~\"(\"*d[ij]*\"=1-\"*rho[ij]*\")\")\n",
    ")"
   ]
  },
  {
   "cell_type": "markdown",
   "metadata": {},
   "source": [
    "Read the xtx BayPass output"
   ]
  },
  {
   "cell_type": "code",
   "execution_count": 9,
   "metadata": {
    "vscode": {
     "languageId": "r"
    }
   },
   "outputs": [],
   "source": [
    "snp.res <- read.table(\"bft_summary_pi_xtx.out\", h=T)"
   ]
  },
  {
   "cell_type": "markdown",
   "metadata": {},
   "source": [
    "Get the Pi Beta distribution for POD generation"
   ]
  },
  {
   "cell_type": "code",
   "execution_count": 10,
   "metadata": {
    "vscode": {
     "languageId": "r"
    }
   },
   "outputs": [],
   "source": [
    "pi.beta.coef <- read.table(\"bft_summary_beta_params.out\", h=T)$Mean"
   ]
  },
  {
   "cell_type": "markdown",
   "metadata": {},
   "source": [
    "Upload original data to get read counts"
   ]
  },
  {
   "cell_type": "code",
   "execution_count": 11,
   "metadata": {
    "vscode": {
     "languageId": "r"
    }
   },
   "outputs": [],
   "source": [
    "bft.data <- geno2YN(\"../../inputfiles/bft.kinless.baypass\")"
   ]
  },
  {
   "cell_type": "markdown",
   "metadata": {},
   "source": [
    "## Simulations"
   ]
  },
  {
   "cell_type": "code",
   "execution_count": 14,
   "metadata": {
    "vscode": {
     "languageId": "r"
    }
   },
   "outputs": [
    {
     "name": "stdout",
     "output_type": "stream",
     "text": [
      "1000 SNP simulated out of 10000 \n",
      "2000 SNP simulated out of 10000 \n",
      "3000 SNP simulated out of 10000 \n",
      "4000 SNP simulated out of 10000 \n",
      "5000 SNP simulated out of 10000 \n",
      "6000 SNP simulated out of 10000 \n",
      "7000 SNP simulated out of 10000 \n",
      "8000 SNP simulated out of 10000 \n",
      "9000 SNP simulated out of 10000 \n",
      "10000 SNP simulated out of 10000 \n"
     ]
    }
   ],
   "source": [
    "bft.sims <- simulate.baypass(\n",
    "  omega.mat=bft.omega,nsnp=10000,sample.size=bft.data$NN,\n",
    "  beta.pi=pi.beta.coef,pi.maf=0,suffix=\"bft.simulations.baypass\"\n",
    ")"
   ]
  },
  {
   "cell_type": "markdown",
   "metadata": {},
   "source": [
    "After using Baypass again on `bft.BP.sim`, import the results here\n",
    "Simulations were analyzed with the command\n",
    "```bash\n",
    "baypass -gfile G.bft.simulations.baypass -nthreads 20 -outprefix bft.sim -nval 10000 -burnin 10000 -pilotlength 1000\n",
    "```"
   ]
  },
  {
   "cell_type": "markdown",
   "metadata": {},
   "source": [
    "Read the new omega matrix and compare to original"
   ]
  },
  {
   "cell_type": "code",
   "execution_count": 12,
   "metadata": {
    "vscode": {
     "languageId": "r"
    }
   },
   "outputs": [
    {
     "data": {
      "image/png": "[encoded data removed]",
      "text/plain": [
       "plot without title"
      ]
     },
     "metadata": {
      "image/png": {
       "height": 420,
       "width": 420
      }
     },
     "output_type": "display_data"
    }
   ],
   "source": [
    "pod.omega <- as.matrix(read.table(\"bft.sim_mat_omega.out\"))\n",
    "plot(pod.omega,bft.omega)\n",
    "abline(a=0,b=1)"
   ]
  },
  {
   "cell_type": "markdown",
   "metadata": {},
   "source": [
    "Get the Forstner and Moonen Distance (FMD) between simulated and original posterior estimates\n",
    "- a smaller value is better"
   ]
  },
  {
   "cell_type": "code",
   "execution_count": 14,
   "metadata": {
    "vscode": {
     "languageId": "r"
    }
   },
   "outputs": [
    {
     "data": {
      "text/html": [
       "0.726512498853818"
      ],
      "text/latex": [
       "0.726512498853818"
      ],
      "text/markdown": [
       "0.726512498853818"
      ],
      "text/plain": [
       "[1] 0.7265125"
      ]
     },
     "metadata": {},
     "output_type": "display_data"
    }
   ],
   "source": [
    "fmd.dist(pod.omega,bft.omega)"
   ]
  },
  {
   "cell_type": "markdown",
   "metadata": {},
   "source": [
    "Look at POD xtx values, and identify SNPs where the xtx values are above the 99% significance threshold from the POD\n",
    "- loci above the line are outliers"
   ]
  },
  {
   "cell_type": "code",
   "execution_count": 15,
   "metadata": {
    "vscode": {
     "languageId": "r"
    }
   },
   "outputs": [
    {
     "data": {
      "image/png": "[encoded data removed]",
      "text/plain": [
       "plot without title"
      ]
     },
     "metadata": {
      "image/png": {
       "height": 420,
       "width": 420
      }
     },
     "output_type": "display_data"
    }
   ],
   "source": [
    "pod.xtx <- read.table(\"bft.sim_summary_pi_xtx.out\",h=T)$M_XtX\n",
    "pod.thresh <- quantile(pod.xtx,probs=0.99)\n",
    "plot(snp.res$M_XtX)\n",
    "abline(h=pod.thresh,lty=2)"
   ]
  },
  {
   "cell_type": "markdown",
   "metadata": {},
   "source": [
    "SNPs with an xtx value >`pod.thresh` are identified as outliers"
   ]
  },
  {
   "cell_type": "code",
   "execution_count": 16,
   "metadata": {
    "vscode": {
     "languageId": "r"
    }
   },
   "outputs": [
    {
     "data": {
      "text/html": [
       "<table class=\"dataframe\">\n",
       "<caption>A data.frame: 6 × 3</caption>\n",
       "<thead>\n",
       "\t<tr><th></th><th scope=col>snp_idx</th><th scope=col>M_XtX</th><th scope=col>outlier</th></tr>\n",
       "\t<tr><th></th><th scope=col>&lt;int&gt;</th><th scope=col>&lt;dbl&gt;</th><th scope=col>&lt;lgl&gt;</th></tr>\n",
       "</thead>\n",
       "<tbody>\n",
       "\t<tr><th scope=row>1</th><td>1</td><td> 8.769179</td><td>FALSE</td></tr>\n",
       "\t<tr><th scope=row>2</th><td>2</td><td> 8.272343</td><td>FALSE</td></tr>\n",
       "\t<tr><th scope=row>3</th><td>3</td><td> 8.195171</td><td>FALSE</td></tr>\n",
       "\t<tr><th scope=row>4</th><td>4</td><td> 8.030870</td><td>FALSE</td></tr>\n",
       "\t<tr><th scope=row>5</th><td>5</td><td>13.976006</td><td>FALSE</td></tr>\n",
       "\t<tr><th scope=row>6</th><td>6</td><td> 8.280467</td><td>FALSE</td></tr>\n",
       "</tbody>\n",
       "</table>\n"
      ],
      "text/latex": [
       "A data.frame: 6 × 3\n",
       "\\begin{tabular}{r|lll}\n",
       "  & snp\\_idx & M\\_XtX & outlier\\\\\n",
       "  & <int> & <dbl> & <lgl>\\\\\n",
       "\\hline\n",
       "\t1 & 1 &  8.769179 & FALSE\\\\\n",
       "\t2 & 2 &  8.272343 & FALSE\\\\\n",
       "\t3 & 3 &  8.195171 & FALSE\\\\\n",
       "\t4 & 4 &  8.030870 & FALSE\\\\\n",
       "\t5 & 5 & 13.976006 & FALSE\\\\\n",
       "\t6 & 6 &  8.280467 & FALSE\\\\\n",
       "\\end{tabular}\n"
      ],
      "text/markdown": [
       "\n",
       "A data.frame: 6 × 3\n",
       "\n",
       "| <!--/--> | snp_idx &lt;int&gt; | M_XtX &lt;dbl&gt; | outlier &lt;lgl&gt; |\n",
       "|---|---|---|---|\n",
       "| 1 | 1 |  8.769179 | FALSE |\n",
       "| 2 | 2 |  8.272343 | FALSE |\n",
       "| 3 | 3 |  8.195171 | FALSE |\n",
       "| 4 | 4 |  8.030870 | FALSE |\n",
       "| 5 | 5 | 13.976006 | FALSE |\n",
       "| 6 | 6 |  8.280467 | FALSE |\n",
       "\n"
      ],
      "text/plain": [
       "  snp_idx M_XtX     outlier\n",
       "1 1        8.769179 FALSE  \n",
       "2 2        8.272343 FALSE  \n",
       "3 3        8.195171 FALSE  \n",
       "4 4        8.030870 FALSE  \n",
       "5 5       13.976006 FALSE  \n",
       "6 6        8.280467 FALSE  "
      ]
     },
     "metadata": {},
     "output_type": "display_data"
    }
   ],
   "source": [
    "snp.scores <- data.frame(snp_idx = 1:nrow(snp.res), M_XtX = snp.res$M_XtX, outlier = snp.res$M_XtX > pod.thresh)\n",
    "head(snp.scores)"
   ]
  },
  {
   "cell_type": "code",
   "execution_count": 17,
   "metadata": {
    "vscode": {
     "languageId": "r"
    }
   },
   "outputs": [
    {
     "data": {
      "text/html": [
       "<style>\n",
       ".list-inline {list-style: none; margin:0; padding: 0}\n",
       ".list-inline>li {display: inline-block}\n",
       ".list-inline>li:not(:last-child)::after {content: \"\\00b7\"; padding: 0 .5ex}\n",
       "</style>\n",
       "<ol class=list-inline><li>'2508_pilon_1_6228'</li><li>'9784_pilon_16209'</li><li>'11109_pilon_0_9627'</li><li>'11596_pilon_17128'</li><li>'17843_pilon_14110'</li><li>'20575_pilon_706'</li><li>'27601_pilon_14553'</li><li>'29247_pilon_14539'</li><li>'37918_pilon_5372'</li><li>'38343_pilon_14739'</li><li>'43918_pilon_1316'</li><li>'48400_pilon_59645'</li><li>'56421_pilon_22802'</li><li>'70479_pilon_15101'</li><li>'73752_pilon_1_3577'</li><li>'87933_pilon_1351'</li><li>'91228_pilon_1890'</li><li>'94230_pilon_23398'</li><li>'96091_pilon_11444'</li><li>'102827_pilon_7466'</li><li>'102983_pilon_1123'</li><li>'107942_pilon_7235'</li><li>'108821_pilon_4384'</li><li>'119475_pilon_1_7526'</li><li>'120504_pilon_6192'</li><li>'121264_pilon_6161'</li><li>'123135_pilon_1053'</li><li>'133274_pilon_8334'</li><li>'145033_pilon_1775'</li><li>'146594_pilon_1_109'</li><li>'146645_pilon_6987'</li><li>'149306_pilon_308'</li><li>'149609_pilon_959'</li><li>'153020_pilon_349'</li><li>'153512_pilon_132'</li><li>'161105_pilon_7928'</li><li>'161620_pilon_735'</li><li>'188085_pilon_0_1520'</li><li>'194147_pilon_13602'</li><li>'198417_pilon_2344'</li><li>'204938_pilon_220'</li><li>'220975_pilon_2925'</li><li>'221767_pilon_1584'</li><li>'225438_pilon_12554'</li><li>'231377_pilon_4938'</li><li>'239201_pilon_920'</li><li>'242520_pilon_3777'</li><li>'247315_pilon_7544'</li><li>'249802_pilon_1496'</li><li>'260302_pilon_2507'</li><li>'266121_pilon_8402'</li><li>'271143_pilon_2991'</li><li>'271143_pilon_2996'</li><li>'271146_pilon_5418'</li><li>'274372_pilon_1158'</li><li>'276330_pilon_1836'</li><li>'289075_pilon_3166'</li><li>'293334_pilon_3311'</li></ol>\n"
      ],
      "text/latex": [
       "\\begin{enumerate*}\n",
       "\\item '2508\\_pilon\\_1\\_6228'\n",
       "\\item '9784\\_pilon\\_16209'\n",
       "\\item '11109\\_pilon\\_0\\_9627'\n",
       "\\item '11596\\_pilon\\_17128'\n",
       "\\item '17843\\_pilon\\_14110'\n",
       "\\item '20575\\_pilon\\_706'\n",
       "\\item '27601\\_pilon\\_14553'\n",
       "\\item '29247\\_pilon\\_14539'\n",
       "\\item '37918\\_pilon\\_5372'\n",
       "\\item '38343\\_pilon\\_14739'\n",
       "\\item '43918\\_pilon\\_1316'\n",
       "\\item '48400\\_pilon\\_59645'\n",
       "\\item '56421\\_pilon\\_22802'\n",
       "\\item '70479\\_pilon\\_15101'\n",
       "\\item '73752\\_pilon\\_1\\_3577'\n",
       "\\item '87933\\_pilon\\_1351'\n",
       "\\item '91228\\_pilon\\_1890'\n",
       "\\item '94230\\_pilon\\_23398'\n",
       "\\item '96091\\_pilon\\_11444'\n",
       "\\item '102827\\_pilon\\_7466'\n",
       "\\item '102983\\_pilon\\_1123'\n",
       "\\item '107942\\_pilon\\_7235'\n",
       "\\item '108821\\_pilon\\_4384'\n",
       "\\item '119475\\_pilon\\_1\\_7526'\n",
       "\\item '120504\\_pilon\\_6192'\n",
       "\\item '121264\\_pilon\\_6161'\n",
       "\\item '123135\\_pilon\\_1053'\n",
       "\\item '133274\\_pilon\\_8334'\n",
       "\\item '145033\\_pilon\\_1775'\n",
       "\\item '146594\\_pilon\\_1\\_109'\n",
       "\\item '146645\\_pilon\\_6987'\n",
       "\\item '149306\\_pilon\\_308'\n",
       "\\item '149609\\_pilon\\_959'\n",
       "\\item '153020\\_pilon\\_349'\n",
       "\\item '153512\\_pilon\\_132'\n",
       "\\item '161105\\_pilon\\_7928'\n",
       "\\item '161620\\_pilon\\_735'\n",
       "\\item '188085\\_pilon\\_0\\_1520'\n",
       "\\item '194147\\_pilon\\_13602'\n",
       "\\item '198417\\_pilon\\_2344'\n",
       "\\item '204938\\_pilon\\_220'\n",
       "\\item '220975\\_pilon\\_2925'\n",
       "\\item '221767\\_pilon\\_1584'\n",
       "\\item '225438\\_pilon\\_12554'\n",
       "\\item '231377\\_pilon\\_4938'\n",
       "\\item '239201\\_pilon\\_920'\n",
       "\\item '242520\\_pilon\\_3777'\n",
       "\\item '247315\\_pilon\\_7544'\n",
       "\\item '249802\\_pilon\\_1496'\n",
       "\\item '260302\\_pilon\\_2507'\n",
       "\\item '266121\\_pilon\\_8402'\n",
       "\\item '271143\\_pilon\\_2991'\n",
       "\\item '271143\\_pilon\\_2996'\n",
       "\\item '271146\\_pilon\\_5418'\n",
       "\\item '274372\\_pilon\\_1158'\n",
       "\\item '276330\\_pilon\\_1836'\n",
       "\\item '289075\\_pilon\\_3166'\n",
       "\\item '293334\\_pilon\\_3311'\n",
       "\\end{enumerate*}\n"
      ],
      "text/markdown": [
       "1. '2508_pilon_1_6228'\n",
       "2. '9784_pilon_16209'\n",
       "3. '11109_pilon_0_9627'\n",
       "4. '11596_pilon_17128'\n",
       "5. '17843_pilon_14110'\n",
       "6. '20575_pilon_706'\n",
       "7. '27601_pilon_14553'\n",
       "8. '29247_pilon_14539'\n",
       "9. '37918_pilon_5372'\n",
       "10. '38343_pilon_14739'\n",
       "11. '43918_pilon_1316'\n",
       "12. '48400_pilon_59645'\n",
       "13. '56421_pilon_22802'\n",
       "14. '70479_pilon_15101'\n",
       "15. '73752_pilon_1_3577'\n",
       "16. '87933_pilon_1351'\n",
       "17. '91228_pilon_1890'\n",
       "18. '94230_pilon_23398'\n",
       "19. '96091_pilon_11444'\n",
       "20. '102827_pilon_7466'\n",
       "21. '102983_pilon_1123'\n",
       "22. '107942_pilon_7235'\n",
       "23. '108821_pilon_4384'\n",
       "24. '119475_pilon_1_7526'\n",
       "25. '120504_pilon_6192'\n",
       "26. '121264_pilon_6161'\n",
       "27. '123135_pilon_1053'\n",
       "28. '133274_pilon_8334'\n",
       "29. '145033_pilon_1775'\n",
       "30. '146594_pilon_1_109'\n",
       "31. '146645_pilon_6987'\n",
       "32. '149306_pilon_308'\n",
       "33. '149609_pilon_959'\n",
       "34. '153020_pilon_349'\n",
       "35. '153512_pilon_132'\n",
       "36. '161105_pilon_7928'\n",
       "37. '161620_pilon_735'\n",
       "38. '188085_pilon_0_1520'\n",
       "39. '194147_pilon_13602'\n",
       "40. '198417_pilon_2344'\n",
       "41. '204938_pilon_220'\n",
       "42. '220975_pilon_2925'\n",
       "43. '221767_pilon_1584'\n",
       "44. '225438_pilon_12554'\n",
       "45. '231377_pilon_4938'\n",
       "46. '239201_pilon_920'\n",
       "47. '242520_pilon_3777'\n",
       "48. '247315_pilon_7544'\n",
       "49. '249802_pilon_1496'\n",
       "50. '260302_pilon_2507'\n",
       "51. '266121_pilon_8402'\n",
       "52. '271143_pilon_2991'\n",
       "53. '271143_pilon_2996'\n",
       "54. '271146_pilon_5418'\n",
       "55. '274372_pilon_1158'\n",
       "56. '276330_pilon_1836'\n",
       "57. '289075_pilon_3166'\n",
       "58. '293334_pilon_3311'\n",
       "\n",
       "\n"
      ],
      "text/plain": [
       " [1] \"2508_pilon_1_6228\"   \"9784_pilon_16209\"    \"11109_pilon_0_9627\" \n",
       " [4] \"11596_pilon_17128\"   \"17843_pilon_14110\"   \"20575_pilon_706\"    \n",
       " [7] \"27601_pilon_14553\"   \"29247_pilon_14539\"   \"37918_pilon_5372\"   \n",
       "[10] \"38343_pilon_14739\"   \"43918_pilon_1316\"    \"48400_pilon_59645\"  \n",
       "[13] \"56421_pilon_22802\"   \"70479_pilon_15101\"   \"73752_pilon_1_3577\" \n",
       "[16] \"87933_pilon_1351\"    \"91228_pilon_1890\"    \"94230_pilon_23398\"  \n",
       "[19] \"96091_pilon_11444\"   \"102827_pilon_7466\"   \"102983_pilon_1123\"  \n",
       "[22] \"107942_pilon_7235\"   \"108821_pilon_4384\"   \"119475_pilon_1_7526\"\n",
       "[25] \"120504_pilon_6192\"   \"121264_pilon_6161\"   \"123135_pilon_1053\"  \n",
       "[28] \"133274_pilon_8334\"   \"145033_pilon_1775\"   \"146594_pilon_1_109\" \n",
       "[31] \"146645_pilon_6987\"   \"149306_pilon_308\"    \"149609_pilon_959\"   \n",
       "[34] \"153020_pilon_349\"    \"153512_pilon_132\"    \"161105_pilon_7928\"  \n",
       "[37] \"161620_pilon_735\"    \"188085_pilon_0_1520\" \"194147_pilon_13602\" \n",
       "[40] \"198417_pilon_2344\"   \"204938_pilon_220\"    \"220975_pilon_2925\"  \n",
       "[43] \"221767_pilon_1584\"   \"225438_pilon_12554\"  \"231377_pilon_4938\"  \n",
       "[46] \"239201_pilon_920\"    \"242520_pilon_3777\"   \"247315_pilon_7544\"  \n",
       "[49] \"249802_pilon_1496\"   \"260302_pilon_2507\"   \"266121_pilon_8402\"  \n",
       "[52] \"271143_pilon_2991\"   \"271143_pilon_2996\"   \"271146_pilon_5418\"  \n",
       "[55] \"274372_pilon_1158\"   \"276330_pilon_1836\"   \"289075_pilon_3166\"  \n",
       "[58] \"293334_pilon_3311\"  "
      ]
     },
     "metadata": {},
     "output_type": "display_data"
    },
    {
     "data": {
      "text/html": [
       "58"
      ],
      "text/latex": [
       "58"
      ],
      "text/markdown": [
       "58"
      ],
      "text/plain": [
       "[1] 58"
      ]
     },
     "metadata": {},
     "output_type": "display_data"
    }
   ],
   "source": [
    "outliers <- snp.scores[snp.scores$outlier,1]\n",
    "snp.names <- readLines(\"../../inputfiles/snp.names\")\n",
    "outlier.snps <- snp.names[outliers]\n",
    "outlier.snps\n",
    "length(outlier.snps)"
   ]
  },
  {
   "cell_type": "code",
   "execution_count": 18,
   "metadata": {
    "vscode": {
     "languageId": "r"
    }
   },
   "outputs": [],
   "source": [
    "write.table(outlier.snps, file = \"baypass.outliers.loci\",row.names = F, col.names = F, quote = F)"
   ]
  }
 ],
 "metadata": {
  "kernelspec": {
   "display_name": "R",
   "language": "R",
   "name": "ir"
  },
  "language_info": {
   "codemirror_mode": "r",
   "file_extension": ".r",
   "mimetype": "text/x-r-source",
   "name": "R",
   "pygments_lexer": "r",
   "version": "4.1.2"
  },
  "orig_nbformat": 4
 },
 "nbformat": 4,
 "nbformat_minor": 2
}

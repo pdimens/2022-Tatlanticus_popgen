{
 "cells": [
  {
   "cell_type": "markdown",
   "metadata": {},
   "source": [
    "# Analysis of Molecular Variance"
   ]
  },
  {
   "cell_type": "code",
   "execution_count": 2,
   "metadata": {
    "vscode": {
     "languageId": "r"
    }
   },
   "outputs": [],
   "source": [
    "library(adegenet)\n",
    "library(poppr)"
   ]
  },
  {
   "cell_type": "code",
   "execution_count": 9,
   "metadata": {
    "vscode": {
     "languageId": "r"
    }
   },
   "outputs": [],
   "source": [
    "infile <- \"../inputfiles/bft.kinrm.gen\"\n",
    "bft <- read.genepop(infile, ncode = 3L, quiet = T)\n",
    "metadata <- read.csv(\"../inputfiles/bft.kinrm.strata\", sep = \",\", header = T)\n",
    "names(metadata) <- c(\"name\", \"year\",\"ignore1\", \"ignore2\",\"region\",\"locality\")"
   ]
  },
  {
   "cell_type": "markdown",
   "metadata": {},
   "source": [
    "Add the proper strata into the `@other` slot in the Genind"
   ]
  },
  {
   "cell_type": "code",
   "execution_count": 11,
   "metadata": {
    "vscode": {
     "languageId": "r"
    }
   },
   "outputs": [
    {
     "data": {
      "text/html": [
       "<table class=\"dataframe\">\n",
       "<caption>A data.frame: 6 × 4</caption>\n",
       "<thead>\n",
       "\t<tr><th></th><th scope=col>name</th><th scope=col>year</th><th scope=col>region</th><th scope=col>locality</th></tr>\n",
       "\t<tr><th></th><th scope=col>&lt;fct&gt;</th><th scope=col>&lt;fct&gt;</th><th scope=col>&lt;fct&gt;</th><th scope=col>&lt;fct&gt;</th></tr>\n",
       "</thead>\n",
       "<tbody>\n",
       "\t<tr><th scope=row>1</th><td>BRZ_1261</td><td>2016</td><td>BRZ</td><td>BRZ</td></tr>\n",
       "\t<tr><th scope=row>2</th><td>BRZ_1269</td><td>2016</td><td>BRZ</td><td>BRZ</td></tr>\n",
       "\t<tr><th scope=row>3</th><td>BRZ_1270</td><td>2016</td><td>BRZ</td><td>BRZ</td></tr>\n",
       "\t<tr><th scope=row>4</th><td>BRZ_1271</td><td>2016</td><td>BRZ</td><td>BRZ</td></tr>\n",
       "\t<tr><th scope=row>5</th><td>BRZ_1275</td><td>2016</td><td>BRZ</td><td>BRZ</td></tr>\n",
       "\t<tr><th scope=row>6</th><td>BRZ_1276</td><td>2016</td><td>BRZ</td><td>BRZ</td></tr>\n",
       "</tbody>\n",
       "</table>\n"
      ],
      "text/latex": [
       "A data.frame: 6 × 4\n",
       "\\begin{tabular}{r|llll}\n",
       "  & name & year & region & locality\\\\\n",
       "  & <fct> & <fct> & <fct> & <fct>\\\\\n",
       "\\hline\n",
       "\t1 & BRZ\\_1261 & 2016 & BRZ & BRZ\\\\\n",
       "\t2 & BRZ\\_1269 & 2016 & BRZ & BRZ\\\\\n",
       "\t3 & BRZ\\_1270 & 2016 & BRZ & BRZ\\\\\n",
       "\t4 & BRZ\\_1271 & 2016 & BRZ & BRZ\\\\\n",
       "\t5 & BRZ\\_1275 & 2016 & BRZ & BRZ\\\\\n",
       "\t6 & BRZ\\_1276 & 2016 & BRZ & BRZ\\\\\n",
       "\\end{tabular}\n"
      ],
      "text/markdown": [
       "\n",
       "A data.frame: 6 × 4\n",
       "\n",
       "| <!--/--> | name &lt;fct&gt; | year &lt;fct&gt; | region &lt;fct&gt; | locality &lt;fct&gt; |\n",
       "|---|---|---|---|---|\n",
       "| 1 | BRZ_1261 | 2016 | BRZ | BRZ |\n",
       "| 2 | BRZ_1269 | 2016 | BRZ | BRZ |\n",
       "| 3 | BRZ_1270 | 2016 | BRZ | BRZ |\n",
       "| 4 | BRZ_1271 | 2016 | BRZ | BRZ |\n",
       "| 5 | BRZ_1275 | 2016 | BRZ | BRZ |\n",
       "| 6 | BRZ_1276 | 2016 | BRZ | BRZ |\n",
       "\n"
      ],
      "text/plain": [
       "  name     year region locality\n",
       "1 BRZ_1261 2016 BRZ    BRZ     \n",
       "2 BRZ_1269 2016 BRZ    BRZ     \n",
       "3 BRZ_1270 2016 BRZ    BRZ     \n",
       "4 BRZ_1271 2016 BRZ    BRZ     \n",
       "5 BRZ_1275 2016 BRZ    BRZ     \n",
       "6 BRZ_1276 2016 BRZ    BRZ     "
      ]
     },
     "metadata": {},
     "output_type": "display_data"
    }
   ],
   "source": [
    "strata(bft) <- metadata[,c(-3, -4)]\n",
    "head(strata(bft))"
   ]
  },
  {
   "cell_type": "markdown",
   "metadata": {},
   "source": [
    "## Generate genetic distances"
   ]
  },
  {
   "cell_type": "code",
   "execution_count": 12,
   "metadata": {
    "vscode": {
     "languageId": "r"
    }
   },
   "outputs": [
    {
     "data": {
      "text/html": [
       "<style>\n",
       ".list-inline {list-style: none; margin:0; padding: 0}\n",
       ".list-inline>li {display: inline-block}\n",
       ".list-inline>li:not(:last-child)::after {content: \"\\00b7\"; padding: 0 .5ex}\n",
       "</style>\n",
       "<ol class=list-inline><li>22.5530432721855</li><li>20.6938637526368</li><li>21.7626837407729</li><li>23.5500423832553</li><li>23.5233268653233</li><li>22.6005953773924</li></ol>\n"
      ],
      "text/latex": [
       "\\begin{enumerate*}\n",
       "\\item 22.5530432721855\n",
       "\\item 20.6938637526368\n",
       "\\item 21.7626837407729\n",
       "\\item 23.5500423832553\n",
       "\\item 23.5233268653233\n",
       "\\item 22.6005953773924\n",
       "\\end{enumerate*}\n"
      ],
      "text/markdown": [
       "1. 22.5530432721855\n",
       "2. 20.6938637526368\n",
       "3. 21.7626837407729\n",
       "4. 23.5500423832553\n",
       "5. 23.5233268653233\n",
       "6. 22.6005953773924\n",
       "\n",
       "\n"
      ],
      "text/plain": [
       "[1] 22.55304 20.69386 21.76268 23.55004 23.52333 22.60060"
      ]
     },
     "metadata": {},
     "output_type": "display_data"
    }
   ],
   "source": [
    "gen.dist <- dist(x = bft, method = \"euclidean\", diag=TRUE, upper=TRUE)\n",
    "head(gen.dist)"
   ]
  },
  {
   "cell_type": "markdown",
   "metadata": {},
   "source": [
    "## AMOVA year/locality"
   ]
  },
  {
   "cell_type": "code",
   "execution_count": 31,
   "metadata": {
    "vscode": {
     "languageId": "r"
    }
   },
   "outputs": [],
   "source": [
    "set.seed(6969)"
   ]
  },
  {
   "cell_type": "code",
   "execution_count": 29,
   "metadata": {
    "vscode": {
     "languageId": "r"
    }
   },
   "outputs": [
    {
     "data": {
      "text/plain": [
       "$call\n",
       "ade4::amova(samples = xtab, distances = xdist, structures = xstruct)\n",
       "\n",
       "$results\n",
       "                             Df     Sum Sq  Mean Sq\n",
       "Between year                  3   35.84913 11.94971\n",
       "Between samples Within year  10  119.71243 11.97124\n",
       "Within samples              312 3488.81871 11.18211\n",
       "Total                       325 3644.38027 11.21348\n",
       "\n",
       "$componentsofcovariance\n",
       "                                               Sigma            %\n",
       "Variations  Between year                -0.002156536  -0.01922815\n",
       "Variations  Between samples Within year  0.035563181   0.31708907\n",
       "Variations  Within samples              11.182111264  99.70213908\n",
       "Total variations                        11.215517909 100.00000000\n",
       "\n",
       "$statphi\n",
       "                            Phi\n",
       "Phi-samples-total  0.0029786092\n",
       "Phi-samples-year   0.0031702811\n",
       "Phi-year-total    -0.0001922815\n"
      ]
     },
     "metadata": {},
     "output_type": "display_data"
    }
   ],
   "source": [
    "amv.yr.loc <- poppr.amova(bft, hier = ~year/locality, dist = gen.dist, squared = TRUE, within = FALSE, quiet = T, cutoff = 0.1)\n",
    "amv.yr.loc"
   ]
  },
  {
   "cell_type": "markdown",
   "metadata": {},
   "source": [
    "### Test for significance"
   ]
  },
  {
   "cell_type": "code",
   "execution_count": 32,
   "metadata": {
    "vscode": {
     "languageId": "r"
    }
   },
   "outputs": [
    {
     "data": {
      "text/plain": [
       "class: krandtest lightkrandtest \n",
       "Monte-Carlo tests\n",
       "Call: randtest.amova(xtest = amv.yr.loc, nrepet = 999)\n",
       "\n",
       "Number of tests:   3 \n",
       "\n",
       "Adjustment method for multiple comparisons:   none \n",
       "Permutation number:   999 \n",
       "                        Test          Obs    Std.Obs   Alter Pvalue\n",
       "1  Variations within samples 11.182111264 -7.2599402    less  0.001\n",
       "2 Variations between samples  0.035563181  6.2238183 greater  0.001\n",
       "3    Variations between year -0.002156536 -0.2616156 greater  0.554\n"
      ]
     },
     "metadata": {},
     "output_type": "display_data"
    }
   ],
   "source": [
    "signif.yr.loc <- randtest(amv.yr.loc, nrepet = 999)\n",
    "signif.yr.loc"
   ]
  },
  {
   "cell_type": "code",
   "execution_count": 28,
   "metadata": {
    "vscode": {
     "languageId": "r"
    }
   },
   "outputs": [
    {
     "data": {
      "image/png": "[encoded data removed]",
      "text/plain": [
       "Plot with title \"Variations between year\""
      ]
     },
     "metadata": {
      "image/png": {
       "height": 420,
       "width": 420
      }
     },
     "output_type": "display_data"
    }
   ],
   "source": [
    "plot(signif.yr.loc)"
   ]
  },
  {
   "cell_type": "markdown",
   "metadata": {},
   "source": [
    "## AMOVA year/region"
   ]
  },
  {
   "cell_type": "code",
   "execution_count": 30,
   "metadata": {
    "vscode": {
     "languageId": "r"
    }
   },
   "outputs": [
    {
     "data": {
      "text/plain": [
       "$call\n",
       "ade4::amova(samples = xtab, distances = xdist, structures = xstruct)\n",
       "\n",
       "$results\n",
       "                             Df     Sum Sq  Mean Sq\n",
       "Between year                  3   35.84913 11.94971\n",
       "Between samples Within year   6   72.00899 12.00150\n",
       "Within samples              316 3536.52215 11.19153\n",
       "Total                       325 3644.38027 11.21348\n",
       "\n",
       "$componentsofcovariance\n",
       "                                               Sigma            %\n",
       "Variations  Between year                -0.002121116  -0.01891087\n",
       "Variations  Between samples Within year  0.026983384   0.24057106\n",
       "Variations  Within samples              11.191525804  99.77833981\n",
       "Total variations                        11.216388071 100.00000000\n",
       "\n",
       "$statphi\n",
       "                            Phi\n",
       "Phi-samples-total  0.0022166019\n",
       "Phi-samples-year   0.0024052558\n",
       "Phi-year-total    -0.0001891087\n"
      ]
     },
     "metadata": {},
     "output_type": "display_data"
    }
   ],
   "source": [
    "amv.yr.reg <- poppr.amova(bft, hier = ~year/region, dist = gen.dist, squared = TRUE, within = FALSE, quiet = T, cutoff = 0.1)\n",
    "amv.yr.reg"
   ]
  },
  {
   "cell_type": "markdown",
   "metadata": {},
   "source": [
    "### Test for signficance"
   ]
  },
  {
   "cell_type": "code",
   "execution_count": 33,
   "metadata": {
    "vscode": {
     "languageId": "r"
    }
   },
   "outputs": [
    {
     "data": {
      "text/plain": [
       "class: krandtest lightkrandtest \n",
       "Monte-Carlo tests\n",
       "Call: randtest.amova(xtest = amv.yr.reg, nrepet = 999)\n",
       "\n",
       "Number of tests:   3 \n",
       "\n",
       "Adjustment method for multiple comparisons:   none \n",
       "Permutation number:   999 \n",
       "                        Test          Obs   Std.Obs   Alter Pvalue\n",
       "1  Variations within samples 11.191525804 -6.068112    less  0.001\n",
       "2 Variations between samples  0.026983384  4.860602 greater  0.001\n",
       "3    Variations between year -0.002121116  0.107475 greater  0.379\n"
      ]
     },
     "metadata": {},
     "output_type": "display_data"
    }
   ],
   "source": [
    "signif.yr.reg <- randtest(amv.yr.reg, nrepet = 999)\n",
    "signif.yr.reg"
   ]
  },
  {
   "cell_type": "code",
   "execution_count": 34,
   "metadata": {
    "vscode": {
     "languageId": "r"
    }
   },
   "outputs": [
    {
     "data": {
      "image/png": "[encoded data removed]",
      "text/plain": [
       "Plot with title \"Variations between year\""
      ]
     },
     "metadata": {
      "image/png": {
       "height": 420,
       "width": 420
      }
     },
     "output_type": "display_data"
    }
   ],
   "source": [
    "plot(signif.yr.reg)"
   ]
  },
  {
   "cell_type": "markdown",
   "metadata": {},
   "source": [
    "## AMOVA locality/year/region"
   ]
  },
  {
   "cell_type": "code",
   "execution_count": 38,
   "metadata": {
    "vscode": {
     "languageId": "r"
    }
   },
   "outputs": [
    {
     "data": {
      "text/plain": [
       "$call\n",
       "ade4::amova(samples = xtab, distances = xdist, structures = xstruct)\n",
       "\n",
       "$results\n",
       "                             Df     Sum Sq  Mean Sq\n",
       "Between region                3   34.91572 11.63857\n",
       "Between year Within region    6   72.94240 12.15707\n",
       "Between samples Within year   4   47.70344 11.92586\n",
       "Within samples              312 3488.81871 11.18211\n",
       "Total                       325 3644.38027 11.21348\n",
       "\n",
       "$componentsofcovariance\n",
       "                                               Sigma            %\n",
       "Variations  Between region              -0.008397013  -0.07487514\n",
       "Variations  Between year Within region   0.009099021   0.08113486\n",
       "Variations  Between samples Within year  0.031874179   0.28421816\n",
       "Variations  Within samples              11.182111264  99.70952212\n",
       "Total variations                        11.214687450 100.00000000\n",
       "\n",
       "$statphi\n",
       "                            Phi\n",
       "Phi-samples-total  0.0029047788\n",
       "Phi-samples-year   0.0028423596\n",
       "Phi-year-region    0.0008107415\n",
       "Phi-region-total  -0.0007487514\n"
      ]
     },
     "metadata": {},
     "output_type": "display_data"
    }
   ],
   "source": [
    "amv.loc.yr.reg <- poppr.amova(bft, hier = ~region/year/locality, dist = gen.dist, squared = TRUE, within = FALSE, quiet = T, cutoff = 0.1)\n",
    "amv.loc.yr.reg"
   ]
  },
  {
   "cell_type": "markdown",
   "metadata": {},
   "source": [
    "### Test for significance"
   ]
  },
  {
   "cell_type": "code",
   "execution_count": 39,
   "metadata": {
    "vscode": {
     "languageId": "r"
    }
   },
   "outputs": [
    {
     "data": {
      "text/plain": [
       "class: krandtest lightkrandtest \n",
       "Monte-Carlo tests\n",
       "Call: randtest.amova(xtest = amv.loc.yr.reg, nrepet = 999)\n",
       "\n",
       "Number of tests:   4 \n",
       "\n",
       "Adjustment method for multiple comparisons:   none \n",
       "Permutation number:   999 \n",
       "                        Test          Obs    Std.Obs   Alter Pvalue\n",
       "1  Variations within samples 11.182111264 -7.3681892    less  0.001\n",
       "2 Variations between samples  0.031874179  3.9563642 greater  0.001\n",
       "3    Variations between year  0.009099021  0.4016072 greater  0.382\n",
       "4  Variations between region -0.008397013 -1.2580347 greater  0.906\n"
      ]
     },
     "metadata": {},
     "output_type": "display_data"
    }
   ],
   "source": [
    "signif.loc.yr.reg <- randtest(amv.loc.yr.reg, nrepet = 999)\n",
    "signif.loc.yr.reg"
   ]
  },
  {
   "cell_type": "code",
   "execution_count": 40,
   "metadata": {
    "vscode": {
     "languageId": "r"
    }
   },
   "outputs": [
    {
     "data": {
      "image/png": "[encoded data removed]",
      "text/plain": [
       "Plot with title \"Variations between region\""
      ]
     },
     "metadata": {
      "image/png": {
       "height": 420,
       "width": 420
      }
     },
     "output_type": "display_data"
    }
   ],
   "source": [
    "plot(signif.loc.yr.reg)"
   ]
  }
 ],
 "metadata": {
  "kernelspec": {
   "display_name": "R",
   "language": "R",
   "name": "ir"
  },
  "language_info": {
   "name": "R"
  },
  "orig_nbformat": 4
 },
 "nbformat": 4,
 "nbformat_minor": 2
}

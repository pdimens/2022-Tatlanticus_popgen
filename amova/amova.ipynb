{
 "cells": [
  {
   "cell_type": "markdown",
   "metadata": {},
   "source": [
    "# Analysis of Molecular Variance"
   ]
  },
  {
   "cell_type": "code",
   "execution_count": 14,
   "metadata": {
    "vscode": {
     "languageId": "r"
    }
   },
   "outputs": [],
   "source": [
    "library(adegenet)\n",
    "library(poppr)\n",
    "set.seed(6969)"
   ]
  },
  {
   "cell_type": "code",
   "execution_count": 2,
   "metadata": {
    "vscode": {
     "languageId": "r"
    }
   },
   "outputs": [],
   "source": [
    "infile <- \"../inputfiles/bft.kinless.gen\"\n",
    "bft <- read.genepop(infile, ncode = 3L, quiet = T)\n",
    "metadata <- read.csv(\"../inputfiles/bft.strata\", sep = \",\", header = T)\n",
    "names(metadata) <- c(\"name\", \"year\",\"ignore1\", \"ignore2\",\"region\",\"locality\", \"lat\", \"long\")"
   ]
  },
  {
   "cell_type": "markdown",
   "metadata": {},
   "source": [
    "Add the proper strata into the `@other` slot in the Genind"
   ]
  },
  {
   "cell_type": "code",
   "execution_count": 3,
   "metadata": {
    "vscode": {
     "languageId": "r"
    }
   },
   "outputs": [
    {
     "data": {
      "text/html": [
       "<table class=\"dataframe\">\n",
       "<caption>A data.frame: 6 × 4</caption>\n",
       "<thead>\n",
       "\t<tr><th></th><th scope=col>name</th><th scope=col>year</th><th scope=col>region</th><th scope=col>locality</th></tr>\n",
       "\t<tr><th></th><th scope=col>&lt;fct&gt;</th><th scope=col>&lt;fct&gt;</th><th scope=col>&lt;fct&gt;</th><th scope=col>&lt;fct&gt;</th></tr>\n",
       "</thead>\n",
       "<tbody>\n",
       "\t<tr><th scope=row>1</th><td>BRZ_1261</td><td>2016</td><td>BRZ</td><td>BRZ</td></tr>\n",
       "\t<tr><th scope=row>2</th><td>BRZ_1269</td><td>2016</td><td>BRZ</td><td>BRZ</td></tr>\n",
       "\t<tr><th scope=row>3</th><td>BRZ_1270</td><td>2016</td><td>BRZ</td><td>BRZ</td></tr>\n",
       "\t<tr><th scope=row>4</th><td>BRZ_1271</td><td>2016</td><td>BRZ</td><td>BRZ</td></tr>\n",
       "\t<tr><th scope=row>5</th><td>BRZ_1275</td><td>2016</td><td>BRZ</td><td>BRZ</td></tr>\n",
       "\t<tr><th scope=row>6</th><td>BRZ_1276</td><td>2016</td><td>BRZ</td><td>BRZ</td></tr>\n",
       "</tbody>\n",
       "</table>\n"
      ],
      "text/latex": [
       "A data.frame: 6 × 4\n",
       "\\begin{tabular}{r|llll}\n",
       "  & name & year & region & locality\\\\\n",
       "  & <fct> & <fct> & <fct> & <fct>\\\\\n",
       "\\hline\n",
       "\t1 & BRZ\\_1261 & 2016 & BRZ & BRZ\\\\\n",
       "\t2 & BRZ\\_1269 & 2016 & BRZ & BRZ\\\\\n",
       "\t3 & BRZ\\_1270 & 2016 & BRZ & BRZ\\\\\n",
       "\t4 & BRZ\\_1271 & 2016 & BRZ & BRZ\\\\\n",
       "\t5 & BRZ\\_1275 & 2016 & BRZ & BRZ\\\\\n",
       "\t6 & BRZ\\_1276 & 2016 & BRZ & BRZ\\\\\n",
       "\\end{tabular}\n"
      ],
      "text/markdown": [
       "\n",
       "A data.frame: 6 × 4\n",
       "\n",
       "| <!--/--> | name &lt;fct&gt; | year &lt;fct&gt; | region &lt;fct&gt; | locality &lt;fct&gt; |\n",
       "|---|---|---|---|---|\n",
       "| 1 | BRZ_1261 | 2016 | BRZ | BRZ |\n",
       "| 2 | BRZ_1269 | 2016 | BRZ | BRZ |\n",
       "| 3 | BRZ_1270 | 2016 | BRZ | BRZ |\n",
       "| 4 | BRZ_1271 | 2016 | BRZ | BRZ |\n",
       "| 5 | BRZ_1275 | 2016 | BRZ | BRZ |\n",
       "| 6 | BRZ_1276 | 2016 | BRZ | BRZ |\n",
       "\n"
      ],
      "text/plain": [
       "  name     year region locality\n",
       "1 BRZ_1261 2016 BRZ    BRZ     \n",
       "2 BRZ_1269 2016 BRZ    BRZ     \n",
       "3 BRZ_1270 2016 BRZ    BRZ     \n",
       "4 BRZ_1271 2016 BRZ    BRZ     \n",
       "5 BRZ_1275 2016 BRZ    BRZ     \n",
       "6 BRZ_1276 2016 BRZ    BRZ     "
      ]
     },
     "metadata": {},
     "output_type": "display_data"
    }
   ],
   "source": [
    "strata(bft) <- metadata[,c(-3, -4, -7, -8)]\n",
    "head(strata(bft))"
   ]
  },
  {
   "cell_type": "markdown",
   "metadata": {},
   "source": [
    "## Generate genetic distances"
   ]
  },
  {
   "cell_type": "code",
   "execution_count": 4,
   "metadata": {
    "vscode": {
     "languageId": "r"
    }
   },
   "outputs": [
    {
     "data": {
      "text/html": [
       "<style>\n",
       ".list-inline {list-style: none; margin:0; padding: 0}\n",
       ".list-inline>li {display: inline-block}\n",
       ".list-inline>li:not(:last-child)::after {content: \"\\00b7\"; padding: 0 .5ex}\n",
       "</style>\n",
       "<ol class=list-inline><li>26.9308042698966</li><li>25.787309213171</li><li>26.9786327053669</li><li>28.1719028217351</li><li>28.3895580051079</li><li>28.1018277926317</li></ol>\n"
      ],
      "text/latex": [
       "\\begin{enumerate*}\n",
       "\\item 26.9308042698966\n",
       "\\item 25.787309213171\n",
       "\\item 26.9786327053669\n",
       "\\item 28.1719028217351\n",
       "\\item 28.3895580051079\n",
       "\\item 28.1018277926317\n",
       "\\end{enumerate*}\n"
      ],
      "text/markdown": [
       "1. 26.9308042698966\n",
       "2. 25.787309213171\n",
       "3. 26.9786327053669\n",
       "4. 28.1719028217351\n",
       "5. 28.3895580051079\n",
       "6. 28.1018277926317\n",
       "\n",
       "\n"
      ],
      "text/plain": [
       "[1] 26.93080 25.78731 26.97863 28.17190 28.38956 28.10183"
      ]
     },
     "metadata": {},
     "output_type": "display_data"
    }
   ],
   "source": [
    "gen.dist <- dist(x = bft, method = \"euclidean\", diag=TRUE, upper=TRUE)\n",
    "head(gen.dist)"
   ]
  },
  {
   "cell_type": "markdown",
   "metadata": {},
   "source": [
    "## AMOVA locality/year"
   ]
  },
  {
   "cell_type": "code",
   "execution_count": 5,
   "metadata": {
    "vscode": {
     "languageId": "r"
    }
   },
   "outputs": [
    {
     "data": {
      "text/plain": [
       "$call\n",
       "ade4::amova(samples = xtab, distances = xdist, structures = xstruct)\n",
       "\n",
       "$results\n",
       "                                 Df     Sum Sq  Mean Sq\n",
       "Between locality                  8  118.59321 14.82415\n",
       "Between samples Within locality   5   72.05354 14.41071\n",
       "Within samples                  310 4231.48419 13.64995\n",
       "Total                           323 4422.13094 13.69081\n",
       "\n",
       "$componentsofcovariance\n",
       "                                                   Sigma            %\n",
       "Variations  Between locality                 0.006010593   0.04389028\n",
       "Variations  Between samples Within locality  0.038629795   0.28208071\n",
       "Variations  Within samples                  13.649948994  99.67402901\n",
       "Total variations                            13.694589382 100.00000000\n",
       "\n",
       "$statphi\n",
       "                              Phi\n",
       "Phi-samples-total    0.0032597099\n",
       "Phi-samples-locality 0.0028220457\n",
       "Phi-locality-total   0.0004389028\n"
      ]
     },
     "metadata": {},
     "output_type": "display_data"
    }
   ],
   "source": [
    "amv.yr.loc <- poppr.amova(bft, hier = ~locality/year, dist = gen.dist, squared = TRUE, within = FALSE, quiet = T, cutoff = 0.1)\n",
    "amv.yr.loc"
   ]
  },
  {
   "cell_type": "markdown",
   "metadata": {},
   "source": [
    "### Test for significance"
   ]
  },
  {
   "cell_type": "code",
   "execution_count": 6,
   "metadata": {
    "vscode": {
     "languageId": "r"
    }
   },
   "outputs": [
    {
     "data": {
      "text/plain": [
       "class: krandtest lightkrandtest \n",
       "Monte-Carlo tests\n",
       "Call: randtest.amova(xtest = amv.yr.loc, nrepet = 999)\n",
       "\n",
       "Number of tests:   3 \n",
       "\n",
       "Adjustment method for multiple comparisons:   none \n",
       "Permutation number:   999 \n",
       "                         Test          Obs   Std.Obs   Alter Pvalue\n",
       "1   Variations within samples 13.649948994 -8.728761    less  0.001\n",
       "2  Variations between samples  0.038629795  4.027994 greater  0.001\n",
       "3 Variations between locality  0.006010593  0.450219 greater  0.334\n"
      ]
     },
     "metadata": {},
     "output_type": "display_data"
    }
   ],
   "source": [
    "signif.yr.loc <- randtest(amv.yr.loc, nrepet = 999)\n",
    "signif.yr.loc"
   ]
  },
  {
   "cell_type": "code",
   "execution_count": 7,
   "metadata": {
    "vscode": {
     "languageId": "r"
    }
   },
   "outputs": [
    {
     "data": {
      "image/png": "[encoded data removed]",
      "text/plain": [
       "Plot with title \"Variations between locality\""
      ]
     },
     "metadata": {
      "image/png": {
       "height": 420,
       "width": 420
      }
     },
     "output_type": "display_data"
    }
   ],
   "source": [
    "plot(signif.yr.loc)"
   ]
  },
  {
   "cell_type": "markdown",
   "metadata": {},
   "source": [
    "## AMOVA region/year"
   ]
  },
  {
   "cell_type": "code",
   "execution_count": 8,
   "metadata": {
    "vscode": {
     "languageId": "r"
    }
   },
   "outputs": [
    {
     "data": {
      "text/plain": [
       "$call\n",
       "ade4::amova(samples = xtab, distances = xdist, structures = xstruct)\n",
       "\n",
       "$results\n",
       "                               Df     Sum Sq  Mean Sq\n",
       "Between region                  3   43.07107 14.35702\n",
       "Between samples Within region   6   88.83459 14.80576\n",
       "Within samples                314 4290.22528 13.66314\n",
       "Total                         323 4422.13094 13.69081\n",
       "\n",
       "$componentsofcovariance\n",
       "                                                Sigma            %\n",
       "Variations  Between region                -0.01073485  -0.07839626\n",
       "Variations  Between samples Within region  0.04066702   0.29698980\n",
       "Variations  Within samples                13.66313784  99.78140646\n",
       "Total variations                          13.69307000 100.00000000\n",
       "\n",
       "$statphi\n",
       "                             Phi\n",
       "Phi-samples-total   0.0021859354\n",
       "Phi-samples-region  0.0029675715\n",
       "Phi-region-total   -0.0007839626\n"
      ]
     },
     "metadata": {},
     "output_type": "display_data"
    }
   ],
   "source": [
    "amv.yr.reg <- poppr.amova(bft, hier = ~region/year, dist = gen.dist, squared = TRUE, within = FALSE, quiet = T, cutoff = 0.1)\n",
    "amv.yr.reg"
   ]
  },
  {
   "cell_type": "markdown",
   "metadata": {},
   "source": [
    "### Test for signficance"
   ]
  },
  {
   "cell_type": "code",
   "execution_count": 9,
   "metadata": {
    "vscode": {
     "languageId": "r"
    }
   },
   "outputs": [
    {
     "data": {
      "text/plain": [
       "class: krandtest lightkrandtest \n",
       "Monte-Carlo tests\n",
       "Call: randtest.amova(xtest = amv.yr.reg, nrepet = 999)\n",
       "\n",
       "Number of tests:   3 \n",
       "\n",
       "Adjustment method for multiple comparisons:   none \n",
       "Permutation number:   999 \n",
       "                        Test         Obs   Std.Obs   Alter Pvalue\n",
       "1  Variations within samples 13.66313784 -7.303309    less  0.001\n",
       "2 Variations between samples  0.04066702  6.845220 greater  0.001\n",
       "3  Variations between region -0.01073485 -1.206922 greater  0.882\n"
      ]
     },
     "metadata": {},
     "output_type": "display_data"
    }
   ],
   "source": [
    "signif.yr.reg <- randtest(amv.yr.reg, nrepet = 999)\n",
    "signif.yr.reg"
   ]
  },
  {
   "cell_type": "code",
   "execution_count": 10,
   "metadata": {
    "vscode": {
     "languageId": "r"
    }
   },
   "outputs": [
    {
     "data": {
      "image/png": "[encoded data removed]",
      "text/plain": [
       "Plot with title \"Variations between region\""
      ]
     },
     "metadata": {
      "image/png": {
       "height": 420,
       "width": 420
      }
     },
     "output_type": "display_data"
    }
   ],
   "source": [
    "plot(signif.yr.reg)"
   ]
  },
  {
   "cell_type": "markdown",
   "metadata": {},
   "source": [
    "## AMOVA region/locality/year"
   ]
  },
  {
   "cell_type": "code",
   "execution_count": 11,
   "metadata": {
    "vscode": {
     "languageId": "r"
    }
   },
   "outputs": [
    {
     "data": {
      "text/plain": [
       "$call\n",
       "ade4::amova(samples = xtab, distances = xdist, structures = xstruct)\n",
       "\n",
       "$results\n",
       "                                 Df     Sum Sq  Mean Sq\n",
       "Between region                    3   43.07107 14.35702\n",
       "Between locality Within region    5   75.52214 15.10443\n",
       "Between samples Within locality   5   72.05354 14.41071\n",
       "Within samples                  310 4231.48419 13.64995\n",
       "Total                           323 4422.13094 13.69081\n",
       "\n",
       "$componentsofcovariance\n",
       "                                                   Sigma            %\n",
       "Variations  Between region                  -0.009489275  -0.06930196\n",
       "Variations  Between locality Within region   0.013561773   0.09904417\n",
       "Variations  Between samples Within locality  0.038629795   0.28212064\n",
       "Variations  Within samples                  13.649948994  99.68813715\n",
       "Total variations                            13.692651286 100.00000000\n",
       "\n",
       "$statphi\n",
       "                               Phi\n",
       "Phi-samples-total     0.0031186285\n",
       "Phi-samples-locality  0.0028220457\n",
       "Phi-locality-region   0.0009897558\n",
       "Phi-region-total     -0.0006930196\n"
      ]
     },
     "metadata": {},
     "output_type": "display_data"
    }
   ],
   "source": [
    "amv.loc.yr.reg <- poppr.amova(bft, hier = ~region/locality/year, dist = gen.dist, squared = TRUE, within = FALSE, quiet = T, cutoff = 0.1)\n",
    "amv.loc.yr.reg"
   ]
  },
  {
   "cell_type": "markdown",
   "metadata": {},
   "source": [
    "### Test for significance"
   ]
  },
  {
   "cell_type": "code",
   "execution_count": 12,
   "metadata": {
    "vscode": {
     "languageId": "r"
    }
   },
   "outputs": [
    {
     "data": {
      "text/plain": [
       "class: krandtest lightkrandtest \n",
       "Monte-Carlo tests\n",
       "Call: randtest.amova(xtest = amv.loc.yr.reg, nrepet = 999)\n",
       "\n",
       "Number of tests:   4 \n",
       "\n",
       "Adjustment method for multiple comparisons:   none \n",
       "Permutation number:   999 \n",
       "                         Test          Obs    Std.Obs   Alter Pvalue\n",
       "1   Variations within samples 13.649948994 -9.0925380    less  0.001\n",
       "2  Variations between samples  0.038629795  4.0412265 greater  0.001\n",
       "3 Variations between locality  0.013561773  0.4996777 greater  0.379\n",
       "4   Variations between region -0.009489275 -0.8322270 greater  0.815\n"
      ]
     },
     "metadata": {},
     "output_type": "display_data"
    }
   ],
   "source": [
    "signif.loc.yr.reg <- randtest(amv.loc.yr.reg, nrepet = 999)\n",
    "signif.loc.yr.reg"
   ]
  },
  {
   "cell_type": "code",
   "execution_count": 13,
   "metadata": {
    "vscode": {
     "languageId": "r"
    }
   },
   "outputs": [
    {
     "data": {
      "image/png": "[encoded data removed]",
      "text/plain": [
       "Plot with title \"Variations between region\""
      ]
     },
     "metadata": {
      "image/png": {
       "height": 420,
       "width": 420
      }
     },
     "output_type": "display_data"
    }
   ],
   "source": [
    "plot(signif.loc.yr.reg)"
   ]
  }
 ],
 "metadata": {
  "kernelspec": {
   "display_name": "R",
   "language": "R",
   "name": "ir"
  },
  "language_info": {
   "codemirror_mode": "r",
   "file_extension": ".r",
   "mimetype": "text/x-r-source",
   "name": "R",
   "pygments_lexer": "r",
   "version": "4.1.2"
  },
  "orig_nbformat": 4
 },
 "nbformat": 4,
 "nbformat_minor": 2
}
